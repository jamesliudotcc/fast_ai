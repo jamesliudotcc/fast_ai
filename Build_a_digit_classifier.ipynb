{
  "nbformat": 4,
  "nbformat_minor": 0,
  "metadata": {
    "colab": {
      "provenance": [],
      "authorship_tag": "ABX9TyNh5uyUUbEJZbImDf41bhNF",
      "include_colab_link": true
    },
    "kernelspec": {
      "name": "python3",
      "display_name": "Python 3"
    },
    "language_info": {
      "name": "python"
    }
  },
  "cells": [
    {
      "cell_type": "markdown",
      "metadata": {
        "id": "view-in-github",
        "colab_type": "text"
      },
      "source": [
        "<a href=\"https://colab.research.google.com/github/jamesliudotcc/fast_ai/blob/main/Build_a_digit_classifier.ipynb\" target=\"_parent\"><img src=\"https://colab.research.google.com/assets/colab-badge.svg\" alt=\"Open In Colab\"/></a>"
      ]
    },
    {
      "cell_type": "code",
      "execution_count": null,
      "metadata": {
        "id": "nvFiwJENmnXR"
      },
      "outputs": [],
      "source": [
        "!pip install -Uqq fastai"
      ]
    },
    {
      "cell_type": "code",
      "source": [
        "from fastai.vision.all import *"
      ],
      "metadata": {
        "id": "3MQagfePRnvR"
      },
      "execution_count": null,
      "outputs": []
    },
    {
      "cell_type": "code",
      "source": [
        "path = untar_data(URLs.MNIST_SAMPLE)"
      ],
      "metadata": {
        "id": "_6u8h7gQTCFc",
        "colab": {
          "base_uri": "https://localhost:8080/",
          "height": 37
        },
        "outputId": "89f6e00a-caf7-4dc9-8489-2697be113464"
      },
      "execution_count": null,
      "outputs": [
        {
          "output_type": "display_data",
          "data": {
            "text/plain": [
              "<IPython.core.display.HTML object>"
            ],
            "text/html": [
              "\n",
              "<style>\n",
              "    /* Turns off some styling */\n",
              "    progress {\n",
              "        /* gets rid of default border in Firefox and Opera. */\n",
              "        border: none;\n",
              "        /* Needs to be in here for Safari polyfill so background images work as expected. */\n",
              "        background-size: auto;\n",
              "    }\n",
              "    progress:not([value]), progress:not([value])::-webkit-progress-bar {\n",
              "        background: repeating-linear-gradient(45deg, #7e7e7e, #7e7e7e 10px, #5c5c5c 10px, #5c5c5c 20px);\n",
              "    }\n",
              "    .progress-bar-interrupted, .progress-bar-interrupted::-webkit-progress-bar {\n",
              "        background: #F44336;\n",
              "    }\n",
              "</style>\n"
            ]
          },
          "metadata": {}
        },
        {
          "output_type": "display_data",
          "data": {
            "text/plain": [
              "<IPython.core.display.HTML object>"
            ],
            "text/html": [
              "\n",
              "    <div>\n",
              "      <progress value='3219456' class='' max='3214948' style='width:300px; height:20px; vertical-align: middle;'></progress>\n",
              "      100.14% [3219456/3214948 00:00&lt;00:00]\n",
              "    </div>\n",
              "    "
            ]
          },
          "metadata": {}
        }
      ]
    },
    {
      "cell_type": "code",
      "source": [
        "path.ls()"
      ],
      "metadata": {
        "colab": {
          "base_uri": "https://localhost:8080/"
        },
        "id": "YUNtXNYlTN-4",
        "outputId": "aaa67bec-877c-481a-f740-4a967d50b270"
      },
      "execution_count": null,
      "outputs": [
        {
          "output_type": "execute_result",
          "data": {
            "text/plain": [
              "(#3) [Path('/root/.fastai/data/mnist_sample/train'),Path('/root/.fastai/data/mnist_sample/labels.csv'),Path('/root/.fastai/data/mnist_sample/valid')]"
            ]
          },
          "metadata": {},
          "execution_count": 5
        }
      ]
    },
    {
      "cell_type": "code",
      "source": [
        "(path/\"train\").ls()"
      ],
      "metadata": {
        "id": "CLIWZ-gYbyhw",
        "outputId": "b415b905-6830-45de-8ade-3895c6ac2da5",
        "colab": {
          "base_uri": "https://localhost:8080/"
        }
      },
      "execution_count": null,
      "outputs": [
        {
          "output_type": "execute_result",
          "data": {
            "text/plain": [
              "(#2) [Path('/root/.fastai/data/mnist_sample/train/3'),Path('/root/.fastai/data/mnist_sample/train/7')]"
            ]
          },
          "metadata": {},
          "execution_count": 6
        }
      ]
    },
    {
      "cell_type": "code",
      "source": [
        "threes = (path/\"train\"/\"3\").ls().sorted()\n",
        "sevens = (path/\"train\"/\"7\").ls().sorted()"
      ],
      "metadata": {
        "id": "swtgWpcVnedT"
      },
      "execution_count": null,
      "outputs": []
    },
    {
      "cell_type": "code",
      "source": [
        "im3_path = threes[1]\n",
        "im3 = Image.open(im3_path)  # Image is PIL.Image\n",
        "im3"
      ],
      "metadata": {
        "colab": {
          "base_uri": "https://localhost:8080/",
          "height": 45
        },
        "id": "nyILUNZ4oOHB",
        "outputId": "08fde862-be4e-4d7d-f6af-29fb5a0fa679"
      },
      "execution_count": null,
      "outputs": [
        {
          "output_type": "execute_result",
          "data": {
            "text/plain": [
              "<PIL.PngImagePlugin.PngImageFile image mode=L size=28x28>"
            ],
            "image/png": "[encoded data removed]"
          },
          "metadata": {},
          "execution_count": 8
        }
      ]
    },
    {
      "cell_type": "code",
      "source": [
        "array(im3)[:, 8:-8] # whole height, truncate the width to fit."
      ],
      "metadata": {
        "colab": {
          "base_uri": "https://localhost:8080/"
        },
        "id": "Z1G1HzKtpHUl",
        "outputId": "ef7d6d3a-a681-471c-83db-263594780cb2"
      },
      "execution_count": null,
      "outputs": [
        {
          "output_type": "execute_result",
          "data": {
            "text/plain": [
              "array([[  0,   0,   0,   0,   0,   0,   0,   0,   0,   0,   0,   0],\n",
              "       [  0,   0,   0,   0,   0,   0,   0,   0,   0,   0,   0,   0],\n",
              "       [  0,   0,   0,   0,   0,   0,   0,   0,   0,   0,   0,   0],\n",
              "       [  0,   0,   0,   0,   0,   0,   0,   0,   0,   0,   0,   0],\n",
              "       [  0,   0,   0,   0,   0,   0,   0,   0,   0,   0,   0,   0],\n",
              "       [  0,  29, 150, 195, 254, 255, 254, 176, 193, 150,  96,   0],\n",
              "       [166, 224, 253, 253, 234, 196, 253, 253, 253, 253, 233,   0],\n",
              "       [253, 187,  46,  10,   8,   4,  10, 194, 253, 253, 233,   0],\n",
              "       [230,  48,   0,   0,   0,   0,   0, 192, 253, 253, 156,   0],\n",
              "       [ 15,   0,   0,   0,   0,   0,  43, 224, 253, 245,  74,   0],\n",
              "       [  0,   0,   0,   0,   0,   0, 249, 253, 245, 126,   0,   0],\n",
              "       [  0,   0,   0,  14, 101, 223, 253, 248, 124,   0,   0,   0],\n",
              "       [  0,  11, 166, 239, 253, 253, 253, 187,  30,   0,   0,   0],\n",
              "       [  0,  16, 248, 250, 253, 253, 253, 253, 232, 213, 111,   2],\n",
              "       [  0,   0,   0,  43,  98,  98, 208, 253, 253, 253, 253, 187],\n",
              "       [  0,   0,   0,   0,   0,   0,   9,  51, 119, 253, 253, 253],\n",
              "       [  0,   0,   0,   0,   0,   0,   0,   0,   1, 183, 253, 253],\n",
              "       [  0,   0,   0,   0,   0,   0,   0,   0,   0, 182, 253, 253],\n",
              "       [  0,   0,   0,   0,   0,   0,   0,   0,  85, 249, 253, 253],\n",
              "       [  0,   0,   0,   0,   0,   0,   0,  60, 214, 253, 253, 173],\n",
              "       [  0,   0,   0,   0,   0,   0,  98, 247, 253, 253, 226,   9],\n",
              "       [  0,   0,   0,   0,  42, 150, 252, 253, 253, 233,  53,   0],\n",
              "       [ 42,  60, 115, 159, 240, 253, 253, 250, 175,  25,   0,   0],\n",
              "       [253, 253, 253, 253, 253, 253, 197,  86,   0,   0,   0,   0],\n",
              "       [253, 253, 253, 253, 232,  67,   1,   0,   0,   0,   0,   0],\n",
              "       [  0,   0,   0,   0,   0,   0,   0,   0,   0,   0,   0,   0],\n",
              "       [  0,   0,   0,   0,   0,   0,   0,   0,   0,   0,   0,   0],\n",
              "       [  0,   0,   0,   0,   0,   0,   0,   0,   0,   0,   0,   0]],\n",
              "      dtype=uint8)"
            ]
          },
          "metadata": {},
          "execution_count": 9
        }
      ]
    },
    {
      "cell_type": "code",
      "source": [
        "tensor(im3)[:, 8:-8] # whole height, truncate the width to fit."
      ],
      "metadata": {
        "colab": {
          "base_uri": "https://localhost:8080/"
        },
        "id": "tnc7HcVRpnFJ",
        "outputId": "a22a005d-c9f0-4e79-9205-1d81d5c1d052"
      },
      "execution_count": null,
      "outputs": [
        {
          "output_type": "execute_result",
          "data": {
            "text/plain": [
              "tensor([[  0,   0,   0,   0,   0,   0,   0,   0,   0,   0,   0,   0],\n",
              "        [  0,   0,   0,   0,   0,   0,   0,   0,   0,   0,   0,   0],\n",
              "        [  0,   0,   0,   0,   0,   0,   0,   0,   0,   0,   0,   0],\n",
              "        [  0,   0,   0,   0,   0,   0,   0,   0,   0,   0,   0,   0],\n",
              "        [  0,   0,   0,   0,   0,   0,   0,   0,   0,   0,   0,   0],\n",
              "        [  0,  29, 150, 195, 254, 255, 254, 176, 193, 150,  96,   0],\n",
              "        [166, 224, 253, 253, 234, 196, 253, 253, 253, 253, 233,   0],\n",
              "        [253, 187,  46,  10,   8,   4,  10, 194, 253, 253, 233,   0],\n",
              "        [230,  48,   0,   0,   0,   0,   0, 192, 253, 253, 156,   0],\n",
              "        [ 15,   0,   0,   0,   0,   0,  43, 224, 253, 245,  74,   0],\n",
              "        [  0,   0,   0,   0,   0,   0, 249, 253, 245, 126,   0,   0],\n",
              "        [  0,   0,   0,  14, 101, 223, 253, 248, 124,   0,   0,   0],\n",
              "        [  0,  11, 166, 239, 253, 253, 253, 187,  30,   0,   0,   0],\n",
              "        [  0,  16, 248, 250, 253, 253, 253, 253, 232, 213, 111,   2],\n",
              "        [  0,   0,   0,  43,  98,  98, 208, 253, 253, 253, 253, 187],\n",
              "        [  0,   0,   0,   0,   0,   0,   9,  51, 119, 253, 253, 253],\n",
              "        [  0,   0,   0,   0,   0,   0,   0,   0,   1, 183, 253, 253],\n",
              "        [  0,   0,   0,   0,   0,   0,   0,   0,   0, 182, 253, 253],\n",
              "        [  0,   0,   0,   0,   0,   0,   0,   0,  85, 249, 253, 253],\n",
              "        [  0,   0,   0,   0,   0,   0,   0,  60, 214, 253, 253, 173],\n",
              "        [  0,   0,   0,   0,   0,   0,  98, 247, 253, 253, 226,   9],\n",
              "        [  0,   0,   0,   0,  42, 150, 252, 253, 253, 233,  53,   0],\n",
              "        [ 42,  60, 115, 159, 240, 253, 253, 250, 175,  25,   0,   0],\n",
              "        [253, 253, 253, 253, 253, 253, 197,  86,   0,   0,   0,   0],\n",
              "        [253, 253, 253, 253, 232,  67,   1,   0,   0,   0,   0,   0],\n",
              "        [  0,   0,   0,   0,   0,   0,   0,   0,   0,   0,   0,   0],\n",
              "        [  0,   0,   0,   0,   0,   0,   0,   0,   0,   0,   0,   0],\n",
              "        [  0,   0,   0,   0,   0,   0,   0,   0,   0,   0,   0,   0]],\n",
              "       dtype=torch.uint8)"
            ]
          },
          "metadata": {},
          "execution_count": 10
        }
      ]
    },
    {
      "cell_type": "code",
      "source": [
        "seven_tensors = [tensor(Image.open(f)) for f in sevens]\n",
        "three_tensors = [tensor(Image.open(f)) for f in threes]\n",
        "len(three_tensors),len(seven_tensors)"
      ],
      "metadata": {
        "colab": {
          "base_uri": "https://localhost:8080/"
        },
        "id": "d91tQyQypRsW",
        "outputId": "5c5f3f2a-dfcf-4cc1-e0bd-399088e9d1dc"
      },
      "execution_count": null,
      "outputs": [
        {
          "output_type": "execute_result",
          "data": {
            "text/plain": [
              "(6131, 6265)"
            ]
          },
          "metadata": {},
          "execution_count": 11
        }
      ]
    },
    {
      "cell_type": "markdown",
      "source": [
        "I gave the following some thought, why would it work to .float() and /255? Because of broadcasting. If you apply a method like float that works on individual numbers, or do an arithmetic operation, it broadcasts. Ok, that was tripping me up. "
      ],
      "metadata": {
        "id": "JnC7TeEAultE"
      }
    },
    {
      "cell_type": "code",
      "source": [
        "stacked_sevens = torch.stack(seven_tensors).float()/255\n",
        "stacked_threes = torch.stack(three_tensors).float()/255\n",
        "\n",
        "stacked_threes.shape"
      ],
      "metadata": {
        "colab": {
          "base_uri": "https://localhost:8080/"
        },
        "id": "GHEVDpvmuJNA",
        "outputId": "b8cbb96d-6009-41a3-d3c0-ebedf035389c"
      },
      "execution_count": null,
      "outputs": [
        {
          "output_type": "execute_result",
          "data": {
            "text/plain": [
              "torch.Size([6131, 28, 28])"
            ]
          },
          "metadata": {},
          "execution_count": 12
        }
      ]
    },
    {
      "cell_type": "code",
      "source": [
        "mean3 = stacked_threes.mean(0)\n",
        "mean7 = stacked_sevens.mean(0)\n",
        "\n",
        "show_image(mean3),show_image(mean7)"
      ],
      "metadata": {
        "colab": {
          "base_uri": "https://localhost:8080/",
          "height": 228
        },
        "id": "uvQ7AaWnu87b",
        "outputId": "bf6a2f6a-0071-4bbe-9655-fd6cf80bf34b"
      },
      "execution_count": null,
      "outputs": [
        {
          "output_type": "execute_result",
          "data": {
            "text/plain": [
              "(<Axes: >, <Axes: >)"
            ]
          },
          "metadata": {},
          "execution_count": 13
        },
        {
          "output_type": "display_data",
          "data": {
            "text/plain": [
              "<Figure size 100x100 with 1 Axes>"
            ],
            "image/png": "[encoded data removed]"
          },
          "metadata": {}
        },
        {
          "output_type": "display_data",
          "data": {
            "text/plain": [
              "<Figure size 100x100 with 1 Axes>"
            ],
            "image/png": "[encoded data removed]"
          },
          "metadata": {}
        }
      ]
    },
    {
      "cell_type": "code",
      "source": [
        "show_image(mean3-mean7)"
      ],
      "metadata": {
        "colab": {
          "base_uri": "https://localhost:8080/",
          "height": 131
        },
        "id": "xPctJzP10ta6",
        "outputId": "3198a08f-7cb6-483f-c1b0-749a2c5cf330"
      },
      "execution_count": null,
      "outputs": [
        {
          "output_type": "execute_result",
          "data": {
            "text/plain": [
              "<Axes: >"
            ]
          },
          "metadata": {},
          "execution_count": 14
        },
        {
          "output_type": "display_data",
          "data": {
            "text/plain": [
              "<Figure size 100x100 with 1 Axes>"
            ],
            "image/png": "[encoded data removed]"
          },
          "metadata": {}
        }
      ]
    },
    {
      "cell_type": "code",
      "source": [
        "a_3 = stacked_threes[1]\n",
        "show_image(a_3)"
      ],
      "metadata": {
        "colab": {
          "base_uri": "https://localhost:8080/",
          "height": 131
        },
        "id": "kkttH3ENJGDT",
        "outputId": "9a632d23-c057-4816-fcf1-2938898a4be8"
      },
      "execution_count": null,
      "outputs": [
        {
          "output_type": "execute_result",
          "data": {
            "text/plain": [
              "<Axes: >"
            ]
          },
          "metadata": {},
          "execution_count": 15
        },
        {
          "output_type": "display_data",
          "data": {
            "text/plain": [
              "<Figure size 100x100 with 1 Axes>"
            ],
            "image/png": "[encoded data removed]"
          },
          "metadata": {}
        }
      ]
    },
    {
      "cell_type": "code",
      "source": [
        "dist_3_abs = (a_3 - mean3).abs().mean()\n",
        "dist_3_sqr = ((a_3 - mean3)**2).mean().sqrt()\n",
        "dist_3_abs, dist_3_sqr"
      ],
      "metadata": {
        "colab": {
          "base_uri": "https://localhost:8080/"
        },
        "id": "sO8EIbpTKtNa",
        "outputId": "88e6b074-d2fe-44d7-c63e-9d6ad25a02a1"
      },
      "execution_count": null,
      "outputs": [
        {
          "output_type": "execute_result",
          "data": {
            "text/plain": [
              "(tensor(0.1114), tensor(0.2021))"
            ]
          },
          "metadata": {},
          "execution_count": 16
        }
      ]
    },
    {
      "cell_type": "code",
      "source": [
        "dist_7_abs = (a_3 - mean7).abs().mean()\n",
        "dist_7_sqr = ((a_3 - mean7) ** 2).mean().sqrt()\n",
        "dist_7_abs, dist_7_sqr"
      ],
      "metadata": {
        "colab": {
          "base_uri": "https://localhost:8080/"
        },
        "id": "dn9-Tm5YLi6h",
        "outputId": "54ff3fa9-df4d-4103-dfbf-0ecb0db76433"
      },
      "execution_count": null,
      "outputs": [
        {
          "output_type": "execute_result",
          "data": {
            "text/plain": [
              "(tensor(0.1586), tensor(0.3021))"
            ]
          },
          "metadata": {},
          "execution_count": 17
        }
      ]
    },
    {
      "cell_type": "code",
      "source": [
        "valid_3_tensor = torch.stack([tensor(Image.open(o)) for o in (path/'valid'/'3').ls()])\n",
        "valid_3_tensor = valid_3_tensor.float()/255\n",
        "\n",
        "valid_7_tensor = torch.stack([tensor(Image.open(o)) for o in (path/'valid'/'3').ls()])\n",
        "valid_7_tensor = valid_7_tensor.float()/255\n",
        "\n",
        "valid_3_tensor.shape, valid_7_tensor.shape"
      ],
      "metadata": {
        "colab": {
          "base_uri": "https://localhost:8080/"
        },
        "id": "5W7H9pWLRDv4",
        "outputId": "2eab4398-c6a8-43a5-dfe2-060722bf420b"
      },
      "execution_count": null,
      "outputs": [
        {
          "output_type": "execute_result",
          "data": {
            "text/plain": [
              "(torch.Size([1010, 28, 28]), torch.Size([1010, 28, 28]))"
            ]
          },
          "metadata": {},
          "execution_count": 18
        }
      ]
    },
    {
      "cell_type": "code",
      "source": [
        "def mnist_distance(a,b): return (a-b).abs().mean((-1,-2))\n",
        "mnist_distance(a_3, mean3)"
      ],
      "metadata": {
        "colab": {
          "base_uri": "https://localhost:8080/"
        },
        "id": "2Ne-LvgcRD2u",
        "outputId": "7014d2aa-889f-4176-95b6-d4ffbe625401"
      },
      "execution_count": null,
      "outputs": [
        {
          "output_type": "execute_result",
          "data": {
            "text/plain": [
              "tensor(0.1114)"
            ]
          },
          "metadata": {},
          "execution_count": 19
        }
      ]
    },
    {
      "cell_type": "markdown",
      "source": [
        "There is a lot going on  here. a and b can potentially mismatch in size: There might be the mean 3 ([28,28]) and all of the validation set ([1010,28,28]), in which case the mean 3 is broadcast when doing abs(). For .mean(), the param is a tuple representing -1, the last axis, and -2, the second to last axis, which will leave a single dimension, which might be a scalar in the case of matching a 3 and the mean 3, or a 1 dimensional vector for all of the validation set.\n",
        "\n",
        "First, check out the shapes of `a_3` and `mean3`.\n",
        "\n",
        "Then try it out with the validation set."
      ],
      "metadata": {
        "id": "MCX2rqOEUGT1"
      }
    },
    {
      "cell_type": "code",
      "source": [
        "a_3.shape, mean3.shape"
      ],
      "metadata": {
        "colab": {
          "base_uri": "https://localhost:8080/"
        },
        "id": "QnyYaK_ZUw63",
        "outputId": "27ed662c-a143-45cf-d46c-5344bd3e4f70"
      },
      "execution_count": null,
      "outputs": [
        {
          "output_type": "execute_result",
          "data": {
            "text/plain": [
              "(torch.Size([28, 28]), torch.Size([28, 28]))"
            ]
          },
          "metadata": {},
          "execution_count": 20
        }
      ]
    },
    {
      "cell_type": "code",
      "source": [
        "mnist_distance(valid_3_tensor, mean3)"
      ],
      "metadata": {
        "colab": {
          "base_uri": "https://localhost:8080/"
        },
        "id": "-b2gBBQJViR4",
        "outputId": "b790f89d-a064-4c82-f722-e06892d6ef3e"
      },
      "execution_count": null,
      "outputs": [
        {
          "output_type": "execute_result",
          "data": {
            "text/plain": [
              "tensor([0.1086, 0.1112, 0.1032,  ..., 0.1173, 0.1335, 0.1153])"
            ]
          },
          "metadata": {},
          "execution_count": 21
        }
      ]
    },
    {
      "cell_type": "code",
      "source": [
        "train_x = torch.cat([stacked_threes, stacked_sevens]).view(-1,28*28)\n",
        "train_y = tensor([1]*len(threes) + [0]*len(sevens)).unsqueeze(1)\n",
        "\n",
        "train_x.shape, train_y.shape"
      ],
      "metadata": {
        "colab": {
          "base_uri": "https://localhost:8080/"
        },
        "id": "6yoyG_YApyj-",
        "outputId": "294d2139-f0db-4ddd-e5e0-2b87e7dd4179"
      },
      "execution_count": null,
      "outputs": [
        {
          "output_type": "execute_result",
          "data": {
            "text/plain": [
              "(torch.Size([12396, 784]), torch.Size([12396, 1]))"
            ]
          },
          "metadata": {},
          "execution_count": 22
        }
      ]
    },
    {
      "cell_type": "code",
      "source": [
        "dset = list(zip(train_x, train_y))\n",
        "x,y = dset[0]\n",
        "x.shape, y"
      ],
      "metadata": {
        "colab": {
          "base_uri": "https://localhost:8080/"
        },
        "id": "N3tGka2eoNj8",
        "outputId": "a34803b1-63bb-4c66-dedf-a03ee951ee42"
      },
      "execution_count": null,
      "outputs": [
        {
          "output_type": "execute_result",
          "data": {
            "text/plain": [
              "(torch.Size([784]), tensor([1]))"
            ]
          },
          "metadata": {},
          "execution_count": 23
        }
      ]
    },
    {
      "cell_type": "code",
      "source": [
        "valid_x = torch.cat([valid_3_tensor, valid_7_tensor]).view(-1, 28 * 28)\n",
        "valid_y = tensor([1] * len(valid_3_tensor) + [0] * len(valid_7_tensor)).unsqueeze(1)\n",
        "valid_dset = list(zip(valid_x, valid_y))"
      ],
      "metadata": {
        "id": "CMtA5U6LwL66"
      },
      "execution_count": null,
      "outputs": []
    },
    {
      "cell_type": "code",
      "source": [
        "def init_params(size, std=1.0): return (torch.randn(size)*std).requires_grad_()\n",
        "weights = init_params((28*28,1))"
      ],
      "metadata": {
        "id": "XLlBKlEcNgIf"
      },
      "execution_count": null,
      "outputs": []
    },
    {
      "cell_type": "code",
      "source": [
        "bias = init_params(1)"
      ],
      "metadata": {
        "id": "VL_2sDkAnyCA"
      },
      "execution_count": null,
      "outputs": []
    },
    {
      "cell_type": "code",
      "source": [
        "weights,bias"
      ],
      "metadata": {
        "colab": {
          "base_uri": "https://localhost:8080/"
        },
        "id": "R84AzhhPph25",
        "outputId": "29e9635b-63dd-4177-f798-04fb6c3a6767"
      },
      "execution_count": null,
      "outputs": [
        {
          "output_type": "execute_result",
          "data": {
            "text/plain": [
              "(tensor([[-6.8837e-01],\n",
              "         [-1.5757e+00],\n",
              "         [ 3.0191e-01],\n",
              "         [ 7.1151e-01],\n",
              "         [-1.2236e-03],\n",
              "         [ 2.9933e-01],\n",
              "         [ 2.1663e+00],\n",
              "         [-1.5142e+00],\n",
              "         [-5.4962e-01],\n",
              "         [-8.5587e-01],\n",
              "         [ 3.9555e-01],\n",
              "         [-2.0231e-01],\n",
              "         [-1.2163e-01],\n",
              "         [ 7.0724e-01],\n",
              "         [ 9.4106e-01],\n",
              "         [ 5.3808e-01],\n",
              "         [ 7.5288e-01],\n",
              "         [-1.2901e+00],\n",
              "         [ 8.2351e-01],\n",
              "         [-3.6079e-01],\n",
              "         [-3.5026e-01],\n",
              "         [-3.5571e-01],\n",
              "         [ 1.5785e+00],\n",
              "         [ 6.0427e-01],\n",
              "         [-6.5207e-01],\n",
              "         [ 3.7312e-01],\n",
              "         [-4.6175e-01],\n",
              "         [-1.8940e+00],\n",
              "         [ 8.6115e-01],\n",
              "         [-9.1267e-01],\n",
              "         [ 5.9557e-01],\n",
              "         [ 8.7254e-01],\n",
              "         [-1.0066e-02],\n",
              "         [-1.7711e-01],\n",
              "         [-2.3958e-01],\n",
              "         [ 1.6245e-01],\n",
              "         [-9.9795e-01],\n",
              "         [ 3.0691e-01],\n",
              "         [-4.4028e-01],\n",
              "         [ 1.6518e+00],\n",
              "         [-3.5981e-01],\n",
              "         [ 1.6606e+00],\n",
              "         [ 1.0961e+00],\n",
              "         [-2.0950e-02],\n",
              "         [-4.7961e-01],\n",
              "         [-1.3401e+00],\n",
              "         [ 3.3212e-01],\n",
              "         [ 7.8689e-03],\n",
              "         [ 8.1198e-01],\n",
              "         [ 1.0773e-01],\n",
              "         [ 5.7505e-01],\n",
              "         [-1.8633e-01],\n",
              "         [ 5.6670e-01],\n",
              "         [-8.1955e-04],\n",
              "         [ 6.7605e-01],\n",
              "         [-1.0600e-02],\n",
              "         [ 7.5056e-01],\n",
              "         [ 1.0262e+00],\n",
              "         [-7.5297e-01],\n",
              "         [-2.1353e-01],\n",
              "         [ 5.4251e-01],\n",
              "         [-1.1837e+00],\n",
              "         [ 2.4740e-01],\n",
              "         [ 1.5852e+00],\n",
              "         [ 1.8489e+00],\n",
              "         [ 4.3764e-01],\n",
              "         [-1.9701e+00],\n",
              "         [-4.2076e-02],\n",
              "         [ 8.6769e-01],\n",
              "         [-1.0444e-01],\n",
              "         [-7.1856e-01],\n",
              "         [ 2.0537e-01],\n",
              "         [ 2.0435e+00],\n",
              "         [-2.3451e+00],\n",
              "         [ 7.7993e-02],\n",
              "         [ 1.3389e+00],\n",
              "         [-7.5264e-01],\n",
              "         [-7.7828e-01],\n",
              "         [-9.4032e-01],\n",
              "         [-5.9903e-02],\n",
              "         [-2.0800e+00],\n",
              "         [ 1.1497e+00],\n",
              "         [ 1.6335e-01],\n",
              "         [ 5.6972e-01],\n",
              "         [-6.0753e-01],\n",
              "         [ 1.5717e+00],\n",
              "         [-4.5330e-01],\n",
              "         [-1.5814e+00],\n",
              "         [ 1.0892e+00],\n",
              "         [-5.2692e-01],\n",
              "         [-1.2873e+00],\n",
              "         [-1.7393e+00],\n",
              "         [ 1.7024e-01],\n",
              "         [-2.8555e-01],\n",
              "         [ 3.0826e-01],\n",
              "         [-4.8938e-01],\n",
              "         [-1.4351e+00],\n",
              "         [-1.9814e+00],\n",
              "         [-1.7698e-01],\n",
              "         [-7.2950e-01],\n",
              "         [-5.0048e-01],\n",
              "         [ 3.4831e-01],\n",
              "         [ 1.9375e+00],\n",
              "         [ 2.4422e-01],\n",
              "         [-3.4000e-01],\n",
              "         [-1.2964e+00],\n",
              "         [-4.0668e-01],\n",
              "         [-3.7841e-02],\n",
              "         [ 1.7844e+00],\n",
              "         [-9.2848e-02],\n",
              "         [ 4.2320e-01],\n",
              "         [ 4.0586e-01],\n",
              "         [-9.0609e-01],\n",
              "         [-1.2200e+00],\n",
              "         [ 1.1869e+00],\n",
              "         [-8.2399e-01],\n",
              "         [-5.3491e-01],\n",
              "         [-1.6550e+00],\n",
              "         [-1.4432e+00],\n",
              "         [ 4.8549e-02],\n",
              "         [ 3.4296e-01],\n",
              "         [ 1.1569e+00],\n",
              "         [ 2.3097e+00],\n",
              "         [-3.6266e-01],\n",
              "         [-3.2887e-01],\n",
              "         [ 7.7980e-02],\n",
              "         [-9.4007e-01],\n",
              "         [ 2.3543e-02],\n",
              "         [-6.8526e-01],\n",
              "         [ 8.0192e-02],\n",
              "         [-1.1307e-01],\n",
              "         [ 1.0352e+00],\n",
              "         [-2.0747e+00],\n",
              "         [ 6.8151e-03],\n",
              "         [ 6.4328e-01],\n",
              "         [ 1.8752e+00],\n",
              "         [ 2.8161e-01],\n",
              "         [-7.2091e-01],\n",
              "         [ 8.3443e-01],\n",
              "         [-1.4212e+00],\n",
              "         [ 2.7923e+00],\n",
              "         [-4.8801e-01],\n",
              "         [ 8.7280e-01],\n",
              "         [-1.0064e+00],\n",
              "         [ 6.0349e-01],\n",
              "         [ 1.1725e+00],\n",
              "         [-7.0555e-01],\n",
              "         [ 5.5068e-01],\n",
              "         [-1.2036e+00],\n",
              "         [ 5.5354e-01],\n",
              "         [-2.6546e-02],\n",
              "         [ 1.3723e+00],\n",
              "         [ 9.7905e-01],\n",
              "         [ 4.2786e-01],\n",
              "         [ 2.6339e-01],\n",
              "         [ 1.0194e+00],\n",
              "         [ 1.0058e+00],\n",
              "         [-4.1611e-01],\n",
              "         [ 2.6122e-01],\n",
              "         [-1.8958e+00],\n",
              "         [ 1.7806e+00],\n",
              "         [ 9.7565e-02],\n",
              "         [-4.0694e-01],\n",
              "         [ 9.5199e-01],\n",
              "         [ 1.7920e-01],\n",
              "         [ 1.6450e+00],\n",
              "         [ 5.9485e-01],\n",
              "         [-1.0652e+00],\n",
              "         [-4.2953e-01],\n",
              "         [ 1.5396e+00],\n",
              "         [ 6.9106e-02],\n",
              "         [-1.1890e+00],\n",
              "         [-6.0415e-01],\n",
              "         [ 3.3693e-01],\n",
              "         [ 4.0783e-01],\n",
              "         [-1.4130e+00],\n",
              "         [-1.7454e+00],\n",
              "         [ 6.1136e-02],\n",
              "         [-3.4000e-01],\n",
              "         [-1.0286e+00],\n",
              "         [-9.5489e-02],\n",
              "         [-1.8522e+00],\n",
              "         [ 9.7662e-02],\n",
              "         [ 4.4242e-01],\n",
              "         [-3.8494e-02],\n",
              "         [ 1.8105e+00],\n",
              "         [-1.7346e+00],\n",
              "         [ 4.9104e-01],\n",
              "         [ 2.2220e-01],\n",
              "         [-1.8719e+00],\n",
              "         [-1.4026e+00],\n",
              "         [-9.6984e-01],\n",
              "         [-1.6865e+00],\n",
              "         [-9.2246e-01],\n",
              "         [-6.8338e-01],\n",
              "         [ 7.6721e-01],\n",
              "         [-1.2356e+00],\n",
              "         [ 9.6010e-01],\n",
              "         [-9.2949e-01],\n",
              "         [-7.1944e-01],\n",
              "         [ 1.2499e-01],\n",
              "         [-1.2040e+00],\n",
              "         [ 9.8645e-01],\n",
              "         [ 4.9041e-01],\n",
              "         [-4.5910e-01],\n",
              "         [ 6.6246e-01],\n",
              "         [ 3.5240e-01],\n",
              "         [-8.3681e-01],\n",
              "         [-1.3620e+00],\n",
              "         [ 6.5339e-01],\n",
              "         [-1.3650e+00],\n",
              "         [ 1.5140e+00],\n",
              "         [ 1.4025e+00],\n",
              "         [ 9.0938e-01],\n",
              "         [ 1.0352e-01],\n",
              "         [-3.0072e-01],\n",
              "         [-3.3377e-01],\n",
              "         [ 1.8349e-01],\n",
              "         [-3.6341e-01],\n",
              "         [ 3.5097e-01],\n",
              "         [-1.5319e-01],\n",
              "         [-1.3467e-01],\n",
              "         [-4.4934e-01],\n",
              "         [-1.7800e+00],\n",
              "         [-1.8163e+00],\n",
              "         [-1.6822e+00],\n",
              "         [ 1.4812e+00],\n",
              "         [ 2.1249e-01],\n",
              "         [ 4.3120e-01],\n",
              "         [-1.0485e+00],\n",
              "         [ 6.9091e-01],\n",
              "         [-7.9063e-01],\n",
              "         [ 6.1303e-01],\n",
              "         [ 2.1561e-01],\n",
              "         [-4.4990e-01],\n",
              "         [-4.4944e-01],\n",
              "         [ 3.4913e-01],\n",
              "         [ 1.3035e+00],\n",
              "         [-4.7249e-01],\n",
              "         [-1.1799e+00],\n",
              "         [-1.3920e+00],\n",
              "         [-1.4605e+00],\n",
              "         [-6.8577e-02],\n",
              "         [ 3.8251e-01],\n",
              "         [-9.5312e-01],\n",
              "         [ 7.8596e-01],\n",
              "         [ 1.5019e-01],\n",
              "         [ 1.5538e+00],\n",
              "         [-1.6662e+00],\n",
              "         [-7.2258e-01],\n",
              "         [-1.8249e-01],\n",
              "         [ 7.6819e-01],\n",
              "         [-1.4654e-01],\n",
              "         [-1.3259e+00],\n",
              "         [ 1.3358e+00],\n",
              "         [ 2.4858e+00],\n",
              "         [ 7.5975e-01],\n",
              "         [-2.9932e-01],\n",
              "         [ 2.5975e-01],\n",
              "         [ 4.0257e-03],\n",
              "         [-1.8603e+00],\n",
              "         [-1.2128e+00],\n",
              "         [ 1.9732e+00],\n",
              "         [ 1.4385e+00],\n",
              "         [ 6.8989e-01],\n",
              "         [ 4.7713e-01],\n",
              "         [ 1.2910e+00],\n",
              "         [ 1.4841e+00],\n",
              "         [-1.9366e+00],\n",
              "         [ 6.5211e-01],\n",
              "         [ 3.4710e-01],\n",
              "         [ 4.2688e-01],\n",
              "         [ 7.6353e-01],\n",
              "         [-1.7447e+00],\n",
              "         [ 1.2001e+00],\n",
              "         [ 5.0355e-02],\n",
              "         [ 1.1513e-01],\n",
              "         [ 7.8694e-01],\n",
              "         [ 1.4292e+00],\n",
              "         [-3.4477e-02],\n",
              "         [ 1.6010e+00],\n",
              "         [-4.8228e-01],\n",
              "         [ 9.8933e-01],\n",
              "         [-1.4531e+00],\n",
              "         [-5.3639e-01],\n",
              "         [-2.1449e-01],\n",
              "         [-1.4564e+00],\n",
              "         [ 2.3314e-01],\n",
              "         [-6.6569e-01],\n",
              "         [ 1.4425e-01],\n",
              "         [ 6.3451e-01],\n",
              "         [-9.9056e-01],\n",
              "         [-1.0489e+00],\n",
              "         [ 1.1527e-01],\n",
              "         [ 1.5398e+00],\n",
              "         [ 6.7532e-01],\n",
              "         [-2.5592e+00],\n",
              "         [-2.1209e+00],\n",
              "         [-9.6067e-01],\n",
              "         [-5.4526e-01],\n",
              "         [ 6.6343e-01],\n",
              "         [-2.1031e-02],\n",
              "         [-1.8690e+00],\n",
              "         [-6.3980e-01],\n",
              "         [ 9.8035e-01],\n",
              "         [-1.0410e+00],\n",
              "         [ 4.9929e-01],\n",
              "         [-1.3022e+00],\n",
              "         [ 3.4860e-01],\n",
              "         [ 4.7335e-01],\n",
              "         [-5.3347e-01],\n",
              "         [ 2.9290e+00],\n",
              "         [ 1.2136e+00],\n",
              "         [ 5.2293e-01],\n",
              "         [ 5.0152e-01],\n",
              "         [-3.7493e-01],\n",
              "         [ 1.1298e-02],\n",
              "         [ 1.0611e+00],\n",
              "         [ 5.8892e-01],\n",
              "         [-3.4483e-01],\n",
              "         [-1.6952e-01],\n",
              "         [ 1.2553e+00],\n",
              "         [-4.8245e-01],\n",
              "         [ 9.4732e-01],\n",
              "         [-1.7550e+00],\n",
              "         [ 2.7510e-02],\n",
              "         [ 1.1788e-01],\n",
              "         [ 1.2307e+00],\n",
              "         [ 9.8875e-01],\n",
              "         [-2.7585e-02],\n",
              "         [-2.0893e-01],\n",
              "         [-2.0669e+00],\n",
              "         [-9.9877e-01],\n",
              "         [ 4.6656e-01],\n",
              "         [ 1.1408e+00],\n",
              "         [-1.3044e+00],\n",
              "         [-1.1336e-01],\n",
              "         [-1.3242e+00],\n",
              "         [ 5.5379e-01],\n",
              "         [-2.8209e+00],\n",
              "         [ 5.3421e-01],\n",
              "         [ 1.1470e+00],\n",
              "         [ 4.0516e-01],\n",
              "         [-3.6319e-01],\n",
              "         [ 9.6891e-02],\n",
              "         [-7.1474e-01],\n",
              "         [-2.2476e-01],\n",
              "         [-5.4583e-01],\n",
              "         [ 1.9895e-01],\n",
              "         [ 3.4753e-01],\n",
              "         [-8.6941e-02],\n",
              "         [ 5.4185e-01],\n",
              "         [-8.3597e-01],\n",
              "         [-2.9855e-02],\n",
              "         [-8.4828e-01],\n",
              "         [ 5.4229e-01],\n",
              "         [-1.1295e+00],\n",
              "         [-1.9837e-01],\n",
              "         [ 9.0210e-01],\n",
              "         [ 1.6246e+00],\n",
              "         [-1.6914e+00],\n",
              "         [ 1.5095e+00],\n",
              "         [-1.0415e+00],\n",
              "         [-2.6939e-01],\n",
              "         [-6.4158e-01],\n",
              "         [ 2.5439e-01],\n",
              "         [ 2.0748e-01],\n",
              "         [ 1.0228e+00],\n",
              "         [-1.3105e+00],\n",
              "         [ 3.8495e-01],\n",
              "         [-4.3298e-01],\n",
              "         [ 7.4127e-01],\n",
              "         [-9.9252e-01],\n",
              "         [-2.2415e-01],\n",
              "         [ 4.2930e-01],\n",
              "         [-1.0997e+00],\n",
              "         [-1.5075e+00],\n",
              "         [-7.3046e-01],\n",
              "         [ 2.6439e-01],\n",
              "         [-1.0195e+00],\n",
              "         [-5.5164e-01],\n",
              "         [-1.2093e+00],\n",
              "         [ 2.1052e-01],\n",
              "         [ 5.2036e-01],\n",
              "         [-1.2830e+00],\n",
              "         [ 1.4896e+00],\n",
              "         [ 8.0931e-01],\n",
              "         [ 8.1536e-01],\n",
              "         [-1.1452e+00],\n",
              "         [-8.6720e-01],\n",
              "         [-2.9948e-01],\n",
              "         [-3.8814e-01],\n",
              "         [ 5.1159e-02],\n",
              "         [ 3.7380e-01],\n",
              "         [ 3.4519e-01],\n",
              "         [ 7.1191e-01],\n",
              "         [ 2.1183e+00],\n",
              "         [-2.1540e+00],\n",
              "         [ 1.2548e+00],\n",
              "         [ 2.6346e-01],\n",
              "         [-1.2852e+00],\n",
              "         [-1.0317e+00],\n",
              "         [ 1.5778e+00],\n",
              "         [-1.8666e-01],\n",
              "         [ 2.8098e-01],\n",
              "         [-1.4702e-01],\n",
              "         [ 3.0200e-01],\n",
              "         [-1.1647e+00],\n",
              "         [ 8.2776e-01],\n",
              "         [-4.5053e-01],\n",
              "         [ 2.7401e-01],\n",
              "         [-2.3755e-01],\n",
              "         [ 1.1079e+00],\n",
              "         [ 6.4191e-01],\n",
              "         [ 1.2501e+00],\n",
              "         [ 7.4072e-01],\n",
              "         [ 3.5518e-01],\n",
              "         [ 1.0944e+00],\n",
              "         [-7.0264e-01],\n",
              "         [ 2.8188e-01],\n",
              "         [ 1.2552e+00],\n",
              "         [ 1.2226e+00],\n",
              "         [ 1.3376e+00],\n",
              "         [ 3.7897e-01],\n",
              "         [-9.7911e-03],\n",
              "         [ 7.7410e-01],\n",
              "         [ 3.9738e-01],\n",
              "         [-2.5818e-01],\n",
              "         [ 6.8463e-01],\n",
              "         [-7.1536e-01],\n",
              "         [-1.8205e-01],\n",
              "         [-1.8387e-01],\n",
              "         [ 6.8501e-01],\n",
              "         [ 1.8837e-01],\n",
              "         [-1.6345e+00],\n",
              "         [ 6.2136e-01],\n",
              "         [-1.2005e+00],\n",
              "         [ 5.7344e-01],\n",
              "         [-3.0988e-01],\n",
              "         [-1.0770e+00],\n",
              "         [ 3.6058e-01],\n",
              "         [-4.4932e-01],\n",
              "         [ 4.8364e-02],\n",
              "         [-5.1531e-01],\n",
              "         [-9.1255e-01],\n",
              "         [ 1.1279e+00],\n",
              "         [ 1.2236e-01],\n",
              "         [ 1.3547e+00],\n",
              "         [-9.3873e-01],\n",
              "         [ 6.1231e-01],\n",
              "         [-1.2911e-01],\n",
              "         [ 4.6778e-02],\n",
              "         [ 4.2305e-01],\n",
              "         [-2.5937e+00],\n",
              "         [ 1.7328e-01],\n",
              "         [-3.9041e-01],\n",
              "         [-1.6283e-01],\n",
              "         [ 1.0705e-01],\n",
              "         [-2.2708e+00],\n",
              "         [ 1.8509e+00],\n",
              "         [-1.3361e-01],\n",
              "         [ 4.4203e-01],\n",
              "         [-9.0246e-01],\n",
              "         [-3.6542e-01],\n",
              "         [-8.6490e-01],\n",
              "         [ 6.2928e-01],\n",
              "         [-1.8032e+00],\n",
              "         [-3.0633e-01],\n",
              "         [-5.5961e-02],\n",
              "         [ 6.7405e-01],\n",
              "         [-2.1569e-01],\n",
              "         [-8.6611e-01],\n",
              "         [ 3.2039e-01],\n",
              "         [-5.0650e-01],\n",
              "         [ 3.4719e-01],\n",
              "         [-8.1285e-01],\n",
              "         [ 3.9440e-01],\n",
              "         [ 9.9770e-01],\n",
              "         [-7.3499e-01],\n",
              "         [ 4.4791e-03],\n",
              "         [-4.7122e-01],\n",
              "         [ 3.4403e-02],\n",
              "         [ 8.3908e-01],\n",
              "         [-8.3027e-01],\n",
              "         [-1.5901e+00],\n",
              "         [ 1.1850e-01],\n",
              "         [-4.2531e-02],\n",
              "         [ 2.2618e-01],\n",
              "         [ 8.0009e-01],\n",
              "         [ 3.8095e-01],\n",
              "         [ 2.5806e-01],\n",
              "         [ 8.3791e-01],\n",
              "         [-9.8760e-01],\n",
              "         [ 1.0790e+00],\n",
              "         [ 9.6016e-01],\n",
              "         [-1.6351e+00],\n",
              "         [-2.5001e-01],\n",
              "         [ 1.4432e-01],\n",
              "         [ 9.7882e-01],\n",
              "         [-5.2307e-01],\n",
              "         [ 1.4122e+00],\n",
              "         [-1.4035e-01],\n",
              "         [-1.8262e+00],\n",
              "         [ 3.3536e-01],\n",
              "         [ 3.8666e+00],\n",
              "         [-1.1234e+00],\n",
              "         [-5.7866e-01],\n",
              "         [-1.1892e+00],\n",
              "         [-2.5432e-01],\n",
              "         [ 3.0152e-01],\n",
              "         [ 2.5037e+00],\n",
              "         [ 1.1199e-01],\n",
              "         [ 5.2932e-01],\n",
              "         [-3.5957e-01],\n",
              "         [ 6.1555e-01],\n",
              "         [-2.1086e-01],\n",
              "         [ 3.7381e-02],\n",
              "         [ 1.4207e+00],\n",
              "         [-2.4476e-01],\n",
              "         [-7.6062e-01],\n",
              "         [-2.2572e-01],\n",
              "         [-7.6047e-01],\n",
              "         [-4.2012e-01],\n",
              "         [-1.2901e+00],\n",
              "         [ 1.0367e+00],\n",
              "         [ 1.0882e+00],\n",
              "         [ 5.1510e-01],\n",
              "         [ 3.3364e-01],\n",
              "         [-1.6814e+00],\n",
              "         [-9.5245e-01],\n",
              "         [-1.2341e+00],\n",
              "         [ 1.7920e+00],\n",
              "         [ 4.8435e-02],\n",
              "         [ 8.4936e-01],\n",
              "         [-1.3910e-01],\n",
              "         [ 2.7674e-01],\n",
              "         [-5.6665e-01],\n",
              "         [ 8.6089e-01],\n",
              "         [ 3.3683e-01],\n",
              "         [ 3.2647e-01],\n",
              "         [-6.7925e-01],\n",
              "         [ 4.0333e-01],\n",
              "         [ 1.0074e+00],\n",
              "         [-7.6968e-01],\n",
              "         [ 3.6505e+00],\n",
              "         [-2.4874e+00],\n",
              "         [ 5.5141e-01],\n",
              "         [-2.2128e+00],\n",
              "         [-1.3779e+00],\n",
              "         [ 1.3484e+00],\n",
              "         [-6.1160e-01],\n",
              "         [-1.2439e+00],\n",
              "         [ 1.0739e-01],\n",
              "         [-4.2367e-01],\n",
              "         [ 1.8615e-01],\n",
              "         [ 4.0625e-01],\n",
              "         [-6.0524e-01],\n",
              "         [ 8.3975e-01],\n",
              "         [-8.2219e-01],\n",
              "         [-1.1143e+00],\n",
              "         [-1.1780e+00],\n",
              "         [ 7.1421e-01],\n",
              "         [ 4.2311e-03],\n",
              "         [-1.7069e+00],\n",
              "         [-3.7981e-01],\n",
              "         [-4.6958e-02],\n",
              "         [ 3.8079e-01],\n",
              "         [-7.1374e-01],\n",
              "         [-5.1164e-01],\n",
              "         [ 7.4584e-01],\n",
              "         [-2.0554e+00],\n",
              "         [-7.3389e-01],\n",
              "         [ 9.4660e-01],\n",
              "         [ 9.1842e-01],\n",
              "         [-5.7262e-01],\n",
              "         [ 3.2778e-01],\n",
              "         [-2.7629e-02],\n",
              "         [ 1.4532e+00],\n",
              "         [ 5.9361e-01],\n",
              "         [ 1.4741e+00],\n",
              "         [-1.0858e-01],\n",
              "         [ 5.1890e-01],\n",
              "         [ 6.8301e-01],\n",
              "         [ 3.2668e-01],\n",
              "         [-5.3654e-01],\n",
              "         [-3.6798e-01],\n",
              "         [-8.4954e-01],\n",
              "         [-1.6351e+00],\n",
              "         [-1.4245e+00],\n",
              "         [ 8.0025e-01],\n",
              "         [ 1.0839e+00],\n",
              "         [ 2.3049e-01],\n",
              "         [-1.3544e-01],\n",
              "         [-2.2702e+00],\n",
              "         [ 1.4632e+00],\n",
              "         [-1.0123e+00],\n",
              "         [-2.2649e-01],\n",
              "         [ 1.1113e+00],\n",
              "         [ 1.1513e+00],\n",
              "         [ 1.7532e-01],\n",
              "         [ 1.0380e+00],\n",
              "         [-2.6368e-01],\n",
              "         [ 5.3578e-01],\n",
              "         [-3.5729e-01],\n",
              "         [-9.3890e-01],\n",
              "         [-5.3909e-01],\n",
              "         [-3.0726e-01],\n",
              "         [-5.4343e-01],\n",
              "         [ 6.1269e-01],\n",
              "         [-1.6105e+00],\n",
              "         [ 4.5625e-01],\n",
              "         [ 8.9721e-02],\n",
              "         [ 1.2499e-01],\n",
              "         [-4.5873e-02],\n",
              "         [-4.7079e-01],\n",
              "         [ 3.3637e-01],\n",
              "         [ 8.4703e-01],\n",
              "         [ 1.0417e-01],\n",
              "         [-1.8779e-01],\n",
              "         [ 1.2499e+00],\n",
              "         [ 1.7287e+00],\n",
              "         [-3.5849e-01],\n",
              "         [ 3.6129e-01],\n",
              "         [ 1.7871e-01],\n",
              "         [ 8.0567e-01],\n",
              "         [-5.3670e-01],\n",
              "         [ 2.6054e+00],\n",
              "         [ 3.7574e-01],\n",
              "         [-9.4529e-02],\n",
              "         [ 8.1855e-01],\n",
              "         [-9.4274e-01],\n",
              "         [ 6.5836e-01],\n",
              "         [ 1.1894e+00],\n",
              "         [-3.5075e-01],\n",
              "         [-1.8645e+00],\n",
              "         [ 5.5659e-01],\n",
              "         [ 2.4195e-01],\n",
              "         [-2.4408e-01],\n",
              "         [ 1.2123e-01],\n",
              "         [-1.7601e-01],\n",
              "         [ 3.1073e-01],\n",
              "         [-3.8832e-01],\n",
              "         [-1.8573e+00],\n",
              "         [-1.5135e-01],\n",
              "         [-2.2123e-01],\n",
              "         [-3.9286e-02],\n",
              "         [-9.3706e-01],\n",
              "         [-1.0662e+00],\n",
              "         [-1.5355e-02],\n",
              "         [ 1.2617e+00],\n",
              "         [ 9.8855e-01],\n",
              "         [-4.2174e-01],\n",
              "         [ 3.2649e-01],\n",
              "         [-7.2934e-01],\n",
              "         [ 1.7635e+00],\n",
              "         [-8.6392e-01],\n",
              "         [ 1.3136e+00],\n",
              "         [-1.3510e+00],\n",
              "         [ 8.5162e-01],\n",
              "         [ 3.4727e-01],\n",
              "         [ 2.6735e-01],\n",
              "         [ 2.6795e-01],\n",
              "         [-5.7184e-01],\n",
              "         [ 6.6429e-01],\n",
              "         [ 9.3829e-01],\n",
              "         [ 1.1610e+00],\n",
              "         [-1.5012e+00],\n",
              "         [ 5.1894e-01],\n",
              "         [-9.6588e-01],\n",
              "         [-1.6195e-01],\n",
              "         [ 3.9184e-01],\n",
              "         [ 3.3792e-01],\n",
              "         [ 4.7663e-01],\n",
              "         [-8.8996e-01],\n",
              "         [ 3.8316e-01],\n",
              "         [ 3.0513e-01],\n",
              "         [ 3.3189e-01],\n",
              "         [-2.9310e-01],\n",
              "         [-3.7000e-01],\n",
              "         [ 1.1699e+00],\n",
              "         [-2.7930e-01],\n",
              "         [ 2.9287e+00],\n",
              "         [ 1.8035e-02],\n",
              "         [-1.0204e+00],\n",
              "         [-2.1425e-01],\n",
              "         [ 1.2794e+00],\n",
              "         [-1.0809e+00],\n",
              "         [ 2.3104e-01],\n",
              "         [-1.8814e-01],\n",
              "         [-6.4257e-01],\n",
              "         [ 1.0675e+00],\n",
              "         [-2.0231e+00],\n",
              "         [-9.6132e-01],\n",
              "         [-1.1655e+00],\n",
              "         [-7.7172e-01],\n",
              "         [-9.5986e-02],\n",
              "         [ 7.5436e-01],\n",
              "         [ 1.0761e+00],\n",
              "         [ 2.1695e-01],\n",
              "         [-3.1362e-01],\n",
              "         [ 2.5414e-01],\n",
              "         [-1.0832e+00],\n",
              "         [ 1.5625e+00],\n",
              "         [-7.3506e-01],\n",
              "         [ 4.8890e-02],\n",
              "         [ 1.4165e-01],\n",
              "         [-5.9658e-01],\n",
              "         [-4.3155e-01],\n",
              "         [ 2.8221e-01],\n",
              "         [-1.6439e+00],\n",
              "         [-1.2549e+00],\n",
              "         [ 6.7248e-01],\n",
              "         [-1.6687e-01],\n",
              "         [ 1.0458e-01],\n",
              "         [-1.3372e-01],\n",
              "         [ 2.1256e+00],\n",
              "         [ 5.6014e-01],\n",
              "         [ 5.7013e-01],\n",
              "         [ 8.3332e-01],\n",
              "         [ 1.7467e-01],\n",
              "         [-2.0495e+00],\n",
              "         [-1.4638e+00],\n",
              "         [-3.6640e-01],\n",
              "         [-1.3174e+00],\n",
              "         [-3.6977e-01],\n",
              "         [-1.6768e+00],\n",
              "         [-1.0595e-01],\n",
              "         [ 1.0644e+00],\n",
              "         [-1.0154e+00],\n",
              "         [-3.0819e-01],\n",
              "         [-1.0472e+00],\n",
              "         [ 9.2919e-01],\n",
              "         [-4.6843e-01],\n",
              "         [ 1.3026e+00],\n",
              "         [ 1.1028e+00],\n",
              "         [ 6.4599e-01],\n",
              "         [-5.2172e-01],\n",
              "         [-1.2405e+00],\n",
              "         [ 1.0519e+00],\n",
              "         [-3.1181e-02],\n",
              "         [-2.5930e+00],\n",
              "         [ 1.2412e+00],\n",
              "         [-4.1482e-01],\n",
              "         [ 4.9931e-01],\n",
              "         [-1.1255e+00],\n",
              "         [-7.1935e-01],\n",
              "         [-1.0153e+00],\n",
              "         [-1.2737e+00],\n",
              "         [-7.5243e-01],\n",
              "         [-4.9445e-01],\n",
              "         [ 6.0257e-01],\n",
              "         [ 2.8475e-01],\n",
              "         [-6.8717e-01],\n",
              "         [-1.8824e+00],\n",
              "         [-5.7999e-01],\n",
              "         [ 2.0031e+00],\n",
              "         [ 5.0492e-01],\n",
              "         [-6.7171e-01],\n",
              "         [ 5.2175e-01],\n",
              "         [ 3.1197e-01],\n",
              "         [-3.0375e-01],\n",
              "         [-1.0158e+00],\n",
              "         [-2.2756e-01],\n",
              "         [-7.7171e-01],\n",
              "         [-1.8554e+00],\n",
              "         [ 1.3403e+00],\n",
              "         [-9.1594e-01],\n",
              "         [ 4.0413e-01],\n",
              "         [ 1.3691e+00],\n",
              "         [-2.6552e-01],\n",
              "         [ 2.7998e+00],\n",
              "         [ 2.8758e-01],\n",
              "         [-9.4851e-01],\n",
              "         [-1.1152e+00],\n",
              "         [-2.3717e-01],\n",
              "         [ 3.9121e-01],\n",
              "         [ 8.4474e-01],\n",
              "         [ 1.4995e-01],\n",
              "         [-5.1400e-01],\n",
              "         [-3.2777e-01],\n",
              "         [-8.0486e-01],\n",
              "         [-1.1252e-01],\n",
              "         [-6.1034e-01],\n",
              "         [-2.9086e-01]], requires_grad=True),\n",
              " tensor([0.3921], requires_grad=True))"
            ]
          },
          "metadata": {},
          "execution_count": 27
        }
      ]
    },
    {
      "cell_type": "code",
      "source": [
        "(train_x[0]*weights.T).sum() + bias"
      ],
      "metadata": {
        "colab": {
          "base_uri": "https://localhost:8080/"
        },
        "id": "Xf6BJMR8pjGT",
        "outputId": "52eda4f7-6717-4abb-8040-c6967e7e34d6"
      },
      "execution_count": null,
      "outputs": [
        {
          "output_type": "execute_result",
          "data": {
            "text/plain": [
              "tensor([-5.6291], grad_fn=<AddBackward0>)"
            ]
          },
          "metadata": {},
          "execution_count": 30
        }
      ]
    },
    {
      "cell_type": "markdown",
      "source": [
        "`train_x[0]` is a row vector of 768 length and `weights` is a column vector, 768 height. Using `*` does elementwise multiply, so summing them gets us a single number. You can also do this for the same result:"
      ],
      "metadata": {
        "id": "NiW1NviVqJ6i"
      }
    },
    {
      "cell_type": "code",
      "source": [
        "train_x[0]@weights + bias"
      ],
      "metadata": {
        "colab": {
          "base_uri": "https://localhost:8080/"
        },
        "id": "bRte7Kt-py5E",
        "outputId": "5b73d5c6-2cb0-4d24-9ae0-e942d76bb9fe"
      },
      "execution_count": null,
      "outputs": [
        {
          "output_type": "execute_result",
          "data": {
            "text/plain": [
              "tensor([-5.6291], grad_fn=<AddBackward0>)"
            ]
          },
          "metadata": {},
          "execution_count": 34
        }
      ]
    },
    {
      "cell_type": "code",
      "source": [
        "def linear1(xb): return xb@weights + bias\n",
        "\n",
        "preds=linear1(train_x)\n",
        "preds"
      ],
      "metadata": {
        "colab": {
          "base_uri": "https://localhost:8080/"
        },
        "id": "1ET2xyXkqn-E",
        "outputId": "bedfe702-ee68-46c5-ece0-1a1d55f06754"
      },
      "execution_count": null,
      "outputs": [
        {
          "output_type": "execute_result",
          "data": {
            "text/plain": [
              "tensor([[-5.6291],\n",
              "        [-3.1962],\n",
              "        [-7.7405],\n",
              "        ...,\n",
              "        [ 3.7247],\n",
              "        [-8.7857],\n",
              "        [10.1372]], grad_fn=<AddBackward0>)"
            ]
          },
          "metadata": {},
          "execution_count": 36
        }
      ]
    },
    {
      "cell_type": "markdown",
      "source": [
        "Again, this works because of broadcasting. xb is the tensor of all of the images in the training set. So you do matrix multiplication by the weights, and broadcast across the training set. Also, the bias is a scalar addition that broadcasts across the training set in the obvious manner."
      ],
      "metadata": {
        "id": "xTIL-C9Qw1vH"
      }
    },
    {
      "cell_type": "code",
      "source": [
        "corrects = (preds>0.0).float() == train_y"
      ],
      "metadata": {
        "id": "fRtZmi9ysMF1"
      },
      "execution_count": null,
      "outputs": []
    },
    {
      "cell_type": "code",
      "source": [
        "corrects"
      ],
      "metadata": {
        "colab": {
          "base_uri": "https://localhost:8080/"
        },
        "id": "nrJzz8Vcx4X_",
        "outputId": "fa8b6f5e-4e22-475b-e881-05086ede1430"
      },
      "execution_count": null,
      "outputs": [
        {
          "output_type": "execute_result",
          "data": {
            "text/plain": [
              "tensor([[False],\n",
              "        [False],\n",
              "        [False],\n",
              "        ...,\n",
              "        [False],\n",
              "        [ True],\n",
              "        [False]])"
            ]
          },
          "metadata": {},
          "execution_count": 38
        }
      ]
    },
    {
      "cell_type": "code",
      "source": [
        "corrects.float().mean().item()"
      ],
      "metadata": {
        "colab": {
          "base_uri": "https://localhost:8080/"
        },
        "id": "zeqNhg2Vx5Wa",
        "outputId": "9f15362b-ba08-40c7-9308-9d33cbc21716"
      },
      "execution_count": null,
      "outputs": [
        {
          "output_type": "execute_result",
          "data": {
            "text/plain": [
              "0.500726044178009"
            ]
          },
          "metadata": {},
          "execution_count": 39
        }
      ]
    },
    {
      "cell_type": "code",
      "source": [
        "def mnist_loss(predictions, targets):\n",
        "    predictions = predictions.sigmoid()\n",
        "    return torch.where(targets==1, 1-predictions, predictions).mean()"
      ],
      "metadata": {
        "id": "iwJ2kdF1gsEf"
      },
      "execution_count": 1,
      "outputs": []
    }
  ]
}