{
 "cells": [
  {
   "cell_type": "markdown",
   "metadata": {
    "colab_type": "text",
    "id": "view-in-github"
   },
   "source": [
    "<a href=\"https://colab.research.google.com/github/jamesliudotcc/fast_ai/blob/main/Build_a_digit_classifier.ipynb\" target=\"_parent\"><img src=\"https://colab.research.google.com/assets/colab-badge.svg\" alt=\"Open In Colab\"/></a>"
   ]
  },
  {
   "cell_type": "code",
   "execution_count": 1,
   "metadata": {
    "id": "nvFiwJENmnXR"
   },
   "outputs": [],
   "source": [
    "!pip install -Uqq fastai"
   ]
  },
  {
   "cell_type": "code",
   "execution_count": 2,
   "metadata": {
    "id": "3MQagfePRnvR"
   },
   "outputs": [],
   "source": [
    "from fastai.vision.all import *"
   ]
  },
  {
   "cell_type": "code",
   "execution_count": 3,
   "metadata": {
    "colab": {
     "base_uri": "https://localhost:8080/",
     "height": 37
    },
    "id": "_6u8h7gQTCFc",
    "outputId": "89f6e00a-caf7-4dc9-8489-2697be113464"
   },
   "outputs": [],
   "source": [
    "path = untar_data(URLs.MNIST_SAMPLE)"
   ]
  },
  {
   "cell_type": "code",
   "execution_count": 4,
   "metadata": {
    "colab": {
     "base_uri": "https://localhost:8080/"
    },
    "id": "YUNtXNYlTN-4",
    "outputId": "aaa67bec-877c-481a-f740-4a967d50b270"
   },
   "outputs": [
    {
     "data": {
      "text/plain": [
       "(#3) [Path('/home/james/.fastai/data/mnist_sample/valid'),Path('/home/james/.fastai/data/mnist_sample/train'),Path('/home/james/.fastai/data/mnist_sample/labels.csv')]"
      ]
     },
     "execution_count": 4,
     "metadata": {},
     "output_type": "execute_result"
    }
   ],
   "source": [
    "path.ls()"
   ]
  },
  {
   "cell_type": "code",
   "execution_count": 5,
   "metadata": {
    "colab": {
     "base_uri": "https://localhost:8080/"
    },
    "id": "CLIWZ-gYbyhw",
    "outputId": "b415b905-6830-45de-8ade-3895c6ac2da5"
   },
   "outputs": [
    {
     "data": {
      "text/plain": [
       "(#2) [Path('/home/james/.fastai/data/mnist_sample/train/3'),Path('/home/james/.fastai/data/mnist_sample/train/7')]"
      ]
     },
     "execution_count": 5,
     "metadata": {},
     "output_type": "execute_result"
    }
   ],
   "source": [
    "(path/\"train\").ls()"
   ]
  },
  {
   "cell_type": "code",
   "execution_count": 6,
   "metadata": {
    "id": "swtgWpcVnedT"
   },
   "outputs": [],
   "source": [
    "threes = (path/\"train\"/\"3\").ls().sorted()\n",
    "sevens = (path/\"train\"/\"7\").ls().sorted()"
   ]
  },
  {
   "cell_type": "code",
   "execution_count": 7,
   "metadata": {
    "colab": {
     "base_uri": "https://localhost:8080/",
     "height": 45
    },
    "id": "nyILUNZ4oOHB",
    "outputId": "08fde862-be4e-4d7d-f6af-29fb5a0fa679"
   },
   "outputs": [
    {
     "data": {
      "image/png": "[encoded data removed]",
      "text/plain": [
       "<PIL.PngImagePlugin.PngImageFile image mode=L size=28x28>"
      ]
     },
     "execution_count": 7,
     "metadata": {},
     "output_type": "execute_result"
    }
   ],
   "source": [
    "im3_path = threes[1]\n",
    "im3 = Image.open(im3_path)  # Image is PIL.Image\n",
    "im3"
   ]
  },
  {
   "cell_type": "code",
   "execution_count": 8,
   "metadata": {
    "colab": {
     "base_uri": "https://localhost:8080/"
    },
    "id": "Z1G1HzKtpHUl",
    "outputId": "ef7d6d3a-a681-471c-83db-263594780cb2"
   },
   "outputs": [
    {
     "data": {
      "text/plain": [
       "array([[  0,   0,   0,   0,   0,   0,   0,   0,   0,   0,   0,   0],\n",
       "       [  0,   0,   0,   0,   0,   0,   0,   0,   0,   0,   0,   0],\n",
       "       [  0,   0,   0,   0,   0,   0,   0,   0,   0,   0,   0,   0],\n",
       "       [  0,   0,   0,   0,   0,   0,   0,   0,   0,   0,   0,   0],\n",
       "       [  0,   0,   0,   0,   0,   0,   0,   0,   0,   0,   0,   0],\n",
       "       [  0,  29, 150, 195, 254, 255, 254, 176, 193, 150,  96,   0],\n",
       "       [166, 224, 253, 253, 234, 196, 253, 253, 253, 253, 233,   0],\n",
       "       [253, 187,  46,  10,   8,   4,  10, 194, 253, 253, 233,   0],\n",
       "       [230,  48,   0,   0,   0,   0,   0, 192, 253, 253, 156,   0],\n",
       "       [ 15,   0,   0,   0,   0,   0,  43, 224, 253, 245,  74,   0],\n",
       "       [  0,   0,   0,   0,   0,   0, 249, 253, 245, 126,   0,   0],\n",
       "       [  0,   0,   0,  14, 101, 223, 253, 248, 124,   0,   0,   0],\n",
       "       [  0,  11, 166, 239, 253, 253, 253, 187,  30,   0,   0,   0],\n",
       "       [  0,  16, 248, 250, 253, 253, 253, 253, 232, 213, 111,   2],\n",
       "       [  0,   0,   0,  43,  98,  98, 208, 253, 253, 253, 253, 187],\n",
       "       [  0,   0,   0,   0,   0,   0,   9,  51, 119, 253, 253, 253],\n",
       "       [  0,   0,   0,   0,   0,   0,   0,   0,   1, 183, 253, 253],\n",
       "       [  0,   0,   0,   0,   0,   0,   0,   0,   0, 182, 253, 253],\n",
       "       [  0,   0,   0,   0,   0,   0,   0,   0,  85, 249, 253, 253],\n",
       "       [  0,   0,   0,   0,   0,   0,   0,  60, 214, 253, 253, 173],\n",
       "       [  0,   0,   0,   0,   0,   0,  98, 247, 253, 253, 226,   9],\n",
       "       [  0,   0,   0,   0,  42, 150, 252, 253, 253, 233,  53,   0],\n",
       "       [ 42,  60, 115, 159, 240, 253, 253, 250, 175,  25,   0,   0],\n",
       "       [253, 253, 253, 253, 253, 253, 197,  86,   0,   0,   0,   0],\n",
       "       [253, 253, 253, 253, 232,  67,   1,   0,   0,   0,   0,   0],\n",
       "       [  0,   0,   0,   0,   0,   0,   0,   0,   0,   0,   0,   0],\n",
       "       [  0,   0,   0,   0,   0,   0,   0,   0,   0,   0,   0,   0],\n",
       "       [  0,   0,   0,   0,   0,   0,   0,   0,   0,   0,   0,   0]],\n",
       "      dtype=uint8)"
      ]
     },
     "execution_count": 8,
     "metadata": {},
     "output_type": "execute_result"
    }
   ],
   "source": [
    "array(im3)[:, 8:-8] # whole height, truncate the width to fit."
   ]
  },
  {
   "cell_type": "code",
   "execution_count": 9,
   "metadata": {
    "colab": {
     "base_uri": "https://localhost:8080/"
    },
    "id": "tnc7HcVRpnFJ",
    "outputId": "a22a005d-c9f0-4e79-9205-1d81d5c1d052"
   },
   "outputs": [
    {
     "data": {
      "text/plain": [
       "tensor([[  0,   0,   0,   0,   0,   0,   0,   0,   0,   0,   0,   0],\n",
       "        [  0,   0,   0,   0,   0,   0,   0,   0,   0,   0,   0,   0],\n",
       "        [  0,   0,   0,   0,   0,   0,   0,   0,   0,   0,   0,   0],\n",
       "        [  0,   0,   0,   0,   0,   0,   0,   0,   0,   0,   0,   0],\n",
       "        [  0,   0,   0,   0,   0,   0,   0,   0,   0,   0,   0,   0],\n",
       "        [  0,  29, 150, 195, 254, 255, 254, 176, 193, 150,  96,   0],\n",
       "        [166, 224, 253, 253, 234, 196, 253, 253, 253, 253, 233,   0],\n",
       "        [253, 187,  46,  10,   8,   4,  10, 194, 253, 253, 233,   0],\n",
       "        [230,  48,   0,   0,   0,   0,   0, 192, 253, 253, 156,   0],\n",
       "        [ 15,   0,   0,   0,   0,   0,  43, 224, 253, 245,  74,   0],\n",
       "        [  0,   0,   0,   0,   0,   0, 249, 253, 245, 126,   0,   0],\n",
       "        [  0,   0,   0,  14, 101, 223, 253, 248, 124,   0,   0,   0],\n",
       "        [  0,  11, 166, 239, 253, 253, 253, 187,  30,   0,   0,   0],\n",
       "        [  0,  16, 248, 250, 253, 253, 253, 253, 232, 213, 111,   2],\n",
       "        [  0,   0,   0,  43,  98,  98, 208, 253, 253, 253, 253, 187],\n",
       "        [  0,   0,   0,   0,   0,   0,   9,  51, 119, 253, 253, 253],\n",
       "        [  0,   0,   0,   0,   0,   0,   0,   0,   1, 183, 253, 253],\n",
       "        [  0,   0,   0,   0,   0,   0,   0,   0,   0, 182, 253, 253],\n",
       "        [  0,   0,   0,   0,   0,   0,   0,   0,  85, 249, 253, 253],\n",
       "        [  0,   0,   0,   0,   0,   0,   0,  60, 214, 253, 253, 173],\n",
       "        [  0,   0,   0,   0,   0,   0,  98, 247, 253, 253, 226,   9],\n",
       "        [  0,   0,   0,   0,  42, 150, 252, 253, 253, 233,  53,   0],\n",
       "        [ 42,  60, 115, 159, 240, 253, 253, 250, 175,  25,   0,   0],\n",
       "        [253, 253, 253, 253, 253, 253, 197,  86,   0,   0,   0,   0],\n",
       "        [253, 253, 253, 253, 232,  67,   1,   0,   0,   0,   0,   0],\n",
       "        [  0,   0,   0,   0,   0,   0,   0,   0,   0,   0,   0,   0],\n",
       "        [  0,   0,   0,   0,   0,   0,   0,   0,   0,   0,   0,   0],\n",
       "        [  0,   0,   0,   0,   0,   0,   0,   0,   0,   0,   0,   0]],\n",
       "       dtype=torch.uint8)"
      ]
     },
     "execution_count": 9,
     "metadata": {},
     "output_type": "execute_result"
    }
   ],
   "source": [
    "tensor(im3)[:, 8:-8] # whole height, truncate the width to fit."
   ]
  },
  {
   "cell_type": "code",
   "execution_count": 10,
   "metadata": {
    "colab": {
     "base_uri": "https://localhost:8080/"
    },
    "id": "d91tQyQypRsW",
    "outputId": "5c5f3f2a-dfcf-4cc1-e0bd-399088e9d1dc"
   },
   "outputs": [
    {
     "data": {
      "text/plain": [
       "(6131, 6265)"
      ]
     },
     "execution_count": 10,
     "metadata": {},
     "output_type": "execute_result"
    }
   ],
   "source": [
    "seven_tensors = [tensor(Image.open(f)) for f in sevens]\n",
    "three_tensors = [tensor(Image.open(f)) for f in threes]\n",
    "len(three_tensors),len(seven_tensors)"
   ]
  },
  {
   "cell_type": "markdown",
   "metadata": {
    "id": "JnC7TeEAultE"
   },
   "source": [
    "I gave the following some thought, why would it work to .float() and /255? Because of broadcasting. If you apply a method like float that works on individual numbers, or do an arithmetic operation, it broadcasts. Ok, that was tripping me up. "
   ]
  },
  {
   "cell_type": "code",
   "execution_count": 11,
   "metadata": {
    "colab": {
     "base_uri": "https://localhost:8080/"
    },
    "id": "GHEVDpvmuJNA",
    "outputId": "b8cbb96d-6009-41a3-d3c0-ebedf035389c"
   },
   "outputs": [
    {
     "data": {
      "text/plain": [
       "torch.Size([6131, 28, 28])"
      ]
     },
     "execution_count": 11,
     "metadata": {},
     "output_type": "execute_result"
    }
   ],
   "source": [
    "stacked_sevens = torch.stack(seven_tensors).float()/255\n",
    "stacked_threes = torch.stack(three_tensors).float()/255\n",
    "\n",
    "stacked_threes.shape"
   ]
  },
  {
   "cell_type": "code",
   "execution_count": 12,
   "metadata": {
    "colab": {
     "base_uri": "https://localhost:8080/",
     "height": 228
    },
    "id": "uvQ7AaWnu87b",
    "outputId": "bf6a2f6a-0071-4bbe-9655-fd6cf80bf34b"
   },
   "outputs": [
    {
     "data": {
      "text/plain": [
       "(<Axes: >, <Axes: >)"
      ]
     },
     "execution_count": 12,
     "metadata": {},
     "output_type": "execute_result"
    },
    {
     "data": {
      "image/png": "[encoded data removed]",
      "text/plain": [
       "<Figure size 100x100 with 1 Axes>"
      ]
     },
     "metadata": {},
     "output_type": "display_data"
    },
    {
     "data": {
      "image/png": "[encoded data removed]",
      "text/plain": [
       "<Figure size 100x100 with 1 Axes>"
      ]
     },
     "metadata": {},
     "output_type": "display_data"
    }
   ],
   "source": [
    "mean3 = stacked_threes.mean(0)\n",
    "mean7 = stacked_sevens.mean(0)\n",
    "\n",
    "show_image(mean3),show_image(mean7)"
   ]
  },
  {
   "cell_type": "code",
   "execution_count": 13,
   "metadata": {
    "colab": {
     "base_uri": "https://localhost:8080/",
     "height": 131
    },
    "id": "xPctJzP10ta6",
    "outputId": "3198a08f-7cb6-483f-c1b0-749a2c5cf330"
   },
   "outputs": [
    {
     "data": {
      "text/plain": [
       "<Axes: >"
      ]
     },
     "execution_count": 13,
     "metadata": {},
     "output_type": "execute_result"
    },
    {
     "data": {
      "image/png": "[encoded data removed]",
      "text/plain": [
       "<Figure size 100x100 with 1 Axes>"
      ]
     },
     "metadata": {},
     "output_type": "display_data"
    }
   ],
   "source": [
    "show_image(mean3-mean7)"
   ]
  },
  {
   "cell_type": "code",
   "execution_count": 14,
   "metadata": {
    "colab": {
     "base_uri": "https://localhost:8080/",
     "height": 131
    },
    "id": "kkttH3ENJGDT",
    "outputId": "9a632d23-c057-4816-fcf1-2938898a4be8"
   },
   "outputs": [
    {
     "data": {
      "text/plain": [
       "<Axes: >"
      ]
     },
     "execution_count": 14,
     "metadata": {},
     "output_type": "execute_result"
    },
    {
     "data": {
      "image/png": "[encoded data removed]",
      "text/plain": [
       "<Figure size 100x100 with 1 Axes>"
      ]
     },
     "metadata": {},
     "output_type": "display_data"
    }
   ],
   "source": [
    "a_3 = stacked_threes[1]\n",
    "show_image(a_3)"
   ]
  },
  {
   "cell_type": "code",
   "execution_count": 15,
   "metadata": {
    "colab": {
     "base_uri": "https://localhost:8080/"
    },
    "id": "sO8EIbpTKtNa",
    "outputId": "88e6b074-d2fe-44d7-c63e-9d6ad25a02a1"
   },
   "outputs": [
    {
     "data": {
      "text/plain": [
       "(tensor(0.1114), tensor(0.2021))"
      ]
     },
     "execution_count": 15,
     "metadata": {},
     "output_type": "execute_result"
    }
   ],
   "source": [
    "dist_3_abs = (a_3 - mean3).abs().mean()\n",
    "dist_3_sqr = ((a_3 - mean3)**2).mean().sqrt()\n",
    "dist_3_abs, dist_3_sqr"
   ]
  },
  {
   "cell_type": "code",
   "execution_count": 16,
   "metadata": {
    "colab": {
     "base_uri": "https://localhost:8080/"
    },
    "id": "dn9-Tm5YLi6h",
    "outputId": "54ff3fa9-df4d-4103-dfbf-0ecb0db76433"
   },
   "outputs": [
    {
     "data": {
      "text/plain": [
       "(tensor(0.1586), tensor(0.3021))"
      ]
     },
     "execution_count": 16,
     "metadata": {},
     "output_type": "execute_result"
    }
   ],
   "source": [
    "dist_7_abs = (a_3 - mean7).abs().mean()\n",
    "dist_7_sqr = ((a_3 - mean7) ** 2).mean().sqrt()\n",
    "dist_7_abs, dist_7_sqr"
   ]
  },
  {
   "cell_type": "code",
   "execution_count": 17,
   "metadata": {
    "colab": {
     "base_uri": "https://localhost:8080/"
    },
    "id": "5W7H9pWLRDv4",
    "outputId": "2eab4398-c6a8-43a5-dfe2-060722bf420b"
   },
   "outputs": [
    {
     "data": {
      "text/plain": [
       "(torch.Size([1010, 28, 28]), torch.Size([1028, 28, 28]))"
      ]
     },
     "execution_count": 17,
     "metadata": {},
     "output_type": "execute_result"
    }
   ],
   "source": [
    "valid_3_tensor = torch.stack([tensor(Image.open(o)) for o in (path/'valid'/'3').ls()])\n",
    "valid_3_tensor = valid_3_tensor.float()/255\n",
    "\n",
    "valid_7_tensor = torch.stack([tensor(Image.open(o)) for o in (path/'valid'/'7').ls()])\n",
    "valid_7_tensor = valid_7_tensor.float()/255\n",
    "\n",
    "valid_3_tensor.shape, valid_7_tensor.shape"
   ]
  },
  {
   "cell_type": "code",
   "execution_count": 18,
   "metadata": {},
   "outputs": [
    {
     "data": {
      "text/plain": [
       "(<Axes: >, <Axes: >)"
      ]
     },
     "execution_count": 18,
     "metadata": {},
     "output_type": "execute_result"
    },
    {
     "data": {
      "image/png": "[encoded data removed]",
      "text/plain": [
       "<Figure size 100x100 with 1 Axes>"
      ]
     },
     "metadata": {},
     "output_type": "display_data"
    },
    {
     "data": {
      "image/png": "[encoded data removed]",
      "text/plain": [
       "<Figure size 100x100 with 1 Axes>"
      ]
     },
     "metadata": {},
     "output_type": "display_data"
    }
   ],
   "source": [
    "mean_valid_3 = valid_3_tensor.mean(0)\n",
    "mean_valid_7 = valid_7_tensor.mean(0)\n",
    "\n",
    "show_image(mean_valid_3), show_image(mean_valid_7)"
   ]
  },
  {
   "cell_type": "code",
   "execution_count": 19,
   "metadata": {
    "colab": {
     "base_uri": "https://localhost:8080/"
    },
    "id": "2Ne-LvgcRD2u",
    "outputId": "7014d2aa-889f-4176-95b6-d4ffbe625401"
   },
   "outputs": [
    {
     "data": {
      "text/plain": [
       "tensor(0.1114)"
      ]
     },
     "execution_count": 19,
     "metadata": {},
     "output_type": "execute_result"
    }
   ],
   "source": [
    "def mnist_distance(a,b): return (a-b).abs().mean((-1,-2))\n",
    "mnist_distance(a_3, mean3)"
   ]
  },
  {
   "cell_type": "markdown",
   "metadata": {
    "id": "MCX2rqOEUGT1"
   },
   "source": [
    "There is a lot going on  here. a and b can potentially mismatch in size: There might be the mean 3 ([28,28]) and all of the validation set ([1010,28,28]), in which case the mean 3 is broadcast when doing abs(). For .mean(), the param is a tuple representing -1, the last axis, and -2, the second to last axis, which will leave a single dimension, which might be a scalar in the case of matching a 3 and the mean 3, or a 1 dimensional vector for all of the validation set.\n",
    "\n",
    "First, check out the shapes of `a_3` and `mean3`.\n",
    "\n",
    "Then try it out with the validation set."
   ]
  },
  {
   "cell_type": "code",
   "execution_count": 20,
   "metadata": {
    "colab": {
     "base_uri": "https://localhost:8080/"
    },
    "id": "QnyYaK_ZUw63",
    "outputId": "27ed662c-a143-45cf-d46c-5344bd3e4f70"
   },
   "outputs": [
    {
     "data": {
      "text/plain": [
       "(torch.Size([28, 28]), torch.Size([28, 28]))"
      ]
     },
     "execution_count": 20,
     "metadata": {},
     "output_type": "execute_result"
    }
   ],
   "source": [
    "a_3.shape, mean3.shape"
   ]
  },
  {
   "cell_type": "code",
   "execution_count": 21,
   "metadata": {
    "colab": {
     "base_uri": "https://localhost:8080/"
    },
    "id": "-b2gBBQJViR4",
    "outputId": "b790f89d-a064-4c82-f722-e06892d6ef3e"
   },
   "outputs": [
    {
     "data": {
      "text/plain": [
       "tensor([0.1355, 0.1541, 0.1460,  ..., 0.1249, 0.1330, 0.1320])"
      ]
     },
     "execution_count": 21,
     "metadata": {},
     "output_type": "execute_result"
    }
   ],
   "source": [
    "mnist_distance(valid_3_tensor, mean3)"
   ]
  },
  {
   "cell_type": "code",
   "execution_count": 22,
   "metadata": {
    "colab": {
     "base_uri": "https://localhost:8080/"
    },
    "id": "6yoyG_YApyj-",
    "outputId": "294d2139-f0db-4ddd-e5e0-2b87e7dd4179"
   },
   "outputs": [
    {
     "data": {
      "text/plain": [
       "(torch.Size([12396, 784]), torch.Size([12396, 1]))"
      ]
     },
     "execution_count": 22,
     "metadata": {},
     "output_type": "execute_result"
    }
   ],
   "source": [
    "train_x = torch.cat([stacked_threes, stacked_sevens]).view(-1,28*28)\n",
    "train_y = tensor([1]*len(threes) + [0]*len(sevens)).unsqueeze(1)\n",
    "\n",
    "train_x.shape, train_y.shape"
   ]
  },
  {
   "cell_type": "code",
   "execution_count": 23,
   "metadata": {
    "colab": {
     "base_uri": "https://localhost:8080/"
    },
    "id": "N3tGka2eoNj8",
    "outputId": "a34803b1-63bb-4c66-dedf-a03ee951ee42"
   },
   "outputs": [
    {
     "data": {
      "text/plain": [
       "(torch.Size([784]), tensor([1]))"
      ]
     },
     "execution_count": 23,
     "metadata": {},
     "output_type": "execute_result"
    }
   ],
   "source": [
    "dset = list(zip(train_x, train_y))\n",
    "x,y = dset[0]\n",
    "x.shape, y"
   ]
  },
  {
   "cell_type": "code",
   "execution_count": 24,
   "metadata": {
    "id": "CMtA5U6LwL66"
   },
   "outputs": [],
   "source": [
    "valid_x = torch.cat([valid_3_tensor, valid_7_tensor]).view(-1, 28 * 28)\n",
    "valid_y = tensor([1] * len(valid_3_tensor) + [0] * len(valid_7_tensor)).unsqueeze(1)\n",
    "valid_dset = list(zip(valid_x, valid_y))"
   ]
  },
  {
   "cell_type": "code",
   "execution_count": 25,
   "metadata": {
    "id": "XLlBKlEcNgIf"
   },
   "outputs": [],
   "source": [
    "def init_params(size, std=1.0): return (torch.randn(size)*std).requires_grad_()\n",
    "weights = init_params((28*28,1))"
   ]
  },
  {
   "cell_type": "code",
   "execution_count": 26,
   "metadata": {
    "id": "VL_2sDkAnyCA"
   },
   "outputs": [],
   "source": [
    "bias = init_params(1)"
   ]
  },
  {
   "cell_type": "code",
   "execution_count": 27,
   "metadata": {
    "colab": {
     "base_uri": "https://localhost:8080/"
    },
    "id": "R84AzhhPph25",
    "outputId": "29e9635b-63dd-4177-f798-04fb6c3a6767"
   },
   "outputs": [
    {
     "data": {
      "text/plain": [
       "(tensor([[-1.5350e-01],\n",
       "         [ 3.2365e-01],\n",
       "         [-2.7276e-01],\n",
       "         [-1.5815e-01],\n",
       "         [ 2.0526e+00],\n",
       "         [ 2.4645e-01],\n",
       "         [-1.0007e+00],\n",
       "         [ 4.7898e-01],\n",
       "         [ 1.7207e+00],\n",
       "         [ 1.2040e+00],\n",
       "         [-1.3494e-01],\n",
       "         [ 1.6679e+00],\n",
       "         [-1.1769e-01],\n",
       "         [ 1.4943e+00],\n",
       "         [ 1.6669e+00],\n",
       "         [ 3.4831e-01],\n",
       "         [ 1.4584e+00],\n",
       "         [ 4.7573e-01],\n",
       "         [-6.5287e-01],\n",
       "         [-7.2775e-01],\n",
       "         [-1.1222e+00],\n",
       "         [ 7.7884e-01],\n",
       "         [-2.3622e-01],\n",
       "         [-2.0088e+00],\n",
       "         [-5.8048e-02],\n",
       "         [ 9.4596e-01],\n",
       "         [-1.1201e+00],\n",
       "         [ 5.9051e-01],\n",
       "         [-4.1716e-01],\n",
       "         [ 3.1731e-01],\n",
       "         [ 2.3057e-02],\n",
       "         [ 3.0903e-01],\n",
       "         [-2.3401e-01],\n",
       "         [ 3.4313e-01],\n",
       "         [-5.1185e-01],\n",
       "         [-1.0510e+00],\n",
       "         [ 2.2764e-01],\n",
       "         [ 4.6305e-01],\n",
       "         [-5.1258e-02],\n",
       "         [ 1.4905e-01],\n",
       "         [-1.8131e-01],\n",
       "         [-1.2313e-01],\n",
       "         [-2.7182e-01],\n",
       "         [-1.7754e+00],\n",
       "         [ 1.9314e-01],\n",
       "         [ 1.2315e+00],\n",
       "         [-1.6621e+00],\n",
       "         [ 1.7553e-01],\n",
       "         [ 7.2307e-01],\n",
       "         [ 1.7593e+00],\n",
       "         [-8.4167e-01],\n",
       "         [ 1.3222e-01],\n",
       "         [ 1.6719e+00],\n",
       "         [ 1.5535e+00],\n",
       "         [-7.0058e-01],\n",
       "         [-3.4204e-01],\n",
       "         [-2.9023e+00],\n",
       "         [ 1.0535e+00],\n",
       "         [-1.1262e+00],\n",
       "         [ 2.8177e-01],\n",
       "         [ 4.5696e-01],\n",
       "         [ 6.5800e-01],\n",
       "         [-3.2051e-01],\n",
       "         [-1.6763e-01],\n",
       "         [-4.6676e-01],\n",
       "         [-2.4277e+00],\n",
       "         [-2.1852e-01],\n",
       "         [-3.4184e-01],\n",
       "         [ 1.8238e-01],\n",
       "         [ 2.1854e-01],\n",
       "         [ 1.1266e+00],\n",
       "         [-4.2981e-01],\n",
       "         [-6.5811e-01],\n",
       "         [ 6.2354e-01],\n",
       "         [ 6.4516e-01],\n",
       "         [ 1.5864e-01],\n",
       "         [ 8.7345e-01],\n",
       "         [-2.5550e+00],\n",
       "         [ 1.0594e+00],\n",
       "         [-6.5805e-01],\n",
       "         [-9.6667e-01],\n",
       "         [-1.5107e-01],\n",
       "         [ 9.6357e-01],\n",
       "         [-9.8960e-01],\n",
       "         [-1.6570e+00],\n",
       "         [-2.8643e-01],\n",
       "         [-1.2711e-01],\n",
       "         [-1.3457e+00],\n",
       "         [ 2.5798e-02],\n",
       "         [-9.0968e-01],\n",
       "         [-3.6443e-01],\n",
       "         [ 1.1236e+00],\n",
       "         [-6.0183e-01],\n",
       "         [ 7.9894e-01],\n",
       "         [ 7.5997e-01],\n",
       "         [ 8.8655e-01],\n",
       "         [-3.6995e-01],\n",
       "         [ 2.5075e-01],\n",
       "         [ 1.3697e+00],\n",
       "         [ 2.0373e-01],\n",
       "         [ 5.0837e-01],\n",
       "         [ 8.5113e-01],\n",
       "         [ 6.6067e-01],\n",
       "         [ 4.3059e-01],\n",
       "         [-1.6043e+00],\n",
       "         [-4.8534e-01],\n",
       "         [-9.6059e-01],\n",
       "         [ 7.2194e-01],\n",
       "         [ 5.6517e-01],\n",
       "         [-8.3816e-01],\n",
       "         [ 6.7932e-02],\n",
       "         [-4.3852e-01],\n",
       "         [ 3.5262e-01],\n",
       "         [-9.4854e-02],\n",
       "         [-7.7674e-01],\n",
       "         [-5.0172e-01],\n",
       "         [ 1.4219e-01],\n",
       "         [-6.5795e-01],\n",
       "         [-1.1912e+00],\n",
       "         [ 1.0369e+00],\n",
       "         [ 2.4723e-01],\n",
       "         [-3.4894e-01],\n",
       "         [-2.4582e-01],\n",
       "         [-3.6966e-01],\n",
       "         [ 3.5961e-01],\n",
       "         [-6.4287e-01],\n",
       "         [ 1.3479e+00],\n",
       "         [ 1.7625e-01],\n",
       "         [ 8.0135e-01],\n",
       "         [-9.4786e-01],\n",
       "         [ 2.0030e+00],\n",
       "         [ 7.7376e-01],\n",
       "         [-1.9904e-01],\n",
       "         [ 2.4060e-01],\n",
       "         [ 1.8023e+00],\n",
       "         [-9.1908e-01],\n",
       "         [ 1.1018e+00],\n",
       "         [-1.7943e+00],\n",
       "         [ 1.3267e+00],\n",
       "         [-8.1698e-01],\n",
       "         [-3.0620e-01],\n",
       "         [-1.0803e-01],\n",
       "         [-4.0297e-01],\n",
       "         [-2.5552e-01],\n",
       "         [-4.2087e-01],\n",
       "         [ 1.4593e+00],\n",
       "         [-7.0161e-01],\n",
       "         [ 9.2957e-01],\n",
       "         [-6.1333e-02],\n",
       "         [ 1.0269e+00],\n",
       "         [-1.2957e+00],\n",
       "         [-6.6803e-02],\n",
       "         [-1.1102e+00],\n",
       "         [ 4.6110e-01],\n",
       "         [ 3.4125e-01],\n",
       "         [-4.6669e-01],\n",
       "         [-1.6147e+00],\n",
       "         [ 5.8923e-01],\n",
       "         [ 1.2354e+00],\n",
       "         [-2.0588e+00],\n",
       "         [-4.7275e-01],\n",
       "         [ 7.7029e-01],\n",
       "         [-3.5299e-01],\n",
       "         [-4.8236e-01],\n",
       "         [ 1.8294e+00],\n",
       "         [-1.9176e-01],\n",
       "         [-1.9686e+00],\n",
       "         [-4.1086e-01],\n",
       "         [ 1.2180e+00],\n",
       "         [ 4.3910e-01],\n",
       "         [-1.7504e+00],\n",
       "         [ 1.4740e+00],\n",
       "         [ 2.4979e+00],\n",
       "         [ 1.1977e+00],\n",
       "         [-4.5486e-02],\n",
       "         [-5.8638e-01],\n",
       "         [-1.7491e+00],\n",
       "         [-1.9823e+00],\n",
       "         [-1.4386e-01],\n",
       "         [ 4.9903e-01],\n",
       "         [-7.6464e-01],\n",
       "         [ 2.7823e-01],\n",
       "         [ 8.7824e-01],\n",
       "         [-1.6967e-02],\n",
       "         [-3.8117e-01],\n",
       "         [ 3.0287e-01],\n",
       "         [-1.4449e+00],\n",
       "         [ 2.3610e+00],\n",
       "         [ 2.8830e-01],\n",
       "         [-5.0389e-01],\n",
       "         [ 1.8174e-01],\n",
       "         [ 9.6794e-01],\n",
       "         [-9.5850e-01],\n",
       "         [-1.8081e-01],\n",
       "         [-6.3331e-01],\n",
       "         [ 1.6090e-01],\n",
       "         [ 3.8800e-01],\n",
       "         [ 9.5844e-02],\n",
       "         [ 1.4457e+00],\n",
       "         [ 5.0796e-01],\n",
       "         [ 7.3808e-01],\n",
       "         [-2.6153e-01],\n",
       "         [ 6.9618e-01],\n",
       "         [ 1.1681e+00],\n",
       "         [ 8.3294e-01],\n",
       "         [ 1.3517e+00],\n",
       "         [ 1.1220e-02],\n",
       "         [ 2.6222e-01],\n",
       "         [-8.1538e-02],\n",
       "         [-9.2829e-01],\n",
       "         [ 2.0248e-01],\n",
       "         [ 7.5368e-01],\n",
       "         [ 3.3830e-01],\n",
       "         [-2.7721e-01],\n",
       "         [-7.9956e-01],\n",
       "         [ 1.0764e+00],\n",
       "         [ 7.6657e-01],\n",
       "         [ 3.6222e-02],\n",
       "         [-1.6491e+00],\n",
       "         [ 5.7445e-01],\n",
       "         [-5.2042e-01],\n",
       "         [ 1.0644e+00],\n",
       "         [-4.1595e-01],\n",
       "         [ 4.8341e-02],\n",
       "         [-5.1695e-01],\n",
       "         [ 6.9315e-01],\n",
       "         [-2.1277e+00],\n",
       "         [-4.5486e-01],\n",
       "         [-1.1442e+00],\n",
       "         [-5.6106e-01],\n",
       "         [-2.3748e+00],\n",
       "         [ 7.9010e-01],\n",
       "         [ 1.5376e+00],\n",
       "         [-1.4456e-01],\n",
       "         [-7.1664e-01],\n",
       "         [-1.1744e-02],\n",
       "         [ 2.3749e+00],\n",
       "         [ 3.0103e-01],\n",
       "         [-3.9170e-01],\n",
       "         [-1.2080e+00],\n",
       "         [ 1.6431e+00],\n",
       "         [-8.5879e-01],\n",
       "         [-6.6429e-01],\n",
       "         [-2.4596e-01],\n",
       "         [ 2.1283e+00],\n",
       "         [-2.7939e-01],\n",
       "         [ 1.0835e+00],\n",
       "         [-1.2269e+00],\n",
       "         [-1.4063e+00],\n",
       "         [-3.8423e-01],\n",
       "         [ 1.3950e+00],\n",
       "         [ 1.0556e+00],\n",
       "         [-1.1129e+00],\n",
       "         [ 2.1711e-01],\n",
       "         [ 2.2470e+00],\n",
       "         [-7.3440e-01],\n",
       "         [-4.9751e-01],\n",
       "         [ 1.2641e+00],\n",
       "         [-6.4763e-02],\n",
       "         [-2.3047e-01],\n",
       "         [ 2.0106e-01],\n",
       "         [-8.9428e-01],\n",
       "         [ 1.6440e+00],\n",
       "         [-1.0713e-01],\n",
       "         [ 3.4580e-01],\n",
       "         [ 2.6205e-01],\n",
       "         [ 2.0823e+00],\n",
       "         [ 1.0566e+00],\n",
       "         [ 1.6259e+00],\n",
       "         [-1.4090e+00],\n",
       "         [ 8.0457e-01],\n",
       "         [ 4.6543e-01],\n",
       "         [-2.4780e-01],\n",
       "         [-1.5242e+00],\n",
       "         [-1.1123e+00],\n",
       "         [-3.3791e-01],\n",
       "         [ 5.0971e-01],\n",
       "         [-3.1422e-01],\n",
       "         [-2.2587e-01],\n",
       "         [-8.1638e-01],\n",
       "         [-1.4537e+00],\n",
       "         [ 1.1523e-01],\n",
       "         [ 2.9759e-01],\n",
       "         [ 2.5362e-01],\n",
       "         [ 4.5241e-01],\n",
       "         [ 5.8342e-01],\n",
       "         [ 2.3617e-01],\n",
       "         [ 2.1637e-02],\n",
       "         [ 1.1698e+00],\n",
       "         [-1.7030e+00],\n",
       "         [-5.4544e-01],\n",
       "         [-1.1676e-01],\n",
       "         [ 1.7019e-02],\n",
       "         [-7.0154e-02],\n",
       "         [-2.0656e+00],\n",
       "         [ 1.8054e+00],\n",
       "         [ 1.0810e+00],\n",
       "         [-1.4833e+00],\n",
       "         [-2.1898e-02],\n",
       "         [-3.2132e-01],\n",
       "         [-2.1891e+00],\n",
       "         [-1.5779e-01],\n",
       "         [ 9.2859e-01],\n",
       "         [ 7.1404e-01],\n",
       "         [-2.9641e-01],\n",
       "         [ 1.2294e+00],\n",
       "         [ 3.2632e-01],\n",
       "         [-1.2493e+00],\n",
       "         [-1.2508e+00],\n",
       "         [ 1.4988e-01],\n",
       "         [-1.3420e+00],\n",
       "         [ 4.1372e-01],\n",
       "         [-8.7136e-01],\n",
       "         [-6.0877e-01],\n",
       "         [-8.7065e-02],\n",
       "         [ 1.3626e+00],\n",
       "         [-5.3324e-01],\n",
       "         [ 8.3779e-02],\n",
       "         [ 5.1531e-01],\n",
       "         [-1.4520e-01],\n",
       "         [ 2.5551e-01],\n",
       "         [-3.6851e-01],\n",
       "         [-1.1441e-01],\n",
       "         [-1.2295e+00],\n",
       "         [-5.3944e-01],\n",
       "         [-2.6120e-01],\n",
       "         [-5.0096e-01],\n",
       "         [ 1.0481e+00],\n",
       "         [ 7.4989e-01],\n",
       "         [ 5.2670e-01],\n",
       "         [ 1.6859e+00],\n",
       "         [ 7.7656e-01],\n",
       "         [ 1.2565e+00],\n",
       "         [ 1.2748e+00],\n",
       "         [ 6.0681e-02],\n",
       "         [-1.2540e+00],\n",
       "         [-5.7261e-01],\n",
       "         [-2.6070e-01],\n",
       "         [ 1.4840e-01],\n",
       "         [-4.9656e-01],\n",
       "         [ 3.0232e-01],\n",
       "         [ 1.1488e+00],\n",
       "         [ 4.7777e-01],\n",
       "         [-5.3453e-02],\n",
       "         [ 3.7270e-01],\n",
       "         [-5.1389e-01],\n",
       "         [-8.7263e-01],\n",
       "         [-5.1519e-01],\n",
       "         [ 1.8593e-01],\n",
       "         [-7.1700e-01],\n",
       "         [-3.3156e-01],\n",
       "         [ 1.3592e+00],\n",
       "         [ 1.3699e+00],\n",
       "         [ 2.6613e-01],\n",
       "         [-2.1086e-01],\n",
       "         [ 9.1132e-02],\n",
       "         [ 1.1695e+00],\n",
       "         [ 1.3026e+00],\n",
       "         [-2.4649e-01],\n",
       "         [ 1.2856e+00],\n",
       "         [-2.5579e-01],\n",
       "         [ 1.0157e-01],\n",
       "         [ 1.6400e+00],\n",
       "         [ 4.3925e-01],\n",
       "         [-1.9711e-01],\n",
       "         [ 1.3245e+00],\n",
       "         [-2.9465e-01],\n",
       "         [-2.7221e-01],\n",
       "         [ 3.3532e-01],\n",
       "         [-1.4530e+00],\n",
       "         [-2.4759e-01],\n",
       "         [-7.4032e-01],\n",
       "         [ 8.7727e-01],\n",
       "         [ 1.9776e+00],\n",
       "         [-2.0005e-02],\n",
       "         [-1.8817e-01],\n",
       "         [ 1.0281e+00],\n",
       "         [-1.4757e+00],\n",
       "         [ 4.4467e-01],\n",
       "         [-5.6630e-01],\n",
       "         [ 1.6060e+00],\n",
       "         [ 7.2839e-01],\n",
       "         [-1.3697e-01],\n",
       "         [-3.8690e-01],\n",
       "         [-6.0036e-01],\n",
       "         [-3.3371e-01],\n",
       "         [ 4.3812e-01],\n",
       "         [-9.7841e-01],\n",
       "         [ 4.5255e-01],\n",
       "         [ 5.0265e-01],\n",
       "         [-4.8352e-01],\n",
       "         [-1.1269e+00],\n",
       "         [ 1.2018e+00],\n",
       "         [-1.7498e+00],\n",
       "         [-4.2329e-01],\n",
       "         [ 5.1991e-01],\n",
       "         [-7.6038e-01],\n",
       "         [ 5.5851e-01],\n",
       "         [ 1.1789e+00],\n",
       "         [ 8.6702e-02],\n",
       "         [-5.3619e-01],\n",
       "         [ 5.6555e-01],\n",
       "         [ 6.1641e-01],\n",
       "         [ 4.3363e-01],\n",
       "         [-1.0836e+00],\n",
       "         [-9.1011e-01],\n",
       "         [ 6.2543e-01],\n",
       "         [ 2.2210e-01],\n",
       "         [-1.2099e+00],\n",
       "         [-5.1790e-01],\n",
       "         [-7.9325e-01],\n",
       "         [-4.8053e-01],\n",
       "         [-3.2849e-03],\n",
       "         [-1.3922e-01],\n",
       "         [-1.0825e+00],\n",
       "         [-7.2910e-01],\n",
       "         [ 1.9592e+00],\n",
       "         [-3.8949e-02],\n",
       "         [-4.4595e-02],\n",
       "         [ 2.9077e-01],\n",
       "         [ 1.1409e+00],\n",
       "         [ 2.9691e-02],\n",
       "         [-1.1213e+00],\n",
       "         [ 8.6437e-02],\n",
       "         [-5.3468e-02],\n",
       "         [-1.3116e+00],\n",
       "         [-8.8261e-01],\n",
       "         [-9.0536e-01],\n",
       "         [-2.6180e-01],\n",
       "         [-1.9470e+00],\n",
       "         [-1.0011e-01],\n",
       "         [-5.6942e-02],\n",
       "         [-7.7414e-01],\n",
       "         [ 1.3758e+00],\n",
       "         [-9.3523e-02],\n",
       "         [-6.4680e-01],\n",
       "         [ 2.2916e-01],\n",
       "         [-3.2293e-01],\n",
       "         [ 1.0241e+00],\n",
       "         [ 3.4572e-01],\n",
       "         [ 9.2609e-02],\n",
       "         [ 1.5909e+00],\n",
       "         [ 4.2246e-01],\n",
       "         [ 4.8818e-02],\n",
       "         [-4.4717e-01],\n",
       "         [ 2.1060e-01],\n",
       "         [-9.2864e-04],\n",
       "         [-9.7875e-01],\n",
       "         [-3.5789e-01],\n",
       "         [ 1.6658e+00],\n",
       "         [ 3.1303e-01],\n",
       "         [ 9.6427e-01],\n",
       "         [ 3.0040e-01],\n",
       "         [ 8.4603e-01],\n",
       "         [-4.3927e-01],\n",
       "         [-4.2095e-01],\n",
       "         [ 7.6210e-01],\n",
       "         [ 8.7767e-01],\n",
       "         [-7.4072e-01],\n",
       "         [-1.6284e-01],\n",
       "         [ 8.9980e-01],\n",
       "         [ 1.5069e+00],\n",
       "         [-2.6702e-01],\n",
       "         [-3.2023e-01],\n",
       "         [-4.4743e-01],\n",
       "         [ 1.1185e+00],\n",
       "         [-1.1161e+00],\n",
       "         [-1.4151e+00],\n",
       "         [ 9.9571e-01],\n",
       "         [ 1.7380e+00],\n",
       "         [ 2.1292e-01],\n",
       "         [-7.2801e-02],\n",
       "         [ 7.0708e-02],\n",
       "         [ 2.4770e+00],\n",
       "         [-1.1779e+00],\n",
       "         [ 2.5280e-01],\n",
       "         [-4.9190e-01],\n",
       "         [ 8.9312e-01],\n",
       "         [-7.5752e-02],\n",
       "         [-2.8172e-01],\n",
       "         [ 1.1681e+00],\n",
       "         [-7.2976e-01],\n",
       "         [ 3.0773e-01],\n",
       "         [ 1.7183e+00],\n",
       "         [ 4.0798e-01],\n",
       "         [-5.8461e-01],\n",
       "         [ 4.1071e-01],\n",
       "         [ 8.5952e-01],\n",
       "         [ 3.2741e-02],\n",
       "         [-7.2534e-01],\n",
       "         [-7.2679e-01],\n",
       "         [ 1.4204e+00],\n",
       "         [-8.5083e-01],\n",
       "         [ 1.2694e+00],\n",
       "         [-2.6413e-01],\n",
       "         [-1.6257e+00],\n",
       "         [-1.5740e+00],\n",
       "         [ 6.8227e-01],\n",
       "         [ 5.4847e-01],\n",
       "         [-6.0113e-01],\n",
       "         [ 2.5857e-01],\n",
       "         [-4.2821e-01],\n",
       "         [ 8.5600e-01],\n",
       "         [-2.2007e-02],\n",
       "         [ 5.3164e-01],\n",
       "         [ 1.2104e-01],\n",
       "         [-1.9313e+00],\n",
       "         [-6.3755e-01],\n",
       "         [-4.4828e-01],\n",
       "         [-3.4088e-01],\n",
       "         [ 1.7199e+00],\n",
       "         [ 1.0370e-02],\n",
       "         [-9.4579e-01],\n",
       "         [-3.2560e-01],\n",
       "         [ 1.7881e+00],\n",
       "         [ 1.0181e+00],\n",
       "         [ 9.0026e-01],\n",
       "         [ 7.7049e-01],\n",
       "         [ 3.1417e-01],\n",
       "         [-1.6384e+00],\n",
       "         [-1.0769e+00],\n",
       "         [-4.3317e-01],\n",
       "         [-3.7048e-01],\n",
       "         [ 1.2109e+00],\n",
       "         [ 8.3320e-02],\n",
       "         [ 2.0864e+00],\n",
       "         [ 3.1993e-01],\n",
       "         [ 3.0828e-01],\n",
       "         [-9.5917e-01],\n",
       "         [-5.2041e-01],\n",
       "         [ 5.6302e-01],\n",
       "         [ 1.1016e+00],\n",
       "         [ 7.0539e-03],\n",
       "         [ 1.4512e+00],\n",
       "         [ 2.4301e-01],\n",
       "         [ 8.3907e-01],\n",
       "         [ 1.4446e+00],\n",
       "         [-1.8366e+00],\n",
       "         [ 5.4340e-01],\n",
       "         [-5.8827e-02],\n",
       "         [ 6.0231e-01],\n",
       "         [ 4.6350e-02],\n",
       "         [-8.9215e-01],\n",
       "         [ 1.9748e-01],\n",
       "         [ 4.5996e-01],\n",
       "         [-3.7277e-01],\n",
       "         [-9.6777e-01],\n",
       "         [-4.1995e-01],\n",
       "         [ 8.4807e-01],\n",
       "         [ 4.6270e-01],\n",
       "         [ 1.8674e+00],\n",
       "         [ 4.0057e-01],\n",
       "         [ 1.3378e+00],\n",
       "         [-6.4001e-01],\n",
       "         [ 1.7020e-01],\n",
       "         [ 1.6430e-01],\n",
       "         [ 8.3984e-01],\n",
       "         [ 9.0184e-02],\n",
       "         [ 9.3692e-02],\n",
       "         [-9.6578e-01],\n",
       "         [ 2.0535e+00],\n",
       "         [ 1.3004e-01],\n",
       "         [ 8.5716e-01],\n",
       "         [-5.4200e-01],\n",
       "         [-1.1530e+00],\n",
       "         [-4.9041e-01],\n",
       "         [ 5.3194e-01],\n",
       "         [-9.6939e-01],\n",
       "         [ 7.4452e-01],\n",
       "         [ 3.9949e-01],\n",
       "         [ 3.2275e-01],\n",
       "         [-9.2205e-01],\n",
       "         [ 1.0384e-01],\n",
       "         [-6.8923e-01],\n",
       "         [-9.6558e-01],\n",
       "         [ 3.3287e-01],\n",
       "         [ 5.2545e-01],\n",
       "         [-6.2709e-01],\n",
       "         [ 7.9269e-02],\n",
       "         [-5.8284e-02],\n",
       "         [ 1.0828e+00],\n",
       "         [-1.9464e+00],\n",
       "         [ 4.4964e-01],\n",
       "         [-3.7713e-01],\n",
       "         [-6.5100e-01],\n",
       "         [-1.8787e+00],\n",
       "         [-2.1639e+00],\n",
       "         [-7.0434e-01],\n",
       "         [ 7.8159e-02],\n",
       "         [ 1.2014e+00],\n",
       "         [ 1.1094e+00],\n",
       "         [-1.0522e-02],\n",
       "         [-5.6458e-01],\n",
       "         [ 2.0102e-01],\n",
       "         [-2.5975e-02],\n",
       "         [-1.4517e+00],\n",
       "         [ 4.5381e-01],\n",
       "         [-2.8414e+00],\n",
       "         [-7.8963e-01],\n",
       "         [-2.7140e-01],\n",
       "         [-1.0390e+00],\n",
       "         [-3.6907e-02],\n",
       "         [ 6.1445e-01],\n",
       "         [ 2.6356e-01],\n",
       "         [ 4.3209e-01],\n",
       "         [-1.9549e-01],\n",
       "         [ 1.2859e+00],\n",
       "         [ 1.0055e+00],\n",
       "         [ 1.6610e-01],\n",
       "         [-3.5591e-01],\n",
       "         [ 6.0986e-01],\n",
       "         [-7.4594e-01],\n",
       "         [ 1.4915e+00],\n",
       "         [-7.2414e-01],\n",
       "         [-3.6565e-01],\n",
       "         [-4.3083e-02],\n",
       "         [ 1.0484e+00],\n",
       "         [ 1.1067e+00],\n",
       "         [-2.4387e+00],\n",
       "         [-2.9704e-01],\n",
       "         [-1.1927e+00],\n",
       "         [ 1.6317e+00],\n",
       "         [-6.2038e-02],\n",
       "         [-4.3723e-01],\n",
       "         [-1.1399e+00],\n",
       "         [ 3.7321e-01],\n",
       "         [-6.4768e-01],\n",
       "         [-9.6912e-01],\n",
       "         [ 4.5188e-01],\n",
       "         [ 8.6074e-01],\n",
       "         [ 1.1606e+00],\n",
       "         [ 4.5424e-01],\n",
       "         [-1.4055e-02],\n",
       "         [-2.2633e+00],\n",
       "         [-1.1261e+00],\n",
       "         [ 2.9786e-01],\n",
       "         [ 6.3058e-01],\n",
       "         [-3.2266e-01],\n",
       "         [-7.3604e-01],\n",
       "         [-7.0897e-01],\n",
       "         [ 1.5059e+00],\n",
       "         [ 5.0347e-01],\n",
       "         [ 1.9203e-01],\n",
       "         [-5.4426e-01],\n",
       "         [ 3.4008e-01],\n",
       "         [-1.2455e+00],\n",
       "         [ 3.0982e-01],\n",
       "         [-1.3307e+00],\n",
       "         [-3.1803e-01],\n",
       "         [ 1.4803e+00],\n",
       "         [-4.4878e-01],\n",
       "         [-1.0910e+00],\n",
       "         [-1.8119e-01],\n",
       "         [ 3.9243e+00],\n",
       "         [ 6.3542e-01],\n",
       "         [ 3.7292e-01],\n",
       "         [-3.1568e-02],\n",
       "         [-1.3393e+00],\n",
       "         [-9.4649e-01],\n",
       "         [ 4.0900e-01],\n",
       "         [-1.4931e+00],\n",
       "         [ 9.4904e-01],\n",
       "         [ 1.0892e+00],\n",
       "         [-1.2358e+00],\n",
       "         [-6.8911e-01],\n",
       "         [ 7.3525e-01],\n",
       "         [ 2.7499e-01],\n",
       "         [-8.1490e-01],\n",
       "         [-1.1527e+00],\n",
       "         [-6.6679e-01],\n",
       "         [-1.0112e+00],\n",
       "         [-1.3479e-01],\n",
       "         [-3.5538e-01],\n",
       "         [ 7.6695e-01],\n",
       "         [-1.4479e+00],\n",
       "         [-6.9932e-01],\n",
       "         [ 6.2899e-01],\n",
       "         [-1.5515e+00],\n",
       "         [-6.0324e-01],\n",
       "         [-1.0324e+00],\n",
       "         [-1.2830e+00],\n",
       "         [-1.1294e+00],\n",
       "         [ 2.0179e-01],\n",
       "         [-1.2349e+00],\n",
       "         [ 3.2346e-01],\n",
       "         [-3.8663e-01],\n",
       "         [ 1.1422e-01],\n",
       "         [-2.6740e+00],\n",
       "         [ 1.0184e+00],\n",
       "         [-2.7111e-01],\n",
       "         [-5.4437e-01],\n",
       "         [-4.3282e-01],\n",
       "         [-6.8875e-02],\n",
       "         [-8.1965e-03],\n",
       "         [-9.4338e-01],\n",
       "         [-1.5253e-01],\n",
       "         [-1.7788e+00],\n",
       "         [-7.5040e-02],\n",
       "         [-3.6157e-02],\n",
       "         [ 1.7317e-01],\n",
       "         [-1.0532e+00],\n",
       "         [-7.0428e-01],\n",
       "         [-2.1433e-01],\n",
       "         [ 1.9896e+00],\n",
       "         [-1.8040e-01],\n",
       "         [-2.5341e+00],\n",
       "         [-4.4937e-01],\n",
       "         [-1.3651e+00],\n",
       "         [-1.2160e+00],\n",
       "         [-7.1458e-01],\n",
       "         [ 6.9753e-02],\n",
       "         [-1.0931e-01],\n",
       "         [-6.4797e-01],\n",
       "         [ 1.9417e+00],\n",
       "         [-8.2460e-01],\n",
       "         [ 3.2088e-01],\n",
       "         [-1.3225e+00],\n",
       "         [-8.1954e-01],\n",
       "         [ 1.3490e+00],\n",
       "         [-3.0188e-01],\n",
       "         [ 7.5146e-01],\n",
       "         [-1.4758e+00],\n",
       "         [-3.4803e-01],\n",
       "         [-8.2275e-02],\n",
       "         [ 1.3614e+00],\n",
       "         [ 1.1193e+00],\n",
       "         [ 3.2667e-01],\n",
       "         [ 3.4709e-01],\n",
       "         [ 1.2707e+00],\n",
       "         [ 4.2297e-02],\n",
       "         [-1.1336e+00],\n",
       "         [-1.6871e+00],\n",
       "         [-7.3307e-01],\n",
       "         [-4.1189e-01],\n",
       "         [ 1.6147e+00],\n",
       "         [ 1.2409e+00],\n",
       "         [-5.6109e-01],\n",
       "         [-1.4025e-02],\n",
       "         [ 5.1569e-01],\n",
       "         [ 7.2830e-01],\n",
       "         [-7.7986e-01],\n",
       "         [-3.6499e-01],\n",
       "         [ 1.9480e-01],\n",
       "         [ 1.9014e-01],\n",
       "         [ 1.1999e+00],\n",
       "         [-2.0181e-01],\n",
       "         [-4.2799e-02],\n",
       "         [-9.4434e-01],\n",
       "         [-1.2007e-01],\n",
       "         [-4.3164e-01],\n",
       "         [-3.2091e-01],\n",
       "         [ 4.1254e-01],\n",
       "         [ 4.0982e-01],\n",
       "         [-1.4374e+00],\n",
       "         [-6.3555e-01],\n",
       "         [-1.1131e+00],\n",
       "         [ 1.4640e+00],\n",
       "         [ 7.0126e-01],\n",
       "         [-1.3706e+00],\n",
       "         [ 1.0991e+00],\n",
       "         [-1.0869e+00],\n",
       "         [-1.3129e-01],\n",
       "         [ 3.4274e-01],\n",
       "         [-7.0667e-02],\n",
       "         [-1.1322e+00],\n",
       "         [ 8.4710e-01],\n",
       "         [-1.3482e+00],\n",
       "         [-5.3630e-01],\n",
       "         [ 7.1175e-01],\n",
       "         [-3.7447e-01],\n",
       "         [-1.7147e+00],\n",
       "         [-2.5684e-01],\n",
       "         [ 9.1088e-01],\n",
       "         [ 6.2995e-01],\n",
       "         [-4.1446e-01],\n",
       "         [ 1.2875e+00],\n",
       "         [ 1.2831e+00],\n",
       "         [ 4.7245e-01],\n",
       "         [ 1.9830e-01],\n",
       "         [-6.9654e-01],\n",
       "         [ 3.9697e-01],\n",
       "         [ 2.8033e-01],\n",
       "         [ 9.4148e-01],\n",
       "         [ 2.4631e-01]], requires_grad=True),\n",
       " tensor([2.2285], requires_grad=True))"
      ]
     },
     "execution_count": 27,
     "metadata": {},
     "output_type": "execute_result"
    }
   ],
   "source": [
    "weights,bias"
   ]
  },
  {
   "cell_type": "code",
   "execution_count": 28,
   "metadata": {
    "colab": {
     "base_uri": "https://localhost:8080/"
    },
    "id": "Xf6BJMR8pjGT",
    "outputId": "52eda4f7-6717-4abb-8040-c6967e7e34d6"
   },
   "outputs": [
    {
     "data": {
      "text/plain": [
       "tensor([-1.8145], grad_fn=<AddBackward0>)"
      ]
     },
     "execution_count": 28,
     "metadata": {},
     "output_type": "execute_result"
    }
   ],
   "source": [
    "(train_x[0]*weights.T).sum() + bias"
   ]
  },
  {
   "cell_type": "markdown",
   "metadata": {
    "id": "NiW1NviVqJ6i"
   },
   "source": [
    "`train_x[0]` is a row vector of 768 length and `weights` is a column vector, 768 height. Using `*` does elementwise multiply, so summing them gets us a single number. You can also do this for the same result:"
   ]
  },
  {
   "cell_type": "code",
   "execution_count": 29,
   "metadata": {
    "colab": {
     "base_uri": "https://localhost:8080/"
    },
    "id": "bRte7Kt-py5E",
    "outputId": "5b73d5c6-2cb0-4d24-9ae0-e942d76bb9fe"
   },
   "outputs": [
    {
     "data": {
      "text/plain": [
       "tensor([-1.8145], grad_fn=<AddBackward0>)"
      ]
     },
     "execution_count": 29,
     "metadata": {},
     "output_type": "execute_result"
    }
   ],
   "source": [
    "train_x[0]@weights + bias"
   ]
  },
  {
   "cell_type": "code",
   "execution_count": 30,
   "metadata": {
    "colab": {
     "base_uri": "https://localhost:8080/"
    },
    "id": "1ET2xyXkqn-E",
    "outputId": "bedfe702-ee68-46c5-ece0-1a1d55f06754"
   },
   "outputs": [
    {
     "data": {
      "text/plain": [
       "tensor([[-1.8145],\n",
       "        [-1.9063],\n",
       "        [-1.1777],\n",
       "        ...,\n",
       "        [ 6.3561],\n",
       "        [-5.0316],\n",
       "        [-2.1795]], grad_fn=<AddBackward0>)"
      ]
     },
     "execution_count": 30,
     "metadata": {},
     "output_type": "execute_result"
    }
   ],
   "source": [
    "def linear1(xb): return xb@weights + bias\n",
    "\n",
    "preds=linear1(train_x)\n",
    "preds"
   ]
  },
  {
   "cell_type": "markdown",
   "metadata": {
    "id": "xTIL-C9Qw1vH"
   },
   "source": [
    "Again, this works because of broadcasting. xb is the tensor of all of the images in the training set. So you do matrix multiplication by the weights, and broadcast across the training set. Also, the bias is a scalar addition that broadcasts across the training set in the obvious manner."
   ]
  },
  {
   "cell_type": "code",
   "execution_count": 31,
   "metadata": {
    "id": "fRtZmi9ysMF1"
   },
   "outputs": [],
   "source": [
    "corrects = (preds>0.0).float() == train_y"
   ]
  },
  {
   "cell_type": "code",
   "execution_count": 32,
   "metadata": {
    "colab": {
     "base_uri": "https://localhost:8080/"
    },
    "id": "nrJzz8Vcx4X_",
    "outputId": "fa8b6f5e-4e22-475b-e881-05086ede1430"
   },
   "outputs": [
    {
     "data": {
      "text/plain": [
       "tensor([[False],\n",
       "        [False],\n",
       "        [False],\n",
       "        ...,\n",
       "        [False],\n",
       "        [ True],\n",
       "        [ True]])"
      ]
     },
     "execution_count": 32,
     "metadata": {},
     "output_type": "execute_result"
    }
   ],
   "source": [
    "corrects"
   ]
  },
  {
   "cell_type": "code",
   "execution_count": 33,
   "metadata": {
    "colab": {
     "base_uri": "https://localhost:8080/"
    },
    "id": "zeqNhg2Vx5Wa",
    "outputId": "9f15362b-ba08-40c7-9308-9d33cbc21716"
   },
   "outputs": [
    {
     "data": {
      "text/plain": [
       "0.41489189863204956"
      ]
     },
     "execution_count": 33,
     "metadata": {},
     "output_type": "execute_result"
    }
   ],
   "source": [
    "corrects.float().mean().item()"
   ]
  },
  {
   "cell_type": "code",
   "execution_count": 34,
   "metadata": {
    "id": "iwJ2kdF1gsEf"
   },
   "outputs": [],
   "source": [
    "def sigmoid(x): return 1/(1 + torch.exp(-x))\n",
    "\n",
    "def mnist_loss(predictions, targets):\n",
    "    predictions = predictions.sigmoid()\n",
    "    return torch.where(targets==1, 1-predictions, predictions).mean()"
   ]
  },
  {
   "cell_type": "code",
   "execution_count": 35,
   "metadata": {},
   "outputs": [
    {
     "data": {
      "text/plain": [
       "(torch.Size([256, 784]), torch.Size([256, 1]))"
      ]
     },
     "execution_count": 35,
     "metadata": {},
     "output_type": "execute_result"
    }
   ],
   "source": [
    "# Starting at Putting it all together on p 171\n",
    "\n",
    "weights = init_params((28*28,1))\n",
    "bias = init_params(1)\n",
    "\n",
    "dl = DataLoader(dset, batch_size=256)\n",
    "xb, yb = first(dl)\n",
    "xb.shape, yb.shape"
   ]
  },
  {
   "cell_type": "code",
   "execution_count": 36,
   "metadata": {},
   "outputs": [],
   "source": [
    "valid_dl = DataLoader(valid_dset, batch_size=256)"
   ]
  },
  {
   "cell_type": "code",
   "execution_count": 37,
   "metadata": {},
   "outputs": [
    {
     "data": {
      "text/plain": [
       "torch.Size([4, 784])"
      ]
     },
     "execution_count": 37,
     "metadata": {},
     "output_type": "execute_result"
    }
   ],
   "source": [
    "batch = train_x[:4]\n",
    "batch.shape"
   ]
  },
  {
   "cell_type": "code",
   "execution_count": 38,
   "metadata": {},
   "outputs": [
    {
     "data": {
      "text/plain": [
       "tensor([[1.3367],\n",
       "        [0.0772],\n",
       "        [1.0377],\n",
       "        [3.2941]], grad_fn=<AddBackward0>)"
      ]
     },
     "execution_count": 38,
     "metadata": {},
     "output_type": "execute_result"
    }
   ],
   "source": [
    "preds = linear1(batch) # see cell 29\n",
    "preds"
   ]
  },
  {
   "cell_type": "code",
   "execution_count": 39,
   "metadata": {},
   "outputs": [
    {
     "data": {
      "text/plain": [
       "tensor(0.2465, grad_fn=<MeanBackward0>)"
      ]
     },
     "execution_count": 39,
     "metadata": {},
     "output_type": "execute_result"
    }
   ],
   "source": [
    "loss = mnist_loss(preds, train_y[:4])\n",
    "loss"
   ]
  },
  {
   "cell_type": "code",
   "execution_count": 40,
   "metadata": {},
   "outputs": [
    {
     "data": {
      "text/plain": [
       "(torch.Size([784, 1]), tensor(-0.0232), tensor([-0.1605]))"
      ]
     },
     "execution_count": 40,
     "metadata": {},
     "output_type": "execute_result"
    }
   ],
   "source": [
    "loss.backward()\n",
    "weights.grad.shape, weights.grad.mean(), bias.grad"
   ]
  },
  {
   "cell_type": "code",
   "execution_count": 41,
   "metadata": {},
   "outputs": [],
   "source": [
    "def calc_grad(xb, yb, model):\n",
    "    preds = model(xb)\n",
    "    loss = mnist_loss(preds, yb)\n",
    "    loss.backward()\n",
    "    \n",
    "calc_grad(batch, train_y[:4], linear1)"
   ]
  },
  {
   "cell_type": "code",
   "execution_count": 42,
   "metadata": {},
   "outputs": [
    {
     "data": {
      "text/plain": [
       "(tensor(-0.0464), tensor([-0.3210]))"
      ]
     },
     "execution_count": 42,
     "metadata": {},
     "output_type": "execute_result"
    }
   ],
   "source": [
    "weights.grad.mean(), bias.grad"
   ]
  },
  {
   "cell_type": "code",
   "execution_count": 43,
   "metadata": {},
   "outputs": [],
   "source": [
    "calc_grad(batch, train_y[:4], linear1)"
   ]
  },
  {
   "cell_type": "code",
   "execution_count": 44,
   "metadata": {},
   "outputs": [
    {
     "data": {
      "text/plain": [
       "(tensor(-0.0696), tensor([-0.4815]))"
      ]
     },
     "execution_count": 44,
     "metadata": {},
     "output_type": "execute_result"
    }
   ],
   "source": [
    "weights.grad.mean(), bias.grad"
   ]
  },
  {
   "cell_type": "code",
   "execution_count": 45,
   "metadata": {},
   "outputs": [
    {
     "data": {
      "text/plain": [
       "tensor([0.])"
      ]
     },
     "execution_count": 45,
     "metadata": {},
     "output_type": "execute_result"
    }
   ],
   "source": [
    "weights.grad.zero_()\n",
    "bias.grad.zero_()"
   ]
  },
  {
   "cell_type": "code",
   "execution_count": 46,
   "metadata": {},
   "outputs": [],
   "source": [
    "def train_epoch(model, lr, params):\n",
    "    for xb, yb in dl:\n",
    "        calc_grad(xb, yb, model)\n",
    "        for p in params:\n",
    "            p.data -= p.grad*lr\n",
    "            p.grad.zero_()  # Here is where we zero out\n",
    "            \n",
    "def batch_accuracy(xb, yb):\n",
    "    preds = xb.sigmoid()  # broadcast sigmoid over xb.\n",
    "    correct = (preds > 0.5) == yb  # broadcast > 0.5 over preds, then == over each of 256 in tensor.\n",
    "    return correct.float().mean()\n",
    "\n",
    "def validate_epoch(model):\n",
    "    accs = [batch_accuracy(model(xb), yb) for xb, yb in valid_dl]\n",
    "    return round(torch.stack(accs).mean().item(), 4)"
   ]
  },
  {
   "cell_type": "code",
   "execution_count": 47,
   "metadata": {},
   "outputs": [
    {
     "data": {
      "text/plain": [
       "tensor(1.)"
      ]
     },
     "execution_count": 47,
     "metadata": {},
     "output_type": "execute_result"
    }
   ],
   "source": [
    "batch_accuracy(linear1(batch), train_y[:4])"
   ]
  },
  {
   "cell_type": "code",
   "execution_count": 48,
   "metadata": {},
   "outputs": [
    {
     "data": {
      "text/plain": [
       "0.3496"
      ]
     },
     "execution_count": 48,
     "metadata": {},
     "output_type": "execute_result"
    }
   ],
   "source": [
    "validate_epoch(linear1)"
   ]
  },
  {
   "cell_type": "code",
   "execution_count": 49,
   "metadata": {},
   "outputs": [
    {
     "name": "stdout",
     "output_type": "stream",
     "text": [
      "0.5214  0.6742  0.8427  0.9076  0.9301  0.9374  0.9442  0.9486  0.954  0.9569  0.9589  0.9598  0.9633  0.9647  0.9652  0.9667  0.9682  0.9696  0.9711  0.9721  "
     ]
    }
   ],
   "source": [
    "lr = 1.\n",
    "params = weights, bias\n",
    "\n",
    "for _ in range(20):\n",
    "    train_epoch(linear1, lr, params)\n",
    "    print(validate_epoch(linear1), end=\"  \")"
   ]
  },
  {
   "cell_type": "markdown",
   "metadata": {},
   "source": [
    "Something is wrong with ^^^, but I am going to move on. I am pretty sure it is a typo somewhere."
   ]
  },
  {
   "cell_type": "code",
   "execution_count": 50,
   "metadata": {},
   "outputs": [
    {
     "data": {
      "text/plain": [
       "(torch.Size([1, 784]), torch.Size([1]))"
      ]
     },
     "execution_count": 50,
     "metadata": {},
     "output_type": "execute_result"
    }
   ],
   "source": [
    "linear_model = nn.Linear(28*28,1)\n",
    "\n",
    "w, b = linear_model.parameters()\n",
    "w.shape, b.shape"
   ]
  },
  {
   "cell_type": "code",
   "execution_count": 51,
   "metadata": {},
   "outputs": [],
   "source": [
    "class BasicOptim:\n",
    "    def __init__(self, params, lr): self.params, self.lr = list(params), lr\n",
    "    \n",
    "    def step(self, *args, **kwargs):\n",
    "        for p in self.params: p.data -= p.grad.data * self.lr\n",
    "    \n",
    "    def zero_grad(self, *args, **kwargs):\n",
    "        for p in self.params: p.grad = None\n",
    "\n",
    "lr = 1.\n",
    "\n",
    "opt = BasicOptim(linear_model.parameters(), lr)\n",
    "\n",
    "def train_epoch(model):\n",
    "    for xb, yb in dl:\n",
    "        calc_grad(xb, yb, model)\n",
    "        opt.step()\n",
    "        opt.zero_grad()"
   ]
  },
  {
   "cell_type": "code",
   "execution_count": 52,
   "metadata": {},
   "outputs": [
    {
     "data": {
      "text/plain": [
       "0.2989"
      ]
     },
     "execution_count": 52,
     "metadata": {},
     "output_type": "execute_result"
    }
   ],
   "source": [
    "validate_epoch(linear_model)"
   ]
  },
  {
   "cell_type": "code",
   "execution_count": 53,
   "metadata": {},
   "outputs": [],
   "source": [
    "def train_model(model, epochs):\n",
    "    for i in range(epochs):\n",
    "        train_epoch(model)\n",
    "        print(validate_epoch(model), end = \"  \")"
   ]
  },
  {
   "cell_type": "code",
   "execution_count": 54,
   "metadata": {},
   "outputs": [
    {
     "name": "stdout",
     "output_type": "stream",
     "text": [
      "0.4932  0.8354  0.8384  0.9136  0.9331  0.9458  0.955  0.9629  0.9653  0.9672  0.9697  0.9721  0.9736  0.9746  0.9756  0.9765  0.9775  0.9785  0.9785  0.9785  "
     ]
    }
   ],
   "source": [
    "train_model(linear_model, 20)"
   ]
  },
  {
   "cell_type": "code",
   "execution_count": 55,
   "metadata": {},
   "outputs": [
    {
     "name": "stdout",
     "output_type": "stream",
     "text": [
      "0.4932  0.8623  0.8374  0.9146  0.9341  0.9472  0.9565  0.9629  0.9658  0.9677  0.9692  0.9716  0.9741  0.9746  0.9761  0.9765  0.9775  0.978  0.9785  0.9785  "
     ]
    }
   ],
   "source": [
    "linear_model = nn.Linear(28*28,1)\n",
    "opt = SGD(linear_model.parameters(), lr)\n",
    "train_model(linear_model, 20)"
   ]
  },
  {
   "cell_type": "code",
   "execution_count": 56,
   "metadata": {},
   "outputs": [],
   "source": [
    "# I think something is wrong with how the validation data is being loaded in. It is the same bad result even with the Pytorch provided functions.\n",
    "# Outdated. See below."
   ]
  },
  {
   "cell_type": "code",
   "execution_count": 57,
   "metadata": {},
   "outputs": [
    {
     "data": {
      "text/html": [
       "\n",
       "<style>\n",
       "    /* Turns off some styling */\n",
       "    progress {\n",
       "        /* gets rid of default border in Firefox and Opera. */\n",
       "        border: none;\n",
       "        /* Needs to be in here for Safari polyfill so background images work as expected. */\n",
       "        background-size: auto;\n",
       "    }\n",
       "    progress:not([value]), progress:not([value])::-webkit-progress-bar {\n",
       "        background: repeating-linear-gradient(45deg, #7e7e7e, #7e7e7e 10px, #5c5c5c 10px, #5c5c5c 20px);\n",
       "    }\n",
       "    .progress-bar-interrupted, .progress-bar-interrupted::-webkit-progress-bar {\n",
       "        background: #F44336;\n",
       "    }\n",
       "</style>\n"
      ],
      "text/plain": [
       "<IPython.core.display.HTML object>"
      ]
     },
     "metadata": {},
     "output_type": "display_data"
    },
    {
     "data": {
      "text/html": [
       "<table border=\"1\" class=\"dataframe\">\n",
       "  <thead>\n",
       "    <tr style=\"text-align: left;\">\n",
       "      <th>epoch</th>\n",
       "      <th>train_loss</th>\n",
       "      <th>valid_loss</th>\n",
       "      <th>batch_accuracy</th>\n",
       "      <th>time</th>\n",
       "    </tr>\n",
       "  </thead>\n",
       "  <tbody>\n",
       "    <tr>\n",
       "      <td>0</td>\n",
       "      <td>0.635752</td>\n",
       "      <td>0.503026</td>\n",
       "      <td>0.495584</td>\n",
       "      <td>00:00</td>\n",
       "    </tr>\n",
       "    <tr>\n",
       "      <td>1</td>\n",
       "      <td>0.407830</td>\n",
       "      <td>0.271499</td>\n",
       "      <td>0.743376</td>\n",
       "      <td>00:00</td>\n",
       "    </tr>\n",
       "    <tr>\n",
       "      <td>2</td>\n",
       "      <td>0.154331</td>\n",
       "      <td>0.151566</td>\n",
       "      <td>0.866536</td>\n",
       "      <td>00:00</td>\n",
       "    </tr>\n",
       "    <tr>\n",
       "      <td>3</td>\n",
       "      <td>0.070078</td>\n",
       "      <td>0.096767</td>\n",
       "      <td>0.918057</td>\n",
       "      <td>00:00</td>\n",
       "    </tr>\n",
       "    <tr>\n",
       "      <td>4</td>\n",
       "      <td>0.038938</td>\n",
       "      <td>0.072876</td>\n",
       "      <td>0.935231</td>\n",
       "      <td>00:00</td>\n",
       "    </tr>\n",
       "    <tr>\n",
       "      <td>5</td>\n",
       "      <td>0.026678</td>\n",
       "      <td>0.059371</td>\n",
       "      <td>0.949951</td>\n",
       "      <td>00:00</td>\n",
       "    </tr>\n",
       "    <tr>\n",
       "      <td>6</td>\n",
       "      <td>0.021574</td>\n",
       "      <td>0.050801</td>\n",
       "      <td>0.957802</td>\n",
       "      <td>00:00</td>\n",
       "    </tr>\n",
       "    <tr>\n",
       "      <td>7</td>\n",
       "      <td>0.019254</td>\n",
       "      <td>0.045017</td>\n",
       "      <td>0.963690</td>\n",
       "      <td>00:00</td>\n",
       "    </tr>\n",
       "    <tr>\n",
       "      <td>8</td>\n",
       "      <td>0.018040</td>\n",
       "      <td>0.040903</td>\n",
       "      <td>0.965653</td>\n",
       "      <td>00:00</td>\n",
       "    </tr>\n",
       "    <tr>\n",
       "      <td>9</td>\n",
       "      <td>0.017286</td>\n",
       "      <td>0.037843</td>\n",
       "      <td>0.967125</td>\n",
       "      <td>00:00</td>\n",
       "    </tr>\n",
       "  </tbody>\n",
       "</table>"
      ],
      "text/plain": [
       "<IPython.core.display.HTML object>"
      ]
     },
     "metadata": {},
     "output_type": "display_data"
    }
   ],
   "source": [
    "dls = DataLoaders(dl, valid_dl)\n",
    "\n",
    "learn = Learner(dls, nn.Linear(28*28,1), opt_func=SGD, loss_func=mnist_loss, metrics=batch_accuracy)\n",
    "\n",
    "learn.fit(10, lr=lr)"
   ]
  },
  {
   "cell_type": "code",
   "execution_count": 58,
   "metadata": {},
   "outputs": [],
   "source": [
    "# Yeah, definitely the validation set."
   ]
  },
  {
   "cell_type": "code",
   "execution_count": 59,
   "metadata": {},
   "outputs": [
    {
     "data": {
      "text/html": [
       "\n",
       "<style>\n",
       "    /* Turns off some styling */\n",
       "    progress {\n",
       "        /* gets rid of default border in Firefox and Opera. */\n",
       "        border: none;\n",
       "        /* Needs to be in here for Safari polyfill so background images work as expected. */\n",
       "        background-size: auto;\n",
       "    }\n",
       "    progress:not([value]), progress:not([value])::-webkit-progress-bar {\n",
       "        background: repeating-linear-gradient(45deg, #7e7e7e, #7e7e7e 10px, #5c5c5c 10px, #5c5c5c 20px);\n",
       "    }\n",
       "    .progress-bar-interrupted, .progress-bar-interrupted::-webkit-progress-bar {\n",
       "        background: #F44336;\n",
       "    }\n",
       "</style>\n"
      ],
      "text/plain": [
       "<IPython.core.display.HTML object>"
      ]
     },
     "metadata": {},
     "output_type": "display_data"
    },
    {
     "data": {
      "text/html": [
       "<table border=\"1\" class=\"dataframe\">\n",
       "  <thead>\n",
       "    <tr style=\"text-align: left;\">\n",
       "      <th>epoch</th>\n",
       "      <th>train_loss</th>\n",
       "      <th>valid_loss</th>\n",
       "      <th>batch_accuracy</th>\n",
       "      <th>time</th>\n",
       "    </tr>\n",
       "  </thead>\n",
       "  <tbody>\n",
       "    <tr>\n",
       "      <td>0</td>\n",
       "      <td>0.026134</td>\n",
       "      <td>0.030285</td>\n",
       "      <td>0.974485</td>\n",
       "      <td>00:00</td>\n",
       "    </tr>\n",
       "    <tr>\n",
       "      <td>1</td>\n",
       "      <td>0.023528</td>\n",
       "      <td>0.028378</td>\n",
       "      <td>0.976448</td>\n",
       "      <td>00:00</td>\n",
       "    </tr>\n",
       "    <tr>\n",
       "      <td>2</td>\n",
       "      <td>0.022237</td>\n",
       "      <td>0.027812</td>\n",
       "      <td>0.978901</td>\n",
       "      <td>00:00</td>\n",
       "    </tr>\n",
       "    <tr>\n",
       "      <td>3</td>\n",
       "      <td>0.021628</td>\n",
       "      <td>0.027614</td>\n",
       "      <td>0.978410</td>\n",
       "      <td>00:00</td>\n",
       "    </tr>\n",
       "    <tr>\n",
       "      <td>4</td>\n",
       "      <td>0.021345</td>\n",
       "      <td>0.027513</td>\n",
       "      <td>0.978410</td>\n",
       "      <td>00:00</td>\n",
       "    </tr>\n",
       "    <tr>\n",
       "      <td>5</td>\n",
       "      <td>0.021200</td>\n",
       "      <td>0.027432</td>\n",
       "      <td>0.978410</td>\n",
       "      <td>00:00</td>\n",
       "    </tr>\n",
       "    <tr>\n",
       "      <td>6</td>\n",
       "      <td>0.021105</td>\n",
       "      <td>0.027350</td>\n",
       "      <td>0.977920</td>\n",
       "      <td>00:00</td>\n",
       "    </tr>\n",
       "    <tr>\n",
       "      <td>7</td>\n",
       "      <td>0.021025</td>\n",
       "      <td>0.027264</td>\n",
       "      <td>0.977920</td>\n",
       "      <td>00:00</td>\n",
       "    </tr>\n",
       "    <tr>\n",
       "      <td>8</td>\n",
       "      <td>0.020946</td>\n",
       "      <td>0.027176</td>\n",
       "      <td>0.977920</td>\n",
       "      <td>00:00</td>\n",
       "    </tr>\n",
       "    <tr>\n",
       "      <td>9</td>\n",
       "      <td>0.020867</td>\n",
       "      <td>0.027087</td>\n",
       "      <td>0.977920</td>\n",
       "      <td>00:00</td>\n",
       "    </tr>\n",
       "    <tr>\n",
       "      <td>10</td>\n",
       "      <td>0.020786</td>\n",
       "      <td>0.026996</td>\n",
       "      <td>0.977920</td>\n",
       "      <td>00:00</td>\n",
       "    </tr>\n",
       "    <tr>\n",
       "      <td>11</td>\n",
       "      <td>0.020704</td>\n",
       "      <td>0.026907</td>\n",
       "      <td>0.978410</td>\n",
       "      <td>00:00</td>\n",
       "    </tr>\n",
       "    <tr>\n",
       "      <td>12</td>\n",
       "      <td>0.020623</td>\n",
       "      <td>0.026817</td>\n",
       "      <td>0.978410</td>\n",
       "      <td>00:00</td>\n",
       "    </tr>\n",
       "    <tr>\n",
       "      <td>13</td>\n",
       "      <td>0.020542</td>\n",
       "      <td>0.026729</td>\n",
       "      <td>0.978410</td>\n",
       "      <td>00:00</td>\n",
       "    </tr>\n",
       "    <tr>\n",
       "      <td>14</td>\n",
       "      <td>0.020463</td>\n",
       "      <td>0.026642</td>\n",
       "      <td>0.978410</td>\n",
       "      <td>00:00</td>\n",
       "    </tr>\n",
       "    <tr>\n",
       "      <td>15</td>\n",
       "      <td>0.020384</td>\n",
       "      <td>0.026557</td>\n",
       "      <td>0.978410</td>\n",
       "      <td>00:00</td>\n",
       "    </tr>\n",
       "    <tr>\n",
       "      <td>16</td>\n",
       "      <td>0.020307</td>\n",
       "      <td>0.026472</td>\n",
       "      <td>0.978410</td>\n",
       "      <td>00:00</td>\n",
       "    </tr>\n",
       "    <tr>\n",
       "      <td>17</td>\n",
       "      <td>0.020231</td>\n",
       "      <td>0.026389</td>\n",
       "      <td>0.979392</td>\n",
       "      <td>00:00</td>\n",
       "    </tr>\n",
       "    <tr>\n",
       "      <td>18</td>\n",
       "      <td>0.020157</td>\n",
       "      <td>0.026307</td>\n",
       "      <td>0.979392</td>\n",
       "      <td>00:00</td>\n",
       "    </tr>\n",
       "    <tr>\n",
       "      <td>19</td>\n",
       "      <td>0.020084</td>\n",
       "      <td>0.026226</td>\n",
       "      <td>0.979392</td>\n",
       "      <td>00:00</td>\n",
       "    </tr>\n",
       "    <tr>\n",
       "      <td>20</td>\n",
       "      <td>0.020012</td>\n",
       "      <td>0.026147</td>\n",
       "      <td>0.979392</td>\n",
       "      <td>00:00</td>\n",
       "    </tr>\n",
       "    <tr>\n",
       "      <td>21</td>\n",
       "      <td>0.019942</td>\n",
       "      <td>0.026068</td>\n",
       "      <td>0.979392</td>\n",
       "      <td>00:00</td>\n",
       "    </tr>\n",
       "    <tr>\n",
       "      <td>22</td>\n",
       "      <td>0.019872</td>\n",
       "      <td>0.025992</td>\n",
       "      <td>0.979882</td>\n",
       "      <td>00:00</td>\n",
       "    </tr>\n",
       "    <tr>\n",
       "      <td>23</td>\n",
       "      <td>0.019804</td>\n",
       "      <td>0.025916</td>\n",
       "      <td>0.979882</td>\n",
       "      <td>00:00</td>\n",
       "    </tr>\n",
       "    <tr>\n",
       "      <td>24</td>\n",
       "      <td>0.019737</td>\n",
       "      <td>0.025841</td>\n",
       "      <td>0.980373</td>\n",
       "      <td>00:00</td>\n",
       "    </tr>\n",
       "    <tr>\n",
       "      <td>25</td>\n",
       "      <td>0.019671</td>\n",
       "      <td>0.025768</td>\n",
       "      <td>0.980373</td>\n",
       "      <td>00:00</td>\n",
       "    </tr>\n",
       "    <tr>\n",
       "      <td>26</td>\n",
       "      <td>0.019607</td>\n",
       "      <td>0.025696</td>\n",
       "      <td>0.980373</td>\n",
       "      <td>00:00</td>\n",
       "    </tr>\n",
       "    <tr>\n",
       "      <td>27</td>\n",
       "      <td>0.019543</td>\n",
       "      <td>0.025625</td>\n",
       "      <td>0.980373</td>\n",
       "      <td>00:00</td>\n",
       "    </tr>\n",
       "    <tr>\n",
       "      <td>28</td>\n",
       "      <td>0.019480</td>\n",
       "      <td>0.025555</td>\n",
       "      <td>0.980373</td>\n",
       "      <td>00:00</td>\n",
       "    </tr>\n",
       "    <tr>\n",
       "      <td>29</td>\n",
       "      <td>0.019419</td>\n",
       "      <td>0.025486</td>\n",
       "      <td>0.980373</td>\n",
       "      <td>00:00</td>\n",
       "    </tr>\n",
       "    <tr>\n",
       "      <td>30</td>\n",
       "      <td>0.019358</td>\n",
       "      <td>0.025418</td>\n",
       "      <td>0.980373</td>\n",
       "      <td>00:00</td>\n",
       "    </tr>\n",
       "    <tr>\n",
       "      <td>31</td>\n",
       "      <td>0.019298</td>\n",
       "      <td>0.025351</td>\n",
       "      <td>0.980373</td>\n",
       "      <td>00:00</td>\n",
       "    </tr>\n",
       "    <tr>\n",
       "      <td>32</td>\n",
       "      <td>0.019240</td>\n",
       "      <td>0.025285</td>\n",
       "      <td>0.980373</td>\n",
       "      <td>00:00</td>\n",
       "    </tr>\n",
       "    <tr>\n",
       "      <td>33</td>\n",
       "      <td>0.019182</td>\n",
       "      <td>0.025220</td>\n",
       "      <td>0.980373</td>\n",
       "      <td>00:00</td>\n",
       "    </tr>\n",
       "    <tr>\n",
       "      <td>34</td>\n",
       "      <td>0.019125</td>\n",
       "      <td>0.025157</td>\n",
       "      <td>0.980864</td>\n",
       "      <td>00:00</td>\n",
       "    </tr>\n",
       "    <tr>\n",
       "      <td>35</td>\n",
       "      <td>0.019068</td>\n",
       "      <td>0.025094</td>\n",
       "      <td>0.980864</td>\n",
       "      <td>00:00</td>\n",
       "    </tr>\n",
       "    <tr>\n",
       "      <td>36</td>\n",
       "      <td>0.019013</td>\n",
       "      <td>0.025032</td>\n",
       "      <td>0.980864</td>\n",
       "      <td>00:00</td>\n",
       "    </tr>\n",
       "    <tr>\n",
       "      <td>37</td>\n",
       "      <td>0.018958</td>\n",
       "      <td>0.024971</td>\n",
       "      <td>0.980864</td>\n",
       "      <td>00:00</td>\n",
       "    </tr>\n",
       "    <tr>\n",
       "      <td>38</td>\n",
       "      <td>0.018904</td>\n",
       "      <td>0.024910</td>\n",
       "      <td>0.980864</td>\n",
       "      <td>00:00</td>\n",
       "    </tr>\n",
       "    <tr>\n",
       "      <td>39</td>\n",
       "      <td>0.018851</td>\n",
       "      <td>0.024851</td>\n",
       "      <td>0.980864</td>\n",
       "      <td>00:00</td>\n",
       "    </tr>\n",
       "  </tbody>\n",
       "</table>"
      ],
      "text/plain": [
       "<IPython.core.display.HTML object>"
      ]
     },
     "metadata": {},
     "output_type": "display_data"
    }
   ],
   "source": [
    "simple_net = nn.Sequential(\n",
    "    nn.Linear(28*28,30),\n",
    "    nn.ReLU(),\n",
    "    nn.Linear(30,1)\n",
    ")\n",
    "\n",
    "learner = Learner(dls, simple_net, opt_func=SGD, loss_func=mnist_loss, metrics=batch_accuracy)\n",
    "\n",
    "learn.fit(40,0.1)"
   ]
  },
  {
   "cell_type": "code",
   "execution_count": 60,
   "metadata": {},
   "outputs": [],
   "source": [
    "# Ok, I went back and looked at the mean valid 3 and mean valid 7, turns out I was pulling in 3 for both of them. So of course validation failed. I changed it to the correct path and now it works."
   ]
  },
  {
   "cell_type": "code",
   "execution_count": null,
   "metadata": {},
   "outputs": [],
   "source": []
  }
 ],
 "metadata": {
  "colab": {
   "authorship_tag": "ABX9TyNh5uyUUbEJZbImDf41bhNF",
   "include_colab_link": true,
   "provenance": []
  },
  "kernelspec": {
   "display_name": "Python 3 (ipykernel)",
   "language": "python",
   "name": "python3"
  },
  "language_info": {
   "codemirror_mode": {
    "name": "ipython",
    "version": 3
   },
   "file_extension": ".py",
   "mimetype": "text/x-python",
   "name": "python",
   "nbconvert_exporter": "python",
   "pygments_lexer": "ipython3",
   "version": "3.8.10"
  }
 },
 "nbformat": 4,
 "nbformat_minor": 1
}
