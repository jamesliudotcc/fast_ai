{
 "cells": [
  {
   "cell_type": "markdown",
   "metadata": {
    "colab_type": "text",
    "id": "view-in-github"
   },
   "source": [
    "<a href=\"https://colab.research.google.com/github/jamesliudotcc/fast_ai/blob/main/Build_a_digit_classifier.ipynb\" target=\"_parent\"><img src=\"https://colab.research.google.com/assets/colab-badge.svg\" alt=\"Open In Colab\"/></a>"
   ]
  },
  {
   "cell_type": "code",
   "execution_count": 1,
   "metadata": {
    "id": "nvFiwJENmnXR"
   },
   "outputs": [],
   "source": [
    "!pip install -Uqq fastai"
   ]
  },
  {
   "cell_type": "code",
   "execution_count": 2,
   "metadata": {
    "id": "3MQagfePRnvR"
   },
   "outputs": [],
   "source": [
    "from fastai.vision.all import *"
   ]
  },
  {
   "cell_type": "code",
   "execution_count": 3,
   "metadata": {
    "colab": {
     "base_uri": "https://localhost:8080/",
     "height": 37
    },
    "id": "_6u8h7gQTCFc",
    "outputId": "89f6e00a-caf7-4dc9-8489-2697be113464"
   },
   "outputs": [
    {
     "data": {
      "text/html": [
       "\n",
       "<style>\n",
       "    /* Turns off some styling */\n",
       "    progress {\n",
       "        /* gets rid of default border in Firefox and Opera. */\n",
       "        border: none;\n",
       "        /* Needs to be in here for Safari polyfill so background images work as expected. */\n",
       "        background-size: auto;\n",
       "    }\n",
       "    progress:not([value]), progress:not([value])::-webkit-progress-bar {\n",
       "        background: repeating-linear-gradient(45deg, #7e7e7e, #7e7e7e 10px, #5c5c5c 10px, #5c5c5c 20px);\n",
       "    }\n",
       "    .progress-bar-interrupted, .progress-bar-interrupted::-webkit-progress-bar {\n",
       "        background: #F44336;\n",
       "    }\n",
       "</style>\n"
      ],
      "text/plain": [
       "<IPython.core.display.HTML object>"
      ]
     },
     "metadata": {},
     "output_type": "display_data"
    },
    {
     "data": {
      "text/html": [
       "\n",
       "    <div>\n",
       "      <progress value='3219456' class='' max='3214948' style='width:300px; height:20px; vertical-align: middle;'></progress>\n",
       "      100.14% [3219456/3214948 00:00&lt;00:00]\n",
       "    </div>\n",
       "    "
      ],
      "text/plain": [
       "<IPython.core.display.HTML object>"
      ]
     },
     "metadata": {},
     "output_type": "display_data"
    }
   ],
   "source": [
    "path = untar_data(URLs.MNIST_SAMPLE)"
   ]
  },
  {
   "cell_type": "code",
   "execution_count": 4,
   "metadata": {
    "colab": {
     "base_uri": "https://localhost:8080/"
    },
    "id": "YUNtXNYlTN-4",
    "outputId": "aaa67bec-877c-481a-f740-4a967d50b270"
   },
   "outputs": [
    {
     "data": {
      "text/plain": [
       "(#3) [Path('/home/james/.fastai/data/mnist_sample/valid'),Path('/home/james/.fastai/data/mnist_sample/train'),Path('/home/james/.fastai/data/mnist_sample/labels.csv')]"
      ]
     },
     "execution_count": 4,
     "metadata": {},
     "output_type": "execute_result"
    }
   ],
   "source": [
    "path.ls()"
   ]
  },
  {
   "cell_type": "code",
   "execution_count": 5,
   "metadata": {
    "colab": {
     "base_uri": "https://localhost:8080/"
    },
    "id": "CLIWZ-gYbyhw",
    "outputId": "b415b905-6830-45de-8ade-3895c6ac2da5"
   },
   "outputs": [
    {
     "data": {
      "text/plain": [
       "(#2) [Path('/home/james/.fastai/data/mnist_sample/train/3'),Path('/home/james/.fastai/data/mnist_sample/train/7')]"
      ]
     },
     "execution_count": 5,
     "metadata": {},
     "output_type": "execute_result"
    }
   ],
   "source": [
    "(path/\"train\").ls()"
   ]
  },
  {
   "cell_type": "code",
   "execution_count": 6,
   "metadata": {
    "id": "swtgWpcVnedT"
   },
   "outputs": [],
   "source": [
    "threes = (path/\"train\"/\"3\").ls().sorted()\n",
    "sevens = (path/\"train\"/\"7\").ls().sorted()"
   ]
  },
  {
   "cell_type": "code",
   "execution_count": 7,
   "metadata": {
    "colab": {
     "base_uri": "https://localhost:8080/",
     "height": 45
    },
    "id": "nyILUNZ4oOHB",
    "outputId": "08fde862-be4e-4d7d-f6af-29fb5a0fa679"
   },
   "outputs": [
    {
     "data": {
      "image/png": "[encoded data removed]",
      "text/plain": [
       "<PIL.PngImagePlugin.PngImageFile image mode=L size=28x28>"
      ]
     },
     "execution_count": 7,
     "metadata": {},
     "output_type": "execute_result"
    }
   ],
   "source": [
    "im3_path = threes[1]\n",
    "im3 = Image.open(im3_path)  # Image is PIL.Image\n",
    "im3"
   ]
  },
  {
   "cell_type": "code",
   "execution_count": 8,
   "metadata": {
    "colab": {
     "base_uri": "https://localhost:8080/"
    },
    "id": "Z1G1HzKtpHUl",
    "outputId": "ef7d6d3a-a681-471c-83db-263594780cb2"
   },
   "outputs": [
    {
     "data": {
      "text/plain": [
       "array([[  0,   0,   0,   0,   0,   0,   0,   0,   0,   0,   0,   0],\n",
       "       [  0,   0,   0,   0,   0,   0,   0,   0,   0,   0,   0,   0],\n",
       "       [  0,   0,   0,   0,   0,   0,   0,   0,   0,   0,   0,   0],\n",
       "       [  0,   0,   0,   0,   0,   0,   0,   0,   0,   0,   0,   0],\n",
       "       [  0,   0,   0,   0,   0,   0,   0,   0,   0,   0,   0,   0],\n",
       "       [  0,  29, 150, 195, 254, 255, 254, 176, 193, 150,  96,   0],\n",
       "       [166, 224, 253, 253, 234, 196, 253, 253, 253, 253, 233,   0],\n",
       "       [253, 187,  46,  10,   8,   4,  10, 194, 253, 253, 233,   0],\n",
       "       [230,  48,   0,   0,   0,   0,   0, 192, 253, 253, 156,   0],\n",
       "       [ 15,   0,   0,   0,   0,   0,  43, 224, 253, 245,  74,   0],\n",
       "       [  0,   0,   0,   0,   0,   0, 249, 253, 245, 126,   0,   0],\n",
       "       [  0,   0,   0,  14, 101, 223, 253, 248, 124,   0,   0,   0],\n",
       "       [  0,  11, 166, 239, 253, 253, 253, 187,  30,   0,   0,   0],\n",
       "       [  0,  16, 248, 250, 253, 253, 253, 253, 232, 213, 111,   2],\n",
       "       [  0,   0,   0,  43,  98,  98, 208, 253, 253, 253, 253, 187],\n",
       "       [  0,   0,   0,   0,   0,   0,   9,  51, 119, 253, 253, 253],\n",
       "       [  0,   0,   0,   0,   0,   0,   0,   0,   1, 183, 253, 253],\n",
       "       [  0,   0,   0,   0,   0,   0,   0,   0,   0, 182, 253, 253],\n",
       "       [  0,   0,   0,   0,   0,   0,   0,   0,  85, 249, 253, 253],\n",
       "       [  0,   0,   0,   0,   0,   0,   0,  60, 214, 253, 253, 173],\n",
       "       [  0,   0,   0,   0,   0,   0,  98, 247, 253, 253, 226,   9],\n",
       "       [  0,   0,   0,   0,  42, 150, 252, 253, 253, 233,  53,   0],\n",
       "       [ 42,  60, 115, 159, 240, 253, 253, 250, 175,  25,   0,   0],\n",
       "       [253, 253, 253, 253, 253, 253, 197,  86,   0,   0,   0,   0],\n",
       "       [253, 253, 253, 253, 232,  67,   1,   0,   0,   0,   0,   0],\n",
       "       [  0,   0,   0,   0,   0,   0,   0,   0,   0,   0,   0,   0],\n",
       "       [  0,   0,   0,   0,   0,   0,   0,   0,   0,   0,   0,   0],\n",
       "       [  0,   0,   0,   0,   0,   0,   0,   0,   0,   0,   0,   0]],\n",
       "      dtype=uint8)"
      ]
     },
     "execution_count": 8,
     "metadata": {},
     "output_type": "execute_result"
    }
   ],
   "source": [
    "array(im3)[:, 8:-8] # whole height, truncate the width to fit."
   ]
  },
  {
   "cell_type": "code",
   "execution_count": 9,
   "metadata": {
    "colab": {
     "base_uri": "https://localhost:8080/"
    },
    "id": "tnc7HcVRpnFJ",
    "outputId": "a22a005d-c9f0-4e79-9205-1d81d5c1d052"
   },
   "outputs": [
    {
     "data": {
      "text/plain": [
       "tensor([[  0,   0,   0,   0,   0,   0,   0,   0,   0,   0,   0,   0],\n",
       "        [  0,   0,   0,   0,   0,   0,   0,   0,   0,   0,   0,   0],\n",
       "        [  0,   0,   0,   0,   0,   0,   0,   0,   0,   0,   0,   0],\n",
       "        [  0,   0,   0,   0,   0,   0,   0,   0,   0,   0,   0,   0],\n",
       "        [  0,   0,   0,   0,   0,   0,   0,   0,   0,   0,   0,   0],\n",
       "        [  0,  29, 150, 195, 254, 255, 254, 176, 193, 150,  96,   0],\n",
       "        [166, 224, 253, 253, 234, 196, 253, 253, 253, 253, 233,   0],\n",
       "        [253, 187,  46,  10,   8,   4,  10, 194, 253, 253, 233,   0],\n",
       "        [230,  48,   0,   0,   0,   0,   0, 192, 253, 253, 156,   0],\n",
       "        [ 15,   0,   0,   0,   0,   0,  43, 224, 253, 245,  74,   0],\n",
       "        [  0,   0,   0,   0,   0,   0, 249, 253, 245, 126,   0,   0],\n",
       "        [  0,   0,   0,  14, 101, 223, 253, 248, 124,   0,   0,   0],\n",
       "        [  0,  11, 166, 239, 253, 253, 253, 187,  30,   0,   0,   0],\n",
       "        [  0,  16, 248, 250, 253, 253, 253, 253, 232, 213, 111,   2],\n",
       "        [  0,   0,   0,  43,  98,  98, 208, 253, 253, 253, 253, 187],\n",
       "        [  0,   0,   0,   0,   0,   0,   9,  51, 119, 253, 253, 253],\n",
       "        [  0,   0,   0,   0,   0,   0,   0,   0,   1, 183, 253, 253],\n",
       "        [  0,   0,   0,   0,   0,   0,   0,   0,   0, 182, 253, 253],\n",
       "        [  0,   0,   0,   0,   0,   0,   0,   0,  85, 249, 253, 253],\n",
       "        [  0,   0,   0,   0,   0,   0,   0,  60, 214, 253, 253, 173],\n",
       "        [  0,   0,   0,   0,   0,   0,  98, 247, 253, 253, 226,   9],\n",
       "        [  0,   0,   0,   0,  42, 150, 252, 253, 253, 233,  53,   0],\n",
       "        [ 42,  60, 115, 159, 240, 253, 253, 250, 175,  25,   0,   0],\n",
       "        [253, 253, 253, 253, 253, 253, 197,  86,   0,   0,   0,   0],\n",
       "        [253, 253, 253, 253, 232,  67,   1,   0,   0,   0,   0,   0],\n",
       "        [  0,   0,   0,   0,   0,   0,   0,   0,   0,   0,   0,   0],\n",
       "        [  0,   0,   0,   0,   0,   0,   0,   0,   0,   0,   0,   0],\n",
       "        [  0,   0,   0,   0,   0,   0,   0,   0,   0,   0,   0,   0]],\n",
       "       dtype=torch.uint8)"
      ]
     },
     "execution_count": 9,
     "metadata": {},
     "output_type": "execute_result"
    }
   ],
   "source": [
    "tensor(im3)[:, 8:-8] # whole height, truncate the width to fit."
   ]
  },
  {
   "cell_type": "code",
   "execution_count": 10,
   "metadata": {
    "colab": {
     "base_uri": "https://localhost:8080/"
    },
    "id": "d91tQyQypRsW",
    "outputId": "5c5f3f2a-dfcf-4cc1-e0bd-399088e9d1dc"
   },
   "outputs": [
    {
     "data": {
      "text/plain": [
       "(6131, 6265)"
      ]
     },
     "execution_count": 10,
     "metadata": {},
     "output_type": "execute_result"
    }
   ],
   "source": [
    "seven_tensors = [tensor(Image.open(f)) for f in sevens]\n",
    "three_tensors = [tensor(Image.open(f)) for f in threes]\n",
    "len(three_tensors),len(seven_tensors)"
   ]
  },
  {
   "cell_type": "markdown",
   "metadata": {
    "id": "JnC7TeEAultE"
   },
   "source": [
    "I gave the following some thought, why would it work to .float() and /255? Because of broadcasting. If you apply a method like float that works on individual numbers, or do an arithmetic operation, it broadcasts. Ok, that was tripping me up. "
   ]
  },
  {
   "cell_type": "code",
   "execution_count": 11,
   "metadata": {
    "colab": {
     "base_uri": "https://localhost:8080/"
    },
    "id": "GHEVDpvmuJNA",
    "outputId": "b8cbb96d-6009-41a3-d3c0-ebedf035389c"
   },
   "outputs": [
    {
     "data": {
      "text/plain": [
       "torch.Size([6131, 28, 28])"
      ]
     },
     "execution_count": 11,
     "metadata": {},
     "output_type": "execute_result"
    }
   ],
   "source": [
    "stacked_sevens = torch.stack(seven_tensors).float()/255\n",
    "stacked_threes = torch.stack(three_tensors).float()/255\n",
    "\n",
    "stacked_threes.shape"
   ]
  },
  {
   "cell_type": "code",
   "execution_count": 12,
   "metadata": {
    "colab": {
     "base_uri": "https://localhost:8080/",
     "height": 228
    },
    "id": "uvQ7AaWnu87b",
    "outputId": "bf6a2f6a-0071-4bbe-9655-fd6cf80bf34b"
   },
   "outputs": [
    {
     "data": {
      "text/plain": [
       "(<Axes: >, <Axes: >)"
      ]
     },
     "execution_count": 12,
     "metadata": {},
     "output_type": "execute_result"
    },
    {
     "data": {
      "image/png": "[encoded data removed]",
      "text/plain": [
       "<Figure size 100x100 with 1 Axes>"
      ]
     },
     "metadata": {},
     "output_type": "display_data"
    },
    {
     "data": {
      "image/png": "[encoded data removed]",
      "text/plain": [
       "<Figure size 100x100 with 1 Axes>"
      ]
     },
     "metadata": {},
     "output_type": "display_data"
    }
   ],
   "source": [
    "mean3 = stacked_threes.mean(0)\n",
    "mean7 = stacked_sevens.mean(0)\n",
    "\n",
    "show_image(mean3),show_image(mean7)"
   ]
  },
  {
   "cell_type": "code",
   "execution_count": 13,
   "metadata": {
    "colab": {
     "base_uri": "https://localhost:8080/",
     "height": 131
    },
    "id": "xPctJzP10ta6",
    "outputId": "3198a08f-7cb6-483f-c1b0-749a2c5cf330"
   },
   "outputs": [
    {
     "data": {
      "text/plain": [
       "<Axes: >"
      ]
     },
     "execution_count": 13,
     "metadata": {},
     "output_type": "execute_result"
    },
    {
     "data": {
      "image/png": "[encoded data removed]",
      "text/plain": [
       "<Figure size 100x100 with 1 Axes>"
      ]
     },
     "metadata": {},
     "output_type": "display_data"
    }
   ],
   "source": [
    "show_image(mean3-mean7)"
   ]
  },
  {
   "cell_type": "code",
   "execution_count": 14,
   "metadata": {
    "colab": {
     "base_uri": "https://localhost:8080/",
     "height": 131
    },
    "id": "kkttH3ENJGDT",
    "outputId": "9a632d23-c057-4816-fcf1-2938898a4be8"
   },
   "outputs": [
    {
     "data": {
      "text/plain": [
       "<Axes: >"
      ]
     },
     "execution_count": 14,
     "metadata": {},
     "output_type": "execute_result"
    },
    {
     "data": {
      "image/png": "[encoded data removed]",
      "text/plain": [
       "<Figure size 100x100 with 1 Axes>"
      ]
     },
     "metadata": {},
     "output_type": "display_data"
    }
   ],
   "source": [
    "a_3 = stacked_threes[1]\n",
    "show_image(a_3)"
   ]
  },
  {
   "cell_type": "code",
   "execution_count": 15,
   "metadata": {
    "colab": {
     "base_uri": "https://localhost:8080/"
    },
    "id": "sO8EIbpTKtNa",
    "outputId": "88e6b074-d2fe-44d7-c63e-9d6ad25a02a1"
   },
   "outputs": [
    {
     "data": {
      "text/plain": [
       "(tensor(0.1114), tensor(0.2021))"
      ]
     },
     "execution_count": 15,
     "metadata": {},
     "output_type": "execute_result"
    }
   ],
   "source": [
    "dist_3_abs = (a_3 - mean3).abs().mean()\n",
    "dist_3_sqr = ((a_3 - mean3)**2).mean().sqrt()\n",
    "dist_3_abs, dist_3_sqr"
   ]
  },
  {
   "cell_type": "code",
   "execution_count": 16,
   "metadata": {
    "colab": {
     "base_uri": "https://localhost:8080/"
    },
    "id": "dn9-Tm5YLi6h",
    "outputId": "54ff3fa9-df4d-4103-dfbf-0ecb0db76433"
   },
   "outputs": [
    {
     "data": {
      "text/plain": [
       "(tensor(0.1586), tensor(0.3021))"
      ]
     },
     "execution_count": 16,
     "metadata": {},
     "output_type": "execute_result"
    }
   ],
   "source": [
    "dist_7_abs = (a_3 - mean7).abs().mean()\n",
    "dist_7_sqr = ((a_3 - mean7) ** 2).mean().sqrt()\n",
    "dist_7_abs, dist_7_sqr"
   ]
  },
  {
   "cell_type": "code",
   "execution_count": 17,
   "metadata": {
    "colab": {
     "base_uri": "https://localhost:8080/"
    },
    "id": "5W7H9pWLRDv4",
    "outputId": "2eab4398-c6a8-43a5-dfe2-060722bf420b"
   },
   "outputs": [
    {
     "data": {
      "text/plain": [
       "(torch.Size([1010, 28, 28]), torch.Size([1010, 28, 28]))"
      ]
     },
     "execution_count": 17,
     "metadata": {},
     "output_type": "execute_result"
    }
   ],
   "source": [
    "valid_3_tensor = torch.stack([tensor(Image.open(o)) for o in (path/'valid'/'3').ls()])\n",
    "valid_3_tensor = valid_3_tensor.float()/255\n",
    "\n",
    "valid_7_tensor = torch.stack([tensor(Image.open(o)) for o in (path/'valid'/'3').ls()])\n",
    "valid_7_tensor = valid_7_tensor.float()/255\n",
    "\n",
    "valid_3_tensor.shape, valid_7_tensor.shape"
   ]
  },
  {
   "cell_type": "code",
   "execution_count": 18,
   "metadata": {
    "colab": {
     "base_uri": "https://localhost:8080/"
    },
    "id": "2Ne-LvgcRD2u",
    "outputId": "7014d2aa-889f-4176-95b6-d4ffbe625401"
   },
   "outputs": [
    {
     "data": {
      "text/plain": [
       "tensor(0.1114)"
      ]
     },
     "execution_count": 18,
     "metadata": {},
     "output_type": "execute_result"
    }
   ],
   "source": [
    "def mnist_distance(a,b): return (a-b).abs().mean((-1,-2))\n",
    "mnist_distance(a_3, mean3)"
   ]
  },
  {
   "cell_type": "markdown",
   "metadata": {
    "id": "MCX2rqOEUGT1"
   },
   "source": [
    "There is a lot going on  here. a and b can potentially mismatch in size: There might be the mean 3 ([28,28]) and all of the validation set ([1010,28,28]), in which case the mean 3 is broadcast when doing abs(). For .mean(), the param is a tuple representing -1, the last axis, and -2, the second to last axis, which will leave a single dimension, which might be a scalar in the case of matching a 3 and the mean 3, or a 1 dimensional vector for all of the validation set.\n",
    "\n",
    "First, check out the shapes of `a_3` and `mean3`.\n",
    "\n",
    "Then try it out with the validation set."
   ]
  },
  {
   "cell_type": "code",
   "execution_count": 19,
   "metadata": {
    "colab": {
     "base_uri": "https://localhost:8080/"
    },
    "id": "QnyYaK_ZUw63",
    "outputId": "27ed662c-a143-45cf-d46c-5344bd3e4f70"
   },
   "outputs": [
    {
     "data": {
      "text/plain": [
       "(torch.Size([28, 28]), torch.Size([28, 28]))"
      ]
     },
     "execution_count": 19,
     "metadata": {},
     "output_type": "execute_result"
    }
   ],
   "source": [
    "a_3.shape, mean3.shape"
   ]
  },
  {
   "cell_type": "code",
   "execution_count": 20,
   "metadata": {
    "colab": {
     "base_uri": "https://localhost:8080/"
    },
    "id": "-b2gBBQJViR4",
    "outputId": "b790f89d-a064-4c82-f722-e06892d6ef3e"
   },
   "outputs": [
    {
     "data": {
      "text/plain": [
       "tensor([0.1355, 0.1541, 0.1460,  ..., 0.1249, 0.1330, 0.1320])"
      ]
     },
     "execution_count": 20,
     "metadata": {},
     "output_type": "execute_result"
    }
   ],
   "source": [
    "mnist_distance(valid_3_tensor, mean3)"
   ]
  },
  {
   "cell_type": "code",
   "execution_count": 21,
   "metadata": {
    "colab": {
     "base_uri": "https://localhost:8080/"
    },
    "id": "6yoyG_YApyj-",
    "outputId": "294d2139-f0db-4ddd-e5e0-2b87e7dd4179"
   },
   "outputs": [
    {
     "data": {
      "text/plain": [
       "(torch.Size([12396, 784]), torch.Size([12396, 1]))"
      ]
     },
     "execution_count": 21,
     "metadata": {},
     "output_type": "execute_result"
    }
   ],
   "source": [
    "train_x = torch.cat([stacked_threes, stacked_sevens]).view(-1,28*28)\n",
    "train_y = tensor([1]*len(threes) + [0]*len(sevens)).unsqueeze(1)\n",
    "\n",
    "train_x.shape, train_y.shape"
   ]
  },
  {
   "cell_type": "code",
   "execution_count": 22,
   "metadata": {
    "colab": {
     "base_uri": "https://localhost:8080/"
    },
    "id": "N3tGka2eoNj8",
    "outputId": "a34803b1-63bb-4c66-dedf-a03ee951ee42"
   },
   "outputs": [
    {
     "data": {
      "text/plain": [
       "(torch.Size([784]), tensor([1]))"
      ]
     },
     "execution_count": 22,
     "metadata": {},
     "output_type": "execute_result"
    }
   ],
   "source": [
    "dset = list(zip(train_x, train_y))\n",
    "x,y = dset[0]\n",
    "x.shape, y"
   ]
  },
  {
   "cell_type": "code",
   "execution_count": 23,
   "metadata": {
    "id": "CMtA5U6LwL66"
   },
   "outputs": [],
   "source": [
    "valid_x = torch.cat([valid_3_tensor, valid_7_tensor]).view(-1, 28 * 28)\n",
    "valid_y = tensor([1] * len(valid_3_tensor) + [0] * len(valid_7_tensor)).unsqueeze(1)\n",
    "valid_dset = list(zip(valid_x, valid_y))"
   ]
  },
  {
   "cell_type": "code",
   "execution_count": 24,
   "metadata": {
    "id": "XLlBKlEcNgIf"
   },
   "outputs": [],
   "source": [
    "def init_params(size, std=1.0): return (torch.randn(size)*std).requires_grad_()\n",
    "weights = init_params((28*28,1))"
   ]
  },
  {
   "cell_type": "code",
   "execution_count": 25,
   "metadata": {
    "id": "VL_2sDkAnyCA"
   },
   "outputs": [],
   "source": [
    "bias = init_params(1)"
   ]
  },
  {
   "cell_type": "code",
   "execution_count": 26,
   "metadata": {
    "colab": {
     "base_uri": "https://localhost:8080/"
    },
    "id": "R84AzhhPph25",
    "outputId": "29e9635b-63dd-4177-f798-04fb6c3a6767"
   },
   "outputs": [
    {
     "data": {
      "text/plain": [
       "(tensor([[ 8.1815e-01],\n",
       "         [ 1.1754e+00],\n",
       "         [-3.0355e-01],\n",
       "         [-1.7102e+00],\n",
       "         [-9.3886e-01],\n",
       "         [ 3.2971e-01],\n",
       "         [-1.8256e+00],\n",
       "         [ 1.0272e+00],\n",
       "         [ 4.8704e-02],\n",
       "         [-8.6185e-01],\n",
       "         [-2.8414e-01],\n",
       "         [ 1.1081e+00],\n",
       "         [-6.8195e-01],\n",
       "         [ 1.8050e+00],\n",
       "         [-6.0830e-01],\n",
       "         [ 2.5921e-01],\n",
       "         [ 3.7123e-02],\n",
       "         [ 4.8947e-01],\n",
       "         [ 7.3389e-01],\n",
       "         [ 5.2115e-01],\n",
       "         [-2.5262e+00],\n",
       "         [-2.3456e+00],\n",
       "         [ 1.6908e-01],\n",
       "         [ 5.7864e-01],\n",
       "         [-1.0787e+00],\n",
       "         [-1.2419e+00],\n",
       "         [-5.0968e-02],\n",
       "         [-2.1497e-01],\n",
       "         [-3.3381e-01],\n",
       "         [ 1.7988e+00],\n",
       "         [-2.8278e+00],\n",
       "         [ 1.6511e+00],\n",
       "         [ 4.0563e-01],\n",
       "         [ 4.0034e-02],\n",
       "         [-5.8470e-01],\n",
       "         [-2.7401e+00],\n",
       "         [ 6.8474e-01],\n",
       "         [-2.0397e-01],\n",
       "         [-1.4843e+00],\n",
       "         [-1.2790e+00],\n",
       "         [ 1.9842e+00],\n",
       "         [-1.6468e+00],\n",
       "         [ 8.7450e-01],\n",
       "         [ 3.1352e-01],\n",
       "         [-4.0562e-01],\n",
       "         [ 1.2572e+00],\n",
       "         [ 7.2865e-01],\n",
       "         [-4.3942e-01],\n",
       "         [ 9.8575e-01],\n",
       "         [ 2.1948e+00],\n",
       "         [ 1.7696e+00],\n",
       "         [ 8.0822e-01],\n",
       "         [-4.4101e-01],\n",
       "         [-1.2574e+00],\n",
       "         [-3.9996e-01],\n",
       "         [ 1.6014e-01],\n",
       "         [-9.2177e-01],\n",
       "         [-1.3724e+00],\n",
       "         [ 2.8515e-01],\n",
       "         [-3.2540e-02],\n",
       "         [-5.9299e-01],\n",
       "         [-9.9448e-01],\n",
       "         [-2.8959e-01],\n",
       "         [-8.4839e-01],\n",
       "         [-6.6524e-01],\n",
       "         [-3.2738e-01],\n",
       "         [ 1.8236e-01],\n",
       "         [ 3.2075e-01],\n",
       "         [-4.0526e-01],\n",
       "         [ 1.1910e+00],\n",
       "         [-1.1512e+00],\n",
       "         [-1.3777e+00],\n",
       "         [ 1.6685e+00],\n",
       "         [-4.3066e-01],\n",
       "         [ 8.3864e-01],\n",
       "         [ 5.3174e-01],\n",
       "         [ 1.7515e-01],\n",
       "         [ 6.3628e-01],\n",
       "         [ 3.7818e-01],\n",
       "         [ 1.5413e+00],\n",
       "         [-3.9080e-01],\n",
       "         [ 1.5655e+00],\n",
       "         [-1.8950e+00],\n",
       "         [-5.5344e-01],\n",
       "         [ 1.3399e+00],\n",
       "         [-4.6315e-01],\n",
       "         [ 3.6005e-02],\n",
       "         [ 2.0256e+00],\n",
       "         [-1.5526e+00],\n",
       "         [ 3.7828e-01],\n",
       "         [ 1.7946e+00],\n",
       "         [-1.6776e-01],\n",
       "         [-9.3279e-01],\n",
       "         [-9.9647e-01],\n",
       "         [ 1.5591e+00],\n",
       "         [-7.7985e-01],\n",
       "         [ 1.3838e+00],\n",
       "         [-2.0009e+00],\n",
       "         [ 3.3018e-01],\n",
       "         [ 2.8448e-02],\n",
       "         [-1.5607e+00],\n",
       "         [ 3.3079e-01],\n",
       "         [ 1.7292e-01],\n",
       "         [ 1.0527e+00],\n",
       "         [-6.9474e-01],\n",
       "         [ 9.7950e-02],\n",
       "         [-1.8883e+00],\n",
       "         [ 1.2321e+00],\n",
       "         [ 3.9124e-01],\n",
       "         [-8.3084e-01],\n",
       "         [ 6.1587e-01],\n",
       "         [-6.9571e-01],\n",
       "         [ 2.3231e-01],\n",
       "         [-1.8726e+00],\n",
       "         [ 5.2135e-01],\n",
       "         [-3.4523e-01],\n",
       "         [ 1.9793e+00],\n",
       "         [-4.3014e-01],\n",
       "         [-1.0170e+00],\n",
       "         [ 1.2986e+00],\n",
       "         [ 8.1717e-01],\n",
       "         [ 7.6068e-01],\n",
       "         [-1.2923e+00],\n",
       "         [-4.5209e-01],\n",
       "         [ 1.2938e+00],\n",
       "         [ 6.7560e-01],\n",
       "         [ 1.8117e-01],\n",
       "         [ 1.8739e-01],\n",
       "         [-9.4368e-01],\n",
       "         [-3.0819e-01],\n",
       "         [-1.5953e+00],\n",
       "         [ 8.5907e-01],\n",
       "         [ 1.1687e+00],\n",
       "         [ 5.5249e-01],\n",
       "         [ 5.3882e-01],\n",
       "         [-7.3221e-02],\n",
       "         [ 7.8390e-01],\n",
       "         [ 1.1308e+00],\n",
       "         [ 1.5027e+00],\n",
       "         [ 1.2134e-01],\n",
       "         [-2.0015e-02],\n",
       "         [-4.6926e-01],\n",
       "         [-9.3835e-01],\n",
       "         [-5.0053e-01],\n",
       "         [-2.0489e+00],\n",
       "         [ 1.9415e+00],\n",
       "         [-5.8164e-01],\n",
       "         [ 1.0431e+00],\n",
       "         [ 2.7279e-01],\n",
       "         [ 1.0870e+00],\n",
       "         [-1.8234e+00],\n",
       "         [-1.5894e-01],\n",
       "         [-6.2457e-01],\n",
       "         [ 1.1764e+00],\n",
       "         [ 3.6440e-01],\n",
       "         [-1.1273e+00],\n",
       "         [-3.1863e-01],\n",
       "         [ 2.1598e+00],\n",
       "         [-9.2836e-01],\n",
       "         [-7.6155e-01],\n",
       "         [-4.4842e-01],\n",
       "         [-7.3883e-01],\n",
       "         [-7.4764e-01],\n",
       "         [ 1.0869e+00],\n",
       "         [ 1.1293e-01],\n",
       "         [-1.2078e+00],\n",
       "         [-1.0038e-01],\n",
       "         [-7.0764e-01],\n",
       "         [ 2.0040e-01],\n",
       "         [-4.4045e-01],\n",
       "         [ 6.2061e-02],\n",
       "         [ 6.5021e-01],\n",
       "         [ 5.3254e-01],\n",
       "         [-1.8772e+00],\n",
       "         [-1.2470e+00],\n",
       "         [-4.7631e-01],\n",
       "         [-4.1280e-01],\n",
       "         [-4.5642e-01],\n",
       "         [ 8.7574e-01],\n",
       "         [-8.5599e-01],\n",
       "         [ 8.3556e-01],\n",
       "         [-2.7431e-01],\n",
       "         [-9.1395e-01],\n",
       "         [-8.3580e-01],\n",
       "         [ 8.7429e-01],\n",
       "         [ 2.7944e-01],\n",
       "         [-4.6014e-02],\n",
       "         [ 1.7250e+00],\n",
       "         [ 2.0618e+00],\n",
       "         [ 1.7252e+00],\n",
       "         [ 1.5787e+00],\n",
       "         [ 6.6914e-01],\n",
       "         [-1.0040e+00],\n",
       "         [ 8.1360e-01],\n",
       "         [-3.9430e-01],\n",
       "         [ 5.1642e-01],\n",
       "         [-1.7359e-01],\n",
       "         [-4.4731e-01],\n",
       "         [-1.8066e+00],\n",
       "         [ 1.5855e+00],\n",
       "         [ 1.7140e+00],\n",
       "         [-8.0187e-01],\n",
       "         [ 1.7122e-01],\n",
       "         [ 3.7375e-01],\n",
       "         [ 2.1596e-03],\n",
       "         [-8.5169e-01],\n",
       "         [-4.1508e-01],\n",
       "         [ 4.0435e-01],\n",
       "         [ 1.4162e+00],\n",
       "         [ 2.9214e-01],\n",
       "         [-1.5431e+00],\n",
       "         [ 8.6197e-01],\n",
       "         [ 7.5059e-02],\n",
       "         [ 9.2371e-01],\n",
       "         [-3.9808e-01],\n",
       "         [-6.5351e-01],\n",
       "         [ 3.1686e-01],\n",
       "         [ 4.3845e-01],\n",
       "         [ 4.6883e-01],\n",
       "         [-8.2530e-01],\n",
       "         [ 3.7154e-01],\n",
       "         [-1.8148e+00],\n",
       "         [ 2.0216e+00],\n",
       "         [ 1.3055e+00],\n",
       "         [-8.9431e-01],\n",
       "         [ 4.9938e-02],\n",
       "         [-1.3890e+00],\n",
       "         [ 1.2036e+00],\n",
       "         [-2.4110e-01],\n",
       "         [ 8.9014e-01],\n",
       "         [ 1.0123e+00],\n",
       "         [-1.9919e-01],\n",
       "         [-1.1809e-02],\n",
       "         [-1.3047e+00],\n",
       "         [ 3.3006e-03],\n",
       "         [ 1.1789e+00],\n",
       "         [ 2.8237e-01],\n",
       "         [ 3.9552e-01],\n",
       "         [ 8.3739e-01],\n",
       "         [-2.4454e+00],\n",
       "         [-6.4928e-02],\n",
       "         [-5.9538e-02],\n",
       "         [ 1.0264e+00],\n",
       "         [-2.5875e+00],\n",
       "         [-2.7957e-01],\n",
       "         [ 5.8833e-01],\n",
       "         [ 2.7658e-01],\n",
       "         [ 3.2045e-01],\n",
       "         [-8.7897e-01],\n",
       "         [-3.6278e-01],\n",
       "         [-2.6987e-01],\n",
       "         [-1.0432e+00],\n",
       "         [ 1.0519e+00],\n",
       "         [-5.0146e-01],\n",
       "         [ 3.9509e-01],\n",
       "         [-1.6752e+00],\n",
       "         [ 8.7895e-01],\n",
       "         [-9.2923e-02],\n",
       "         [-5.1753e-01],\n",
       "         [ 3.2580e+00],\n",
       "         [ 8.0515e-01],\n",
       "         [-1.0960e-01],\n",
       "         [-4.1127e-01],\n",
       "         [ 6.0902e-01],\n",
       "         [-3.6027e-02],\n",
       "         [-9.7648e-01],\n",
       "         [-2.6985e-01],\n",
       "         [ 1.3514e+00],\n",
       "         [ 3.6640e-01],\n",
       "         [ 7.6106e-02],\n",
       "         [-1.1648e+00],\n",
       "         [-3.3329e-01],\n",
       "         [-1.5864e-01],\n",
       "         [-1.4212e+00],\n",
       "         [-4.8633e-01],\n",
       "         [-8.2469e-01],\n",
       "         [-8.9354e-01],\n",
       "         [-1.1874e-01],\n",
       "         [-1.0094e+00],\n",
       "         [-7.3050e-01],\n",
       "         [ 8.8722e-01],\n",
       "         [ 2.2030e+00],\n",
       "         [-2.3199e-01],\n",
       "         [-7.3871e-01],\n",
       "         [-1.1348e-02],\n",
       "         [ 1.9896e+00],\n",
       "         [-6.7910e-01],\n",
       "         [-1.3184e+00],\n",
       "         [ 7.5475e-01],\n",
       "         [-4.5809e-01],\n",
       "         [ 8.7438e-01],\n",
       "         [ 1.0400e+00],\n",
       "         [ 2.0223e+00],\n",
       "         [ 6.3818e-01],\n",
       "         [ 7.1744e-01],\n",
       "         [-7.3666e-01],\n",
       "         [-6.1362e-01],\n",
       "         [-1.5271e-01],\n",
       "         [-3.6030e-01],\n",
       "         [ 1.7511e+00],\n",
       "         [-1.7141e-01],\n",
       "         [ 4.3017e-02],\n",
       "         [-1.2163e+00],\n",
       "         [ 7.1581e-01],\n",
       "         [ 3.7939e-01],\n",
       "         [-3.4436e-01],\n",
       "         [ 9.5660e-01],\n",
       "         [ 7.3004e-01],\n",
       "         [ 1.8050e+00],\n",
       "         [-1.0224e+00],\n",
       "         [ 1.9105e+00],\n",
       "         [-1.2292e+00],\n",
       "         [ 7.4122e-01],\n",
       "         [ 9.8088e-02],\n",
       "         [ 7.9054e-01],\n",
       "         [-1.2348e+00],\n",
       "         [-1.1408e+00],\n",
       "         [ 1.2770e+00],\n",
       "         [-5.4902e-02],\n",
       "         [ 1.8127e+00],\n",
       "         [-8.8489e-01],\n",
       "         [ 6.8460e-01],\n",
       "         [-1.5551e-03],\n",
       "         [-1.2784e+00],\n",
       "         [-6.5997e-01],\n",
       "         [-9.8882e-01],\n",
       "         [ 5.9549e-01],\n",
       "         [-7.9031e-01],\n",
       "         [ 1.1088e-01],\n",
       "         [-6.6853e-01],\n",
       "         [-1.2612e+00],\n",
       "         [-2.7670e-01],\n",
       "         [-3.5387e-01],\n",
       "         [ 7.9100e-01],\n",
       "         [-6.4574e-02],\n",
       "         [ 5.8075e-01],\n",
       "         [ 1.1915e+00],\n",
       "         [ 1.7614e+00],\n",
       "         [ 1.3424e+00],\n",
       "         [ 1.2741e+00],\n",
       "         [-2.2217e-02],\n",
       "         [ 4.2162e-01],\n",
       "         [-1.1383e+00],\n",
       "         [ 9.5664e-01],\n",
       "         [ 7.3072e-01],\n",
       "         [-2.3215e+00],\n",
       "         [ 1.9128e-01],\n",
       "         [ 9.7600e-02],\n",
       "         [ 3.2490e-01],\n",
       "         [-2.7394e-01],\n",
       "         [-1.1120e-01],\n",
       "         [ 1.5869e+00],\n",
       "         [-1.0971e+00],\n",
       "         [-5.1874e-01],\n",
       "         [ 2.5449e+00],\n",
       "         [ 6.5515e-02],\n",
       "         [-3.5787e-01],\n",
       "         [ 5.6320e-01],\n",
       "         [-2.3097e-01],\n",
       "         [-1.0714e+00],\n",
       "         [-5.0011e-01],\n",
       "         [ 1.0995e+00],\n",
       "         [-4.5527e-01],\n",
       "         [-7.7834e-01],\n",
       "         [ 1.2729e+00],\n",
       "         [-1.1235e+00],\n",
       "         [-1.0930e-01],\n",
       "         [-5.0665e-01],\n",
       "         [-1.7373e+00],\n",
       "         [-1.0767e-02],\n",
       "         [ 2.0191e+00],\n",
       "         [-9.9074e-01],\n",
       "         [ 1.5192e-01],\n",
       "         [-5.3122e-01],\n",
       "         [-5.7594e-01],\n",
       "         [ 4.3713e-01],\n",
       "         [-3.2828e-01],\n",
       "         [-8.3046e-01],\n",
       "         [-1.3363e+00],\n",
       "         [ 1.7038e+00],\n",
       "         [-2.4518e-01],\n",
       "         [-9.3841e-02],\n",
       "         [-1.2085e+00],\n",
       "         [-1.4443e+00],\n",
       "         [-1.1128e-02],\n",
       "         [ 4.0038e-01],\n",
       "         [ 1.6231e-01],\n",
       "         [ 5.8675e-01],\n",
       "         [ 4.9398e-01],\n",
       "         [-7.8189e-01],\n",
       "         [-1.1913e+00],\n",
       "         [-9.5999e-01],\n",
       "         [ 1.2744e+00],\n",
       "         [ 6.9231e-01],\n",
       "         [ 6.9170e-01],\n",
       "         [ 4.1892e-01],\n",
       "         [-7.3017e-01],\n",
       "         [ 8.6260e-01],\n",
       "         [ 5.3064e-01],\n",
       "         [ 6.0775e-01],\n",
       "         [ 3.5109e-01],\n",
       "         [ 1.4350e+00],\n",
       "         [ 2.6506e+00],\n",
       "         [ 8.1901e-01],\n",
       "         [ 1.2886e-01],\n",
       "         [ 1.7202e-02],\n",
       "         [-5.4698e-01],\n",
       "         [ 1.0634e-01],\n",
       "         [-6.0795e-01],\n",
       "         [ 9.4096e-02],\n",
       "         [ 1.9421e+00],\n",
       "         [ 2.5977e+00],\n",
       "         [-2.3823e+00],\n",
       "         [ 6.1097e-01],\n",
       "         [ 7.2838e-01],\n",
       "         [ 1.0254e+00],\n",
       "         [ 9.9774e-02],\n",
       "         [ 3.9336e-01],\n",
       "         [ 1.1790e+00],\n",
       "         [-1.0989e+00],\n",
       "         [-2.2848e+00],\n",
       "         [-1.0903e-01],\n",
       "         [-1.0001e+00],\n",
       "         [ 1.2888e-01],\n",
       "         [-4.0685e-01],\n",
       "         [-4.3679e-01],\n",
       "         [-2.4231e-01],\n",
       "         [ 7.9960e-01],\n",
       "         [-3.1761e-01],\n",
       "         [-1.7691e+00],\n",
       "         [-1.3642e+00],\n",
       "         [-8.2671e-01],\n",
       "         [ 7.3917e-01],\n",
       "         [ 6.5896e-01],\n",
       "         [-5.4443e-02],\n",
       "         [ 6.0644e-02],\n",
       "         [-8.5705e-01],\n",
       "         [-9.2032e-01],\n",
       "         [ 2.0692e+00],\n",
       "         [ 7.9832e-01],\n",
       "         [ 8.2250e-02],\n",
       "         [-1.0746e+00],\n",
       "         [-2.4467e-01],\n",
       "         [-8.0757e-01],\n",
       "         [ 1.4859e-01],\n",
       "         [-1.3711e+00],\n",
       "         [ 8.3971e-01],\n",
       "         [-3.4186e-02],\n",
       "         [ 1.1973e-01],\n",
       "         [-5.7093e-01],\n",
       "         [-3.7837e-01],\n",
       "         [ 9.2051e-01],\n",
       "         [-2.0551e-01],\n",
       "         [ 5.5529e-02],\n",
       "         [-9.5075e-01],\n",
       "         [ 1.2289e+00],\n",
       "         [-2.3818e+00],\n",
       "         [-6.2516e-01],\n",
       "         [-2.4314e-01],\n",
       "         [ 3.7041e-01],\n",
       "         [ 2.0594e+00],\n",
       "         [ 4.4468e-01],\n",
       "         [-1.5140e+00],\n",
       "         [-2.2019e+00],\n",
       "         [ 9.6698e-01],\n",
       "         [-1.5219e+00],\n",
       "         [-7.2956e-02],\n",
       "         [-2.2416e+00],\n",
       "         [ 5.6880e-01],\n",
       "         [ 6.1415e-01],\n",
       "         [-1.5309e+00],\n",
       "         [-4.7788e-01],\n",
       "         [ 1.4051e+00],\n",
       "         [-1.6975e+00],\n",
       "         [-3.3524e+00],\n",
       "         [ 1.5170e-01],\n",
       "         [ 3.0834e-01],\n",
       "         [ 1.1554e-01],\n",
       "         [-9.4312e-01],\n",
       "         [ 6.6313e-01],\n",
       "         [ 5.4953e-01],\n",
       "         [-3.2181e-01],\n",
       "         [ 2.1934e-01],\n",
       "         [-2.6917e-01],\n",
       "         [-6.6673e-01],\n",
       "         [ 1.1255e+00],\n",
       "         [-7.0378e-01],\n",
       "         [-1.2756e+00],\n",
       "         [-5.2382e-01],\n",
       "         [ 1.7822e+00],\n",
       "         [-4.8611e-01],\n",
       "         [ 1.6916e+00],\n",
       "         [ 2.7628e-01],\n",
       "         [ 1.9247e+00],\n",
       "         [ 1.5081e-01],\n",
       "         [ 8.9343e-01],\n",
       "         [-1.1617e+00],\n",
       "         [-1.0520e-01],\n",
       "         [ 1.1639e+00],\n",
       "         [ 5.5108e-01],\n",
       "         [ 1.6131e-01],\n",
       "         [ 9.8026e-01],\n",
       "         [ 3.1583e-01],\n",
       "         [-2.4804e-01],\n",
       "         [-1.5858e+00],\n",
       "         [ 3.5056e-02],\n",
       "         [-7.3878e-01],\n",
       "         [ 5.2567e-01],\n",
       "         [-5.3388e-01],\n",
       "         [-2.2988e+00],\n",
       "         [ 4.6749e-01],\n",
       "         [ 4.3678e-01],\n",
       "         [ 1.7836e-01],\n",
       "         [ 1.1104e+00],\n",
       "         [-1.4053e-02],\n",
       "         [-9.8081e-02],\n",
       "         [ 4.6145e-01],\n",
       "         [ 3.2272e-03],\n",
       "         [-1.5546e+00],\n",
       "         [-3.2177e-01],\n",
       "         [ 1.3325e-01],\n",
       "         [-1.2110e+00],\n",
       "         [ 2.7483e-01],\n",
       "         [-4.1709e-01],\n",
       "         [-1.6248e+00],\n",
       "         [-6.3358e-01],\n",
       "         [-1.8768e+00],\n",
       "         [ 5.5975e-01],\n",
       "         [-1.6612e+00],\n",
       "         [-3.5832e-01],\n",
       "         [ 2.1101e-01],\n",
       "         [-1.9627e-02],\n",
       "         [-1.2552e-01],\n",
       "         [-4.9373e-01],\n",
       "         [ 2.1926e-01],\n",
       "         [ 8.6738e-01],\n",
       "         [ 8.7546e-01],\n",
       "         [-1.2588e+00],\n",
       "         [ 6.5914e-03],\n",
       "         [ 4.5956e-02],\n",
       "         [-4.7213e-01],\n",
       "         [-1.0772e-01],\n",
       "         [ 6.2930e-01],\n",
       "         [ 9.1116e-01],\n",
       "         [-2.4672e-01],\n",
       "         [-2.0367e-01],\n",
       "         [-1.0202e+00],\n",
       "         [-1.5762e+00],\n",
       "         [ 1.9201e+00],\n",
       "         [ 5.5960e-01],\n",
       "         [ 7.6963e-02],\n",
       "         [-5.4517e-01],\n",
       "         [-5.5663e-01],\n",
       "         [-5.4432e-01],\n",
       "         [-1.5974e-01],\n",
       "         [-2.3615e-01],\n",
       "         [-4.1029e-02],\n",
       "         [-1.1200e+00],\n",
       "         [ 3.0678e-01],\n",
       "         [ 7.6333e-02],\n",
       "         [-6.1814e-01],\n",
       "         [-1.2909e-01],\n",
       "         [-8.9696e-01],\n",
       "         [ 3.3569e-03],\n",
       "         [-8.9323e-01],\n",
       "         [-4.5977e-01],\n",
       "         [ 2.6082e+00],\n",
       "         [ 5.0367e-01],\n",
       "         [-5.0028e-01],\n",
       "         [ 9.7612e-02],\n",
       "         [ 1.0736e+00],\n",
       "         [ 3.2540e-01],\n",
       "         [ 6.6513e-01],\n",
       "         [ 1.4771e+00],\n",
       "         [-1.6050e-01],\n",
       "         [ 1.4621e+00],\n",
       "         [-9.2406e-01],\n",
       "         [-2.6785e-01],\n",
       "         [-1.1081e+00],\n",
       "         [-6.2735e-02],\n",
       "         [ 5.5585e-02],\n",
       "         [-2.4039e+00],\n",
       "         [-8.1663e-01],\n",
       "         [ 2.6672e-01],\n",
       "         [ 7.0683e-01],\n",
       "         [-6.3085e-01],\n",
       "         [-7.7858e-01],\n",
       "         [ 9.3556e-02],\n",
       "         [-1.2845e+00],\n",
       "         [-5.7530e-01],\n",
       "         [-2.1505e-01],\n",
       "         [ 6.3849e-02],\n",
       "         [ 5.5607e-02],\n",
       "         [-1.1743e+00],\n",
       "         [ 6.6703e-02],\n",
       "         [ 1.2965e+00],\n",
       "         [-9.8141e-01],\n",
       "         [-1.1960e+00],\n",
       "         [-8.2404e-01],\n",
       "         [ 2.0998e+00],\n",
       "         [-9.3633e-01],\n",
       "         [-1.3783e+00],\n",
       "         [ 8.9425e-01],\n",
       "         [-4.0156e-01],\n",
       "         [-1.6441e+00],\n",
       "         [-6.2248e-01],\n",
       "         [ 4.1397e-01],\n",
       "         [ 1.2796e+00],\n",
       "         [ 6.7432e-01],\n",
       "         [ 3.7711e-01],\n",
       "         [-1.6279e+00],\n",
       "         [-9.4461e-01],\n",
       "         [ 8.6724e-01],\n",
       "         [-1.5748e+00],\n",
       "         [ 8.4041e-01],\n",
       "         [ 1.1938e+00],\n",
       "         [-1.0268e-01],\n",
       "         [-8.9562e-01],\n",
       "         [ 8.7957e-01],\n",
       "         [-4.4252e-01],\n",
       "         [-1.0500e+00],\n",
       "         [ 7.2916e-01],\n",
       "         [ 1.4009e-01],\n",
       "         [-8.2544e-01],\n",
       "         [-5.9284e-01],\n",
       "         [-9.6110e-01],\n",
       "         [-2.7644e-01],\n",
       "         [-3.2379e-01],\n",
       "         [ 1.6547e+00],\n",
       "         [-5.1244e-01],\n",
       "         [ 7.6061e-01],\n",
       "         [-1.7324e+00],\n",
       "         [ 4.3094e-01],\n",
       "         [-7.1184e-01],\n",
       "         [-9.0776e-01],\n",
       "         [-9.8704e-01],\n",
       "         [ 8.9265e-01],\n",
       "         [ 2.6685e-01],\n",
       "         [-1.1515e+00],\n",
       "         [-7.9679e-01],\n",
       "         [-3.4871e-01],\n",
       "         [-1.3719e+00],\n",
       "         [-1.6746e-01],\n",
       "         [ 2.8546e-01],\n",
       "         [ 1.9264e-01],\n",
       "         [-2.6888e-01],\n",
       "         [ 2.4176e+00],\n",
       "         [-1.3139e+00],\n",
       "         [-1.5563e+00],\n",
       "         [-2.0914e+00],\n",
       "         [-1.2173e+00],\n",
       "         [-1.4717e+00],\n",
       "         [-7.3267e-01],\n",
       "         [-2.7692e-01],\n",
       "         [-1.5637e+00],\n",
       "         [-5.7396e-01],\n",
       "         [-2.0277e-02],\n",
       "         [ 4.7411e-01],\n",
       "         [-4.1077e-01],\n",
       "         [-3.0443e-02],\n",
       "         [-1.4025e+00],\n",
       "         [-9.2439e-01],\n",
       "         [-2.7685e-01],\n",
       "         [-8.4208e-01],\n",
       "         [-6.0870e-02],\n",
       "         [ 1.5584e+00],\n",
       "         [ 1.1630e+00],\n",
       "         [ 2.0850e+00],\n",
       "         [ 1.3267e+00],\n",
       "         [ 1.8500e+00],\n",
       "         [ 2.4156e-01],\n",
       "         [ 6.5248e-01],\n",
       "         [-5.2840e-01],\n",
       "         [-2.8948e-01],\n",
       "         [-4.2888e-02],\n",
       "         [-7.1857e-01],\n",
       "         [-1.4420e+00],\n",
       "         [ 1.0740e-02],\n",
       "         [-7.4776e-01],\n",
       "         [ 4.4169e-01],\n",
       "         [ 1.8195e-01],\n",
       "         [-6.9749e-03],\n",
       "         [-6.1140e-01],\n",
       "         [-1.5457e+00],\n",
       "         [-5.7432e-01],\n",
       "         [-4.4088e-01],\n",
       "         [-4.2707e-01],\n",
       "         [ 6.1398e-02],\n",
       "         [-6.9173e-02],\n",
       "         [-9.3679e-01],\n",
       "         [ 1.0144e+00],\n",
       "         [-3.3301e-01],\n",
       "         [ 7.4473e-01],\n",
       "         [ 1.9977e+00],\n",
       "         [-1.1671e+00],\n",
       "         [ 8.2153e-01],\n",
       "         [-2.0329e-01],\n",
       "         [-8.4934e-01],\n",
       "         [ 1.0339e+00],\n",
       "         [-1.3017e+00],\n",
       "         [ 4.2422e-01],\n",
       "         [ 1.2379e+00],\n",
       "         [-2.0484e+00],\n",
       "         [-1.4354e+00],\n",
       "         [-3.6202e-01],\n",
       "         [-1.2730e-01],\n",
       "         [ 9.1115e-01],\n",
       "         [ 1.5412e+00],\n",
       "         [-9.5107e-01],\n",
       "         [-6.9924e-01],\n",
       "         [-1.4296e+00],\n",
       "         [ 9.7588e-01],\n",
       "         [-4.0692e-01],\n",
       "         [-1.2244e+00],\n",
       "         [-5.0822e-01],\n",
       "         [-2.4528e+00],\n",
       "         [-5.7281e-01],\n",
       "         [-5.9688e-01],\n",
       "         [ 9.6120e-01],\n",
       "         [-2.1840e-01],\n",
       "         [ 8.8428e-01],\n",
       "         [ 1.8603e+00],\n",
       "         [-8.1416e-01],\n",
       "         [ 1.4893e+00],\n",
       "         [-1.9453e+00],\n",
       "         [-1.6816e+00],\n",
       "         [-5.9420e-01],\n",
       "         [ 1.4663e+00],\n",
       "         [ 6.0511e-01],\n",
       "         [-1.3446e+00],\n",
       "         [-2.8324e-01],\n",
       "         [ 8.3405e-01],\n",
       "         [-1.4518e-01],\n",
       "         [-1.5357e+00],\n",
       "         [-1.5028e+00],\n",
       "         [-1.3027e+00],\n",
       "         [-5.5756e-02],\n",
       "         [-4.8296e-02],\n",
       "         [-2.7799e+00],\n",
       "         [ 1.5156e+00],\n",
       "         [ 2.9286e+00],\n",
       "         [-6.7295e-01],\n",
       "         [ 3.4756e-01],\n",
       "         [-1.2231e+00],\n",
       "         [ 1.1447e+00],\n",
       "         [ 1.6927e+00],\n",
       "         [ 1.3486e-02],\n",
       "         [ 1.7036e-02],\n",
       "         [ 4.5025e-01],\n",
       "         [ 5.2017e-01],\n",
       "         [ 9.7628e-01],\n",
       "         [ 6.1014e-01],\n",
       "         [-7.6961e-01],\n",
       "         [ 8.3925e-01],\n",
       "         [ 7.2627e-01],\n",
       "         [-1.9321e-01],\n",
       "         [ 2.4631e-01],\n",
       "         [-9.2040e-01],\n",
       "         [ 2.0916e+00],\n",
       "         [-3.1430e-01],\n",
       "         [ 1.4402e+00],\n",
       "         [-1.2985e+00],\n",
       "         [-1.3122e+00],\n",
       "         [-8.1645e-01],\n",
       "         [-8.9668e-01],\n",
       "         [ 1.6991e+00],\n",
       "         [ 7.0785e-01],\n",
       "         [-4.6226e-01],\n",
       "         [ 1.0939e+00],\n",
       "         [-5.9952e-01],\n",
       "         [ 9.1204e-01],\n",
       "         [ 9.3247e-01],\n",
       "         [ 6.2879e-01],\n",
       "         [-1.8493e-01],\n",
       "         [-3.6544e-01],\n",
       "         [-1.8432e-02],\n",
       "         [ 7.0814e-01],\n",
       "         [-6.7235e-01],\n",
       "         [ 7.0118e-01],\n",
       "         [-1.3788e-01],\n",
       "         [ 7.6127e-01],\n",
       "         [ 7.7463e-02],\n",
       "         [-1.5125e+00],\n",
       "         [ 2.0370e-01]], requires_grad=True),\n",
       " tensor([0.1610], requires_grad=True))"
      ]
     },
     "execution_count": 26,
     "metadata": {},
     "output_type": "execute_result"
    }
   ],
   "source": [
    "weights,bias"
   ]
  },
  {
   "cell_type": "code",
   "execution_count": 27,
   "metadata": {
    "colab": {
     "base_uri": "https://localhost:8080/"
    },
    "id": "Xf6BJMR8pjGT",
    "outputId": "52eda4f7-6717-4abb-8040-c6967e7e34d6"
   },
   "outputs": [
    {
     "data": {
      "text/plain": [
       "tensor([-6.2142], grad_fn=<AddBackward0>)"
      ]
     },
     "execution_count": 27,
     "metadata": {},
     "output_type": "execute_result"
    }
   ],
   "source": [
    "(train_x[0]*weights.T).sum() + bias"
   ]
  },
  {
   "cell_type": "markdown",
   "metadata": {
    "id": "NiW1NviVqJ6i"
   },
   "source": [
    "`train_x[0]` is a row vector of 768 length and `weights` is a column vector, 768 height. Using `*` does elementwise multiply, so summing them gets us a single number. You can also do this for the same result:"
   ]
  },
  {
   "cell_type": "code",
   "execution_count": 28,
   "metadata": {
    "colab": {
     "base_uri": "https://localhost:8080/"
    },
    "id": "bRte7Kt-py5E",
    "outputId": "5b73d5c6-2cb0-4d24-9ae0-e942d76bb9fe"
   },
   "outputs": [
    {
     "data": {
      "text/plain": [
       "tensor([-6.2142], grad_fn=<AddBackward0>)"
      ]
     },
     "execution_count": 28,
     "metadata": {},
     "output_type": "execute_result"
    }
   ],
   "source": [
    "train_x[0]@weights + bias"
   ]
  },
  {
   "cell_type": "code",
   "execution_count": 29,
   "metadata": {
    "colab": {
     "base_uri": "https://localhost:8080/"
    },
    "id": "1ET2xyXkqn-E",
    "outputId": "bedfe702-ee68-46c5-ece0-1a1d55f06754"
   },
   "outputs": [
    {
     "data": {
      "text/plain": [
       "tensor([[ -6.2142],\n",
       "        [-10.1342],\n",
       "        [-14.2746],\n",
       "        ...,\n",
       "        [ -3.8763],\n",
       "        [ -5.0109],\n",
       "        [ -7.1460]], grad_fn=<AddBackward0>)"
      ]
     },
     "execution_count": 29,
     "metadata": {},
     "output_type": "execute_result"
    }
   ],
   "source": [
    "def linear1(xb): return xb@weights + bias\n",
    "\n",
    "preds=linear1(train_x)\n",
    "preds"
   ]
  },
  {
   "cell_type": "markdown",
   "metadata": {
    "id": "xTIL-C9Qw1vH"
   },
   "source": [
    "Again, this works because of broadcasting. xb is the tensor of all of the images in the training set. So you do matrix multiplication by the weights, and broadcast across the training set. Also, the bias is a scalar addition that broadcasts across the training set in the obvious manner."
   ]
  },
  {
   "cell_type": "code",
   "execution_count": 30,
   "metadata": {
    "id": "fRtZmi9ysMF1"
   },
   "outputs": [],
   "source": [
    "corrects = (preds>0.0).float() == train_y"
   ]
  },
  {
   "cell_type": "code",
   "execution_count": 31,
   "metadata": {
    "colab": {
     "base_uri": "https://localhost:8080/"
    },
    "id": "nrJzz8Vcx4X_",
    "outputId": "fa8b6f5e-4e22-475b-e881-05086ede1430"
   },
   "outputs": [
    {
     "data": {
      "text/plain": [
       "tensor([[False],\n",
       "        [False],\n",
       "        [False],\n",
       "        ...,\n",
       "        [ True],\n",
       "        [ True],\n",
       "        [ True]])"
      ]
     },
     "execution_count": 31,
     "metadata": {},
     "output_type": "execute_result"
    }
   ],
   "source": [
    "corrects"
   ]
  },
  {
   "cell_type": "code",
   "execution_count": 32,
   "metadata": {
    "colab": {
     "base_uri": "https://localhost:8080/"
    },
    "id": "zeqNhg2Vx5Wa",
    "outputId": "9f15362b-ba08-40c7-9308-9d33cbc21716"
   },
   "outputs": [
    {
     "data": {
      "text/plain": [
       "0.41053566336631775"
      ]
     },
     "execution_count": 32,
     "metadata": {},
     "output_type": "execute_result"
    }
   ],
   "source": [
    "corrects.float().mean().item()"
   ]
  },
  {
   "cell_type": "code",
   "execution_count": 33,
   "metadata": {
    "id": "iwJ2kdF1gsEf"
   },
   "outputs": [],
   "source": [
    "def sigmoid(x): return 1/(1 + torch.exp(-x))\n",
    "\n",
    "def mnist_loss(predictions, targets):\n",
    "    predictions = predictions.sigmoid()\n",
    "    return torch.where(targets==1, 1-predictions, predictions).mean()"
   ]
  },
  {
   "cell_type": "code",
   "execution_count": 35,
   "metadata": {},
   "outputs": [
    {
     "data": {
      "text/plain": [
       "(torch.Size([256, 784]), torch.Size([256, 1]))"
      ]
     },
     "execution_count": 35,
     "metadata": {},
     "output_type": "execute_result"
    }
   ],
   "source": [
    "# Starting at Putting it all together on p 171\n",
    "\n",
    "weights = init_params((28*28,1))\n",
    "bias = init_params(1)\n",
    "\n",
    "dl = DataLoader(dset, batch_size=256)\n",
    "xb, yb = first(dl)\n",
    "xb.shape, yb.shape"
   ]
  },
  {
   "cell_type": "code",
   "execution_count": 37,
   "metadata": {},
   "outputs": [],
   "source": [
    "valid_dl = DataLoader(valid_dset, batch_size=256)"
   ]
  },
  {
   "cell_type": "code",
   "execution_count": 38,
   "metadata": {},
   "outputs": [
    {
     "data": {
      "text/plain": [
       "torch.Size([4, 784])"
      ]
     },
     "execution_count": 38,
     "metadata": {},
     "output_type": "execute_result"
    }
   ],
   "source": [
    "batch = train_x[:4]\n",
    "batch.shape"
   ]
  },
  {
   "cell_type": "code",
   "execution_count": 39,
   "metadata": {},
   "outputs": [
    {
     "data": {
      "text/plain": [
       "tensor([[ -8.2120],\n",
       "        [-10.8161],\n",
       "        [  3.2819],\n",
       "        [  4.3757]], grad_fn=<AddBackward0>)"
      ]
     },
     "execution_count": 39,
     "metadata": {},
     "output_type": "execute_result"
    }
   ],
   "source": [
    "preds = linear1(batch) # see cell 29\n",
    "preds"
   ]
  },
  {
   "cell_type": "code",
   "execution_count": 40,
   "metadata": {},
   "outputs": [
    {
     "data": {
      "text/plain": [
       "tensor(0.5121, grad_fn=<MeanBackward0>)"
      ]
     },
     "execution_count": 40,
     "metadata": {},
     "output_type": "execute_result"
    }
   ],
   "source": [
    "loss = mnist_loss(preds, train_y[:4])\n",
    "loss"
   ]
  },
  {
   "cell_type": "code",
   "execution_count": 41,
   "metadata": {},
   "outputs": [
    {
     "data": {
      "text/plain": [
       "(torch.Size([784, 1]), tensor(-0.0018), tensor([-0.0119]))"
      ]
     },
     "execution_count": 41,
     "metadata": {},
     "output_type": "execute_result"
    }
   ],
   "source": [
    "loss.backward()\n",
    "weights.grad.shape, weights.grad.mean(), bias.grad"
   ]
  },
  {
   "cell_type": "code",
   "execution_count": null,
   "metadata": {},
   "outputs": [],
   "source": [
    "def calc_grad(xb, yb, model):\n",
    "    preds = model(xb)\n",
    "    loss = mnist_loss(preds, yb)\n",
    "    loss.backward()"
   ]
  }
 ],
 "metadata": {
  "colab": {
   "authorship_tag": "ABX9TyNh5uyUUbEJZbImDf41bhNF",
   "include_colab_link": true,
   "provenance": []
  },
  "kernelspec": {
   "display_name": "Python 3 (ipykernel)",
   "language": "python",
   "name": "python3"
  },
  "language_info": {
   "codemirror_mode": {
    "name": "ipython",
    "version": 3
   },
   "file_extension": ".py",
   "mimetype": "text/x-python",
   "name": "python",
   "nbconvert_exporter": "python",
   "pygments_lexer": "ipython3",
   "version": "3.8.10"
  }
 },
 "nbformat": 4,
 "nbformat_minor": 1
}
