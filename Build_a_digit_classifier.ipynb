{
  "nbformat": 4,
  "nbformat_minor": 0,
  "metadata": {
    "colab": {
      "provenance": [],
      "authorship_tag": "ABX9TyNW8D6VQBJqsbEVPKJNteyg",
      "include_colab_link": true
    },
    "kernelspec": {
      "name": "python3",
      "display_name": "Python 3"
    },
    "language_info": {
      "name": "python"
    }
  },
  "cells": [
    {
      "cell_type": "markdown",
      "metadata": {
        "id": "view-in-github",
        "colab_type": "text"
      },
      "source": [
        "<a href=\"https://colab.research.google.com/github/jamesliudotcc/fast_ai/blob/main/Build_a_digit_classifier.ipynb\" target=\"_parent\"><img src=\"https://colab.research.google.com/assets/colab-badge.svg\" alt=\"Open In Colab\"/></a>"
      ]
    },
    {
      "cell_type": "code",
      "execution_count": null,
      "metadata": {
        "id": "nvFiwJENmnXR"
      },
      "outputs": [],
      "source": [
        "!pip install -Uqq fastai"
      ]
    },
    {
      "cell_type": "code",
      "source": [],
      "metadata": {
        "id": "UreHf80QEgGf"
      },
      "execution_count": null,
      "outputs": []
    },
    {
      "cell_type": "code",
      "source": [
        "from fastai.vision.all import *"
      ],
      "metadata": {
        "id": "3MQagfePRnvR"
      },
      "execution_count": null,
      "outputs": []
    },
    {
      "cell_type": "code",
      "source": [
        "path = untar_data(URLs.MNIST_SAMPLE)"
      ],
      "metadata": {
        "colab": {
          "base_uri": "https://localhost:8080/",
          "height": 37
        },
        "id": "_6u8h7gQTCFc",
        "outputId": "9f003106-8622-452f-b14d-dcbd658e8136"
      },
      "execution_count": null,
      "outputs": [
        {
          "output_type": "display_data",
          "data": {
            "text/plain": [
              "<IPython.core.display.HTML object>"
            ],
            "text/html": [
              "\n",
              "<style>\n",
              "    /* Turns off some styling */\n",
              "    progress {\n",
              "        /* gets rid of default border in Firefox and Opera. */\n",
              "        border: none;\n",
              "        /* Needs to be in here for Safari polyfill so background images work as expected. */\n",
              "        background-size: auto;\n",
              "    }\n",
              "    progress:not([value]), progress:not([value])::-webkit-progress-bar {\n",
              "        background: repeating-linear-gradient(45deg, #7e7e7e, #7e7e7e 10px, #5c5c5c 10px, #5c5c5c 20px);\n",
              "    }\n",
              "    .progress-bar-interrupted, .progress-bar-interrupted::-webkit-progress-bar {\n",
              "        background: #F44336;\n",
              "    }\n",
              "</style>\n"
            ]
          },
          "metadata": {}
        },
        {
          "output_type": "display_data",
          "data": {
            "text/plain": [
              "<IPython.core.display.HTML object>"
            ],
            "text/html": [
              "\n",
              "    <div>\n",
              "      <progress value='3219456' class='' max='3214948' style='width:300px; height:20px; vertical-align: middle;'></progress>\n",
              "      100.14% [3219456/3214948 00:00&lt;00:00]\n",
              "    </div>\n",
              "    "
            ]
          },
          "metadata": {}
        }
      ]
    },
    {
      "cell_type": "code",
      "source": [
        "path.ls()"
      ],
      "metadata": {
        "colab": {
          "base_uri": "https://localhost:8080/"
        },
        "id": "YUNtXNYlTN-4",
        "outputId": "7bb99c0e-45e8-4c10-91f8-9f9e433d7400"
      },
      "execution_count": null,
      "outputs": [
        {
          "output_type": "execute_result",
          "data": {
            "text/plain": [
              "(#3) [Path('/root/.fastai/data/mnist_sample/valid'),Path('/root/.fastai/data/mnist_sample/labels.csv'),Path('/root/.fastai/data/mnist_sample/train')]"
            ]
          },
          "metadata": {},
          "execution_count": 5
        }
      ]
    },
    {
      "cell_type": "code",
      "source": [
        "(path/\"train\").ls()"
      ],
      "metadata": {
        "id": "CLIWZ-gYbyhw",
        "outputId": "6c488572-08e7-4bde-d14b-c5cb6d8d3c03",
        "colab": {
          "base_uri": "https://localhost:8080/"
        }
      },
      "execution_count": null,
      "outputs": [
        {
          "output_type": "execute_result",
          "data": {
            "text/plain": [
              "(#2) [Path('/root/.fastai/data/mnist_sample/train/7'),Path('/root/.fastai/data/mnist_sample/train/3')]"
            ]
          },
          "metadata": {},
          "execution_count": 6
        }
      ]
    },
    {
      "cell_type": "code",
      "source": [
        "threes = (path/\"train\"/\"3\").ls().sorted()\n",
        "sevens = (path/\"train\"/\"7\").ls().sorted()"
      ],
      "metadata": {
        "id": "swtgWpcVnedT"
      },
      "execution_count": null,
      "outputs": []
    },
    {
      "cell_type": "code",
      "source": [
        "Image??  # Ask for help on Image"
      ],
      "metadata": {
        "id": "IHj4oAbgosJo"
      },
      "execution_count": null,
      "outputs": []
    },
    {
      "cell_type": "code",
      "source": [
        "im3_path = threes[1]\n",
        "im3 = Image.open(im3_path)  # Image is PIL.Image\n",
        "im3"
      ],
      "metadata": {
        "colab": {
          "base_uri": "https://localhost:8080/",
          "height": 45
        },
        "id": "nyILUNZ4oOHB",
        "outputId": "f63767bf-86ea-4e3f-de80-904315629c29"
      },
      "execution_count": null,
      "outputs": [
        {
          "output_type": "execute_result",
          "data": {
            "text/plain": [
              "<PIL.PngImagePlugin.PngImageFile image mode=L size=28x28>"
            ],
            "image/png": "[encoded data removed]"
          },
          "metadata": {},
          "execution_count": 9
        }
      ]
    },
    {
      "cell_type": "code",
      "source": [
        "array??  # Numpy's array"
      ],
      "metadata": {
        "id": "9w4SWpijo2_8"
      },
      "execution_count": null,
      "outputs": []
    },
    {
      "cell_type": "code",
      "source": [
        "array(im3)[:, 8:-8] # whole height, truncate the width to fit."
      ],
      "metadata": {
        "colab": {
          "base_uri": "https://localhost:8080/"
        },
        "id": "Z1G1HzKtpHUl",
        "outputId": "48bd02c3-f2af-41e7-96e7-142b1e649b21"
      },
      "execution_count": null,
      "outputs": [
        {
          "output_type": "execute_result",
          "data": {
            "text/plain": [
              "array([[  0,   0,   0,   0,   0,   0,   0,   0,   0,   0,   0,   0],\n",
              "       [  0,   0,   0,   0,   0,   0,   0,   0,   0,   0,   0,   0],\n",
              "       [  0,   0,   0,   0,   0,   0,   0,   0,   0,   0,   0,   0],\n",
              "       [  0,   0,   0,   0,   0,   0,   0,   0,   0,   0,   0,   0],\n",
              "       [  0,   0,   0,   0,   0,   0,   0,   0,   0,   0,   0,   0],\n",
              "       [  0,  29, 150, 195, 254, 255, 254, 176, 193, 150,  96,   0],\n",
              "       [166, 224, 253, 253, 234, 196, 253, 253, 253, 253, 233,   0],\n",
              "       [253, 187,  46,  10,   8,   4,  10, 194, 253, 253, 233,   0],\n",
              "       [230,  48,   0,   0,   0,   0,   0, 192, 253, 253, 156,   0],\n",
              "       [ 15,   0,   0,   0,   0,   0,  43, 224, 253, 245,  74,   0],\n",
              "       [  0,   0,   0,   0,   0,   0, 249, 253, 245, 126,   0,   0],\n",
              "       [  0,   0,   0,  14, 101, 223, 253, 248, 124,   0,   0,   0],\n",
              "       [  0,  11, 166, 239, 253, 253, 253, 187,  30,   0,   0,   0],\n",
              "       [  0,  16, 248, 250, 253, 253, 253, 253, 232, 213, 111,   2],\n",
              "       [  0,   0,   0,  43,  98,  98, 208, 253, 253, 253, 253, 187],\n",
              "       [  0,   0,   0,   0,   0,   0,   9,  51, 119, 253, 253, 253],\n",
              "       [  0,   0,   0,   0,   0,   0,   0,   0,   1, 183, 253, 253],\n",
              "       [  0,   0,   0,   0,   0,   0,   0,   0,   0, 182, 253, 253],\n",
              "       [  0,   0,   0,   0,   0,   0,   0,   0,  85, 249, 253, 253],\n",
              "       [  0,   0,   0,   0,   0,   0,   0,  60, 214, 253, 253, 173],\n",
              "       [  0,   0,   0,   0,   0,   0,  98, 247, 253, 253, 226,   9],\n",
              "       [  0,   0,   0,   0,  42, 150, 252, 253, 253, 233,  53,   0],\n",
              "       [ 42,  60, 115, 159, 240, 253, 253, 250, 175,  25,   0,   0],\n",
              "       [253, 253, 253, 253, 253, 253, 197,  86,   0,   0,   0,   0],\n",
              "       [253, 253, 253, 253, 232,  67,   1,   0,   0,   0,   0,   0],\n",
              "       [  0,   0,   0,   0,   0,   0,   0,   0,   0,   0,   0,   0],\n",
              "       [  0,   0,   0,   0,   0,   0,   0,   0,   0,   0,   0,   0],\n",
              "       [  0,   0,   0,   0,   0,   0,   0,   0,   0,   0,   0,   0]],\n",
              "      dtype=uint8)"
            ]
          },
          "metadata": {},
          "execution_count": 18
        }
      ]
    },
    {
      "cell_type": "code",
      "source": [
        "tensor(im3)[:, 8:-8] # whole height, truncate the width to fit."
      ],
      "metadata": {
        "colab": {
          "base_uri": "https://localhost:8080/"
        },
        "id": "tnc7HcVRpnFJ",
        "outputId": "67039a18-75a0-4e93-9714-5e1ab485f227"
      },
      "execution_count": null,
      "outputs": [
        {
          "output_type": "execute_result",
          "data": {
            "text/plain": [
              "tensor([[  0,   0,   0,   0,   0,   0,   0,   0,   0,   0,   0,   0],\n",
              "        [  0,   0,   0,   0,   0,   0,   0,   0,   0,   0,   0,   0],\n",
              "        [  0,   0,   0,   0,   0,   0,   0,   0,   0,   0,   0,   0],\n",
              "        [  0,   0,   0,   0,   0,   0,   0,   0,   0,   0,   0,   0],\n",
              "        [  0,   0,   0,   0,   0,   0,   0,   0,   0,   0,   0,   0],\n",
              "        [  0,  29, 150, 195, 254, 255, 254, 176, 193, 150,  96,   0],\n",
              "        [166, 224, 253, 253, 234, 196, 253, 253, 253, 253, 233,   0],\n",
              "        [253, 187,  46,  10,   8,   4,  10, 194, 253, 253, 233,   0],\n",
              "        [230,  48,   0,   0,   0,   0,   0, 192, 253, 253, 156,   0],\n",
              "        [ 15,   0,   0,   0,   0,   0,  43, 224, 253, 245,  74,   0],\n",
              "        [  0,   0,   0,   0,   0,   0, 249, 253, 245, 126,   0,   0],\n",
              "        [  0,   0,   0,  14, 101, 223, 253, 248, 124,   0,   0,   0],\n",
              "        [  0,  11, 166, 239, 253, 253, 253, 187,  30,   0,   0,   0],\n",
              "        [  0,  16, 248, 250, 253, 253, 253, 253, 232, 213, 111,   2],\n",
              "        [  0,   0,   0,  43,  98,  98, 208, 253, 253, 253, 253, 187],\n",
              "        [  0,   0,   0,   0,   0,   0,   9,  51, 119, 253, 253, 253],\n",
              "        [  0,   0,   0,   0,   0,   0,   0,   0,   1, 183, 253, 253],\n",
              "        [  0,   0,   0,   0,   0,   0,   0,   0,   0, 182, 253, 253],\n",
              "        [  0,   0,   0,   0,   0,   0,   0,   0,  85, 249, 253, 253],\n",
              "        [  0,   0,   0,   0,   0,   0,   0,  60, 214, 253, 253, 173],\n",
              "        [  0,   0,   0,   0,   0,   0,  98, 247, 253, 253, 226,   9],\n",
              "        [  0,   0,   0,   0,  42, 150, 252, 253, 253, 233,  53,   0],\n",
              "        [ 42,  60, 115, 159, 240, 253, 253, 250, 175,  25,   0,   0],\n",
              "        [253, 253, 253, 253, 253, 253, 197,  86,   0,   0,   0,   0],\n",
              "        [253, 253, 253, 253, 232,  67,   1,   0,   0,   0,   0,   0],\n",
              "        [  0,   0,   0,   0,   0,   0,   0,   0,   0,   0,   0,   0],\n",
              "        [  0,   0,   0,   0,   0,   0,   0,   0,   0,   0,   0,   0],\n",
              "        [  0,   0,   0,   0,   0,   0,   0,   0,   0,   0,   0,   0]],\n",
              "       dtype=torch.uint8)"
            ]
          },
          "metadata": {},
          "execution_count": 19
        }
      ]
    },
    {
      "cell_type": "code",
      "source": [
        "seven_tensors = [tensor(Image.open(f)) for f in sevens]\n",
        "three_tensors = [tensor(Image.open(f)) for f in threes]\n",
        "len(three_tensors),len(seven_tensors)"
      ],
      "metadata": {
        "colab": {
          "base_uri": "https://localhost:8080/"
        },
        "id": "d91tQyQypRsW",
        "outputId": "3c6374cd-5480-4160-a871-316c62cbeeb3"
      },
      "execution_count": null,
      "outputs": [
        {
          "output_type": "execute_result",
          "data": {
            "text/plain": [
              "(6131, 6265)"
            ]
          },
          "metadata": {},
          "execution_count": 20
        }
      ]
    },
    {
      "cell_type": "markdown",
      "source": [
        "I gave the following some thought, why would it work to .float() and /255? Because of broadcasting. If you apply a method like float that works on individual numbers, or do an arithmetic operation, it broadcasts. Ok, that was tripping me up. "
      ],
      "metadata": {
        "id": "JnC7TeEAultE"
      }
    },
    {
      "cell_type": "code",
      "source": [
        "stacked_sevens = torch.stack(seven_tensors).float()/255\n",
        "stacked_threes = torch.stack(three_tensors).float()/255\n",
        "\n",
        "stacked_threes.shape"
      ],
      "metadata": {
        "colab": {
          "base_uri": "https://localhost:8080/"
        },
        "id": "GHEVDpvmuJNA",
        "outputId": "84e20f68-6460-4695-b9df-cae27c96c752"
      },
      "execution_count": null,
      "outputs": [
        {
          "output_type": "execute_result",
          "data": {
            "text/plain": [
              "torch.Size([6131, 28, 28])"
            ]
          },
          "metadata": {},
          "execution_count": 21
        }
      ]
    },
    {
      "cell_type": "code",
      "source": [
        "mean3 = stacked_threes.mean(0)\n",
        "mean7 = stacked_sevens.mean(0)\n",
        "\n",
        "show_image(mean3),show_image(mean7)"
      ],
      "metadata": {
        "colab": {
          "base_uri": "https://localhost:8080/",
          "height": 228
        },
        "id": "uvQ7AaWnu87b",
        "outputId": "9791299a-f5a5-43f3-c8e1-7c8eed9a2143"
      },
      "execution_count": null,
      "outputs": [
        {
          "output_type": "execute_result",
          "data": {
            "text/plain": [
              "(<Axes: >, <Axes: >)"
            ]
          },
          "metadata": {},
          "execution_count": 23
        },
        {
          "output_type": "display_data",
          "data": {
            "text/plain": [
              "<Figure size 100x100 with 1 Axes>"
            ],
            "image/png": "[encoded data removed]"
          },
          "metadata": {}
        },
        {
          "output_type": "display_data",
          "data": {
            "text/plain": [
              "<Figure size 100x100 with 1 Axes>"
            ],
            "image/png": "[encoded data removed]"
          },
          "metadata": {}
        }
      ]
    },
    {
      "cell_type": "code",
      "source": [
        "show_image(mean3-mean7)"
      ],
      "metadata": {
        "colab": {
          "base_uri": "https://localhost:8080/",
          "height": 131
        },
        "id": "xPctJzP10ta6",
        "outputId": "43fd28e1-2970-4ad6-a92c-fbf95d96e9d6"
      },
      "execution_count": null,
      "outputs": [
        {
          "output_type": "execute_result",
          "data": {
            "text/plain": [
              "<Axes: >"
            ]
          },
          "metadata": {},
          "execution_count": 25
        },
        {
          "output_type": "display_data",
          "data": {
            "text/plain": [
              "<Figure size 100x100 with 1 Axes>"
            ],
            "image/png": "[encoded data removed]"
          },
          "metadata": {}
        }
      ]
    }
  ]
}